{
 "cells": [
  {
   "attachments": {},
   "cell_type": "markdown",
   "metadata": {},
   "source": [
    "# Getting started with Python! The basics\n",
    "\n",
    "This notebook is aimed at giving the basics in Python programming for simple general basic usage, needed for energy modelling tasks.\n",
    "\n",
    "For more material, please checkout the [LEarning material](https://www.youtube.com/c/CSDojo/playlists)\n",
    "\n",
    "Note: this is a markdown cell"
   ]
  },
  {
   "attachments": {},
   "cell_type": "markdown",
   "metadata": {},
   "source": [
    "## Introduction to variables"
   ]
  },
  {
   "attachments": {},
   "cell_type": "markdown",
   "metadata": {},
   "source": [
    "In the following, the variable `a` is created with value 1 (type integer or `int` in python)"
   ]
  },
  {
   "cell_type": "code",
   "execution_count": null,
   "metadata": {},
   "outputs": [],
   "source": [
    "a = 1  # variable definition\n",
    "a  # see the value (1)"
   ]
  },
  {
   "attachments": {},
   "cell_type": "markdown",
   "metadata": {},
   "source": [
    "Check the type of the variable `a`"
   ]
  },
  {
   "cell_type": "code",
   "execution_count": null,
   "metadata": {},
   "outputs": [],
   "source": [
    "type(a)"
   ]
  },
  {
   "attachments": {},
   "cell_type": "markdown",
   "metadata": {},
   "source": [
    "Other basic data structures in python are for examples strings, lists, tuples and dictionaries as here described."
   ]
  },
  {
   "cell_type": "code",
   "execution_count": null,
   "metadata": {},
   "outputs": [],
   "source": [
    "b = \"ciao\"  # string type\n",
    "c = [1, 2, 3]  # a list\n",
    "d = (1, 2, 3)  # a tuple. Note it is immutable!"
   ]
  },
  {
   "attachments": {},
   "cell_type": "markdown",
   "metadata": {},
   "source": [
    "We see the content of the list `c` as example"
   ]
  },
  {
   "cell_type": "code",
   "execution_count": null,
   "metadata": {},
   "outputs": [],
   "source": [
    "c"
   ]
  },
  {
   "attachments": {},
   "cell_type": "markdown",
   "metadata": {},
   "source": [
    "Strings, lists and tuples are example of iterable elements: they contain ordered contents that can be get by index.\n",
    "To get the first element, we can do as follows:"
   ]
  },
  {
   "cell_type": "code",
   "execution_count": null,
   "metadata": {},
   "outputs": [],
   "source": [
    "c[0]  # first element of the list"
   ]
  },
  {
   "attachments": {},
   "cell_type": "markdown",
   "metadata": {},
   "source": [
    "To get the last element, for example:"
   ]
  },
  {
   "cell_type": "code",
   "execution_count": null,
   "metadata": {},
   "outputs": [],
   "source": [
    "c[-1]"
   ]
  },
  {
   "attachments": {},
   "cell_type": "markdown",
   "metadata": {},
   "source": [
    "Lists can be modified after creation, such as, it is possible to add a new element.\n",
    "The cell below describes an example and the results is shown."
   ]
  },
  {
   "cell_type": "code",
   "execution_count": null,
   "metadata": {},
   "outputs": [],
   "source": [
    "c.append(4)  # add a new element to list\n",
    "c"
   ]
  },
  {
   "attachments": {},
   "cell_type": "markdown",
   "metadata": {},
   "source": [
    "Conversely to other programming software, lists can contain arbitrary data types.\n",
    "\n",
    "We see the content of the list `c`, we can add a new string object `\"ciao\"`, as follows."
   ]
  },
  {
   "cell_type": "code",
   "execution_count": null,
   "metadata": {},
   "outputs": [],
   "source": [
    "c.append(\"ciao\")  # add a new element to list of another type\n",
    "c"
   ]
  },
  {
   "attachments": {},
   "cell_type": "markdown",
   "metadata": {},
   "source": [
    "Tuples are similar to lists, but they are immutable: once created, they cannot be changed.\n",
    "In fact, there is no method `\"append\"` for tuples"
   ]
  },
  {
   "cell_type": "code",
   "execution_count": null,
   "metadata": {},
   "outputs": [],
   "source": [
    "d.append(4)  # Tuples are immutable: impossible to add a new element!"
   ]
  },
  {
   "attachments": {},
   "cell_type": "markdown",
   "metadata": {},
   "source": [
    "A special data type is a dictionary, that contains arbitrary-indexed objects.\n",
    "Please, check out the following code and let's compare it to lists.\n",
    "\n",
    "\n",
    "Dictionaries can create univoque relationship between so-called `keys` and their `values`.\n",
    "In the following example, the int 4, the str \"c\" and the tuple (1,2) are the keys, whose values are\n",
    "the list [2,2], the tuple (1,) and the int 1.\n",
    "\n",
    "As shown `keys` and `values` can contain different object types."
   ]
  },
  {
   "cell_type": "code",
   "execution_count": null,
   "metadata": {},
   "outputs": [],
   "source": [
    "dict_obj = {  # A dictionary\n",
    "    4: [2,2],\n",
    "    \"c\": (1,),\n",
    "    (1, 2): 1,\n",
    "}\n",
    "dict_obj"
   ]
  },
  {
   "attachments": {},
   "cell_type": "markdown",
   "metadata": {},
   "source": [
    "First of all, standard dictionary objects ARE NOT ordered. Therefore, there is no first and no last element for standard dictionaries."
   ]
  },
  {
   "cell_type": "code",
   "execution_count": null,
   "metadata": {},
   "outputs": [],
   "source": [
    "dict_obj[0]"
   ]
  },
  {
   "attachments": {},
   "cell_type": "markdown",
   "metadata": {},
   "source": [
    "The dictionary objects are got by key; for example, in the following, we get the value corresponding to the key (1,2)"
   ]
  },
  {
   "cell_type": "code",
   "execution_count": null,
   "metadata": {},
   "outputs": [],
   "source": [
    "dict_obj[(1,2)]"
   ]
  },
  {
   "attachments": {},
   "cell_type": "markdown",
   "metadata": {},
   "source": [
    "## Iterative loops"
   ]
  },
  {
   "cell_type": "code",
   "execution_count": null,
   "metadata": {},
   "outputs": [],
   "source": [
    "print(\"c: \" + str(c) + \"\\n\")\n",
    "\n",
    "i = 0\n",
    "for v in c:  # this loops over the content of c\n",
    "    i += 1\n",
    "    print(str(i) + \": \" + str(v))"
   ]
  },
  {
   "attachments": {},
   "cell_type": "markdown",
   "metadata": {},
   "source": [
    "## Functions"
   ]
  },
  {
   "cell_type": "code",
   "execution_count": null,
   "metadata": {},
   "outputs": [],
   "source": [
    "def custom_sum(a, b):  # this is a definition of a function\n",
    "    return a+b\n",
    "\n",
    "custom_sum(1, 2)"
   ]
  },
  {
   "cell_type": "code",
   "execution_count": null,
   "metadata": {},
   "outputs": [],
   "source": [
    "c = lambda a,b: a+b  # but also this is a function\n",
    "\n",
    "c(1,2)"
   ]
  },
  {
   "attachments": {},
   "cell_type": "markdown",
   "metadata": {},
   "source": [
    "## Custom data structures (classes)"
   ]
  },
  {
   "cell_type": "code",
   "execution_count": null,
   "metadata": {},
   "outputs": [],
   "source": [
    "class House:\n",
    "    def __init__(self, name, n_rooms, n_bedrooms):  # this is the constructor function that is executed on start\n",
    "\n",
    "        if n_bedrooms > n_rooms:\n",
    "            print(f\"ERROR: selected more bedrooms {n_bedrooms} than rooms {n_rooms}\")\n",
    "\n",
    "        self.name = name\n",
    "        self.n_rooms = n_rooms\n",
    "        self.n_bedrooms = n_bedrooms\n",
    "\n",
    "    def add_bedroom(self):  # this is function applied to the object\n",
    "        self.n_rooms = self.n_rooms + 1\n",
    "        self.n_bedrooms = self.n_bedrooms + 1\n",
    "    \n",
    "    def print(self):\n",
    "        print(f\"House '{self.name}' with {self.n_rooms} rooms, of which {self.n_bedrooms} bedrooms\")"
   ]
  },
  {
   "attachments": {},
   "cell_type": "markdown",
   "metadata": {},
   "source": [
    "Some examples of classes definition"
   ]
  },
  {
   "cell_type": "code",
   "execution_count": null,
   "metadata": {},
   "outputs": [],
   "source": [
    "h1 = House(\"casa1\", 3, 2)\n",
    "h2 = House(\"casa2\", 4, 2)\n",
    "h1.print()\n",
    "h2.print()"
   ]
  },
  {
   "attachments": {},
   "cell_type": "markdown",
   "metadata": {},
   "source": [
    "## Importing packages"
   ]
  },
  {
   "cell_type": "code",
   "execution_count": null,
   "metadata": {},
   "outputs": [],
   "source": [
    "import pandas as pd  # import the entire package with name pd\n",
    "from pandas import DataFrame  # import specific objects from a package"
   ]
  },
  {
   "attachments": {},
   "cell_type": "markdown",
   "metadata": {},
   "source": [
    "Examples of dataframe: they represent data tables and are very useful for data analysis"
   ]
  },
  {
   "cell_type": "code",
   "execution_count": null,
   "metadata": {},
   "outputs": [],
   "source": [
    "data = {\n",
    "    \"sources\": [\"coal\", \"oil\", \"solar\"],\n",
    "    \"quantity\": [10, 100, 1000],\n",
    "}\n",
    "\n",
    "df = pd.DataFrame(data)\n",
    "df"
   ]
  },
  {
   "attachments": {},
   "cell_type": "markdown",
   "metadata": {},
   "source": [
    "get the first element. Note that the index is by row"
   ]
  },
  {
   "cell_type": "code",
   "execution_count": null,
   "metadata": {},
   "outputs": [],
   "source": [
    "df.loc[0]"
   ]
  },
  {
   "attachments": {},
   "cell_type": "markdown",
   "metadata": {},
   "source": [
    "check the index"
   ]
  },
  {
   "cell_type": "code",
   "execution_count": null,
   "metadata": {},
   "outputs": [],
   "source": [
    "df.index"
   ]
  },
  {
   "cell_type": "code",
   "execution_count": null,
   "metadata": {},
   "outputs": [],
   "source": [
    "df.set_index(\"sources\", inplace=True)  # this is equivalent to df = df.set_index(\"sources\")\n",
    "df"
   ]
  },
  {
   "attachments": {},
   "cell_type": "markdown",
   "metadata": {},
   "source": [
    "this throws an error as the index as changed"
   ]
  },
  {
   "cell_type": "code",
   "execution_count": null,
   "metadata": {},
   "outputs": [],
   "source": [
    "df.loc[0]"
   ]
  },
  {
   "cell_type": "code",
   "execution_count": null,
   "metadata": {},
   "outputs": [],
   "source": [
    "df.loc[\"coal\"]"
   ]
  },
  {
   "cell_type": "code",
   "execution_count": null,
   "metadata": {},
   "outputs": [],
   "source": [
    "df.iloc[0]"
   ]
  },
  {
   "attachments": {},
   "cell_type": "markdown",
   "metadata": {},
   "source": [
    "An example on how to apply functions on dataframes"
   ]
  },
  {
   "cell_type": "code",
   "execution_count": null,
   "metadata": {},
   "outputs": [],
   "source": [
    "df.quantity.sum()"
   ]
  }
 ],
 "metadata": {
  "kernelspec": {
   "display_name": "main_env",
   "language": "python",
   "name": "python3"
  },
  "language_info": {
   "codemirror_mode": {
    "name": "ipython",
    "version": 3
   },
   "file_extension": ".py",
   "mimetype": "text/x-python",
   "name": "python",
   "nbconvert_exporter": "python",
   "pygments_lexer": "ipython3",
   "version": "3.10.4"
  },
  "orig_nbformat": 4,
  "vscode": {
   "interpreter": {
    "hash": "c911838deca95b70c357598f2c33026ecf69b7da04a9af606fe9d881309e8203"
   }
  }
 },
 "nbformat": 4,
 "nbformat_minor": 2
}
