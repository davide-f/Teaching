{
 "cells": [
  {
   "cell_type": "markdown",
   "metadata": {},
   "source": [
    "# Use PyPSA for a network\n",
    "\n",
    "This example aims at proposing a sample optimization using PyPSA for a network of 4 nodes with the following structure:\n",
    "\n",
    "1 (PV+Battery) ------ 2 (Load) ------ 3 (Load+Diesel) ------ 4 (Wind)\n",
    "\n",
    "where numbers denote the node, the dashed lines represent the lines and the labels in brackets denote the type of generators, loads or storage.\n",
    "\n",
    "Input data are contextualized for a PV-Wind-Diesel microgrid in Soroti, Uganda, (1.7250° N, 33.6208° E).\n",
    "\n",
    "\n",
    "The procedure leverages on:\n",
    "- the case study presented in [D. Fioriti et. al, 2022, Multiple design options for sizing off-grid microgrids: A novel single-objective approach to support multi-criteria decision making, Sustainable Energy, Grids and Networks](https://doi.org/10.1016/j.segan.2022.100644),\n",
    "- complemented with the wind parameters highligted in [D. Fioriti et al, Coupling economic multi-objective optimization and multiple design options: A business-oriented approach to size an off-grid hybrid microgrid, 2021, IJEPES](https://doi.org/10.1016/j.ijepes.2020.106686)\n",
    "\n",
    "In particular, the following data sources are used:\n",
    "- **Demand**: the demand inputs are obtained from the paper (D. Fioriti et. al, 2022) referenced above\n",
    "- **PV and Wind**: the solar photovoltaic (PV) and wind time series are obtained using the [Renewable.ninja platform](https://renewables.ninja/), heavily backed by strong scientific background (see [documentation](https://renewables.ninja/documentation/)); the cost parameters are those of the paper (D. Fioriti et. al, 2021)\n",
    "- **Other cost assumptions**: based on the paper (D. Fioriti et. al, 2021)"
   ]
  },
  {
   "cell_type": "markdown",
   "metadata": {},
   "source": [
    "## Package imports\n",
    "\n",
    "Section to first import the major packages used in the notebook.\n",
    "Note: the PyPSA-Earth environment is suitable to run this notebook."
   ]
  },
  {
   "cell_type": "code",
   "execution_count": 1,
   "metadata": {},
   "outputs": [],
   "source": [
    "# package to handle efficient numeric structures (vectors/matrices) mathematical operations\n",
    "import numpy as np\n",
    "# package to handle databases, e.g. tabular data\n",
    "import pandas as pd\n",
    "# energy modelling package\n",
    "import pypsa\n",
    "# package to make plots\n",
    "import matplotlib.pyplot as plt\n",
    "# package to support geographical plotting\n",
    "import cartopy.crs as ccrs"
   ]
  },
  {
   "cell_type": "markdown",
   "metadata": {},
   "source": [
    "Some global constants used for simplifying the code"
   ]
  },
  {
   "cell_type": "code",
   "execution_count": 2,
   "metadata": {},
   "outputs": [],
   "source": [
    "# figure size\n",
    "FIGSIZE = (5, 2.5)\n",
    "# solver of the optimization\n",
    "SOLVER = \"glpk\"\n",
    "# number of buses\n",
    "n_buses = 4\n",
    "# number of loads\n",
    "n_loads = 2\n",
    "# gps coordinates of the buses\n",
    "x, y = 33.6208, 1.7250"
   ]
  },
  {
   "cell_type": "markdown",
   "metadata": {},
   "source": [
    "## 1. Data import"
   ]
  },
  {
   "cell_type": "markdown",
   "metadata": {},
   "source": [
    "### PV\n",
    "\n",
    "The available PV production for every hour of 2019 is estimated using Renewables.ninja platform, using standard inputs for the PV plant (tilt angle, orientation, etc.).\n",
    "The data are downloaded manually and loaded into the data folder with name `ninja_pv_1.7250_33.6208_uncorrected.csv`.\n",
    "\n",
    "In the following, the file is loaded also including some plottings for easy visualization."
   ]
  },
  {
   "cell_type": "code",
   "execution_count": 3,
   "metadata": {},
   "outputs": [],
   "source": [
    "# file name of the pv data\n",
    "pv_file = 'data/ninja_pv_1.7250_33.6208_uncorrected.csv'\n",
    "\n",
    "# Load the CSV file\n",
    "df_pv = pd.read_csv(pv_file, skiprows=3)  # skip the first 3 rows\n",
    "df_pv.rename(columns={'electricity': 'pv'}, inplace=True)  # rename the electricity column"
   ]
  },
  {
   "cell_type": "markdown",
   "metadata": {},
   "source": [
    "### Wind\n",
    "\n",
    "The available wind production for every hour of 2019 is estimated using Renewables.ninja platform, using standard inputs for the PV plant (tilt angle, orientation, etc.).\n",
    "The data are downloaded manually and loaded into the data folder with name `ninja_wind_1.7250_33.6208_uncorrected.csv`.\n",
    "\n",
    "In the following, the file is loaded also including some plottings for easy visualization."
   ]
  },
  {
   "cell_type": "code",
   "execution_count": 4,
   "metadata": {},
   "outputs": [],
   "source": [
    "# file name of the pv data\n",
    "wind_file = 'data/ninja_wind_1.7250_33.6208_uncorrected.csv'\n",
    "\n",
    "# Load the CSV file\n",
    "df_wind = pd.read_csv(wind_file, skiprows=3)  # skip the first 3 rows\n",
    "df_wind.rename(columns={'electricity': 'wind'}, inplace=True)  # rename the electricity column"
   ]
  },
  {
   "cell_type": "markdown",
   "metadata": {},
   "source": [
    "### Load\n",
    "\n",
    "The load demand is obtained from the paper by D.Fioriti et al.\n",
    "\n",
    "In the activity, a so-called 'typical daily' profile was estimated using the tool LoadProGen, now available as [RAMP](https://rampdemand.org/).\n",
    "\n",
    "In the data folder, the file `demand_data.csv` contains the following two columns:\n",
    "1. the first column is the average demand for every hour of the day\n",
    "2. the second column is the standard deviation of the demand for every hour of the day"
   ]
  },
  {
   "cell_type": "code",
   "execution_count": 5,
   "metadata": {},
   "outputs": [],
   "source": [
    "# file name of the pv data\n",
    "demand_file = 'data/demand_data.csv'\n",
    "\n",
    "# Load the CSV file\n",
    "df_demand_day = pd.read_csv(demand_file)\n",
    "df_demand_day[\"hour\"] = range(0, 24)\n",
    "\n",
    "confidence_factor = 1.96  # 95% confidence interval"
   ]
  },
  {
   "cell_type": "markdown",
   "metadata": {},
   "source": [
    "Note that in typical offgrid systems, in first approximation, the demand is assumed to be invariant over the year.\n",
    "\n",
    "Therefore, in the following, we generate a yearly time series of demand by randomly sampling the demand for every hour of the day from a normal distribution with mean and standard deviation as above.\n",
    "\n",
    "In particular, we now create a pandas dataframe with one column for each demand loads."
   ]
  },
  {
   "cell_type": "code",
   "execution_count": 6,
   "metadata": {},
   "outputs": [],
   "source": [
    "n_days = 365  # number of days to simulate\n",
    "\n",
    "df_demand = pd.DataFrame(index=df_pv.index)\n",
    "\n",
    "for i in range(n_loads):\n",
    "    df_demand_year = np.random.normal(\n",
    "        np.tile(df_demand_day[\"demand\"], n_days),\n",
    "        np.tile(df_demand_day[\"standard_deviation\"], n_days),\n",
    "    )\n",
    "    df_demand.loc[:, f\"demand {i+1}\"] = df_demand_year"
   ]
  },
  {
   "cell_type": "markdown",
   "metadata": {},
   "source": [
    "In the following, we show a plot of the entire dataset to show the variability of the time series."
   ]
  },
  {
   "cell_type": "markdown",
   "metadata": {},
   "source": [
    "The yearly plot is then the following"
   ]
  },
  {
   "cell_type": "code",
   "execution_count": 7,
   "metadata": {},
   "outputs": [
    {
     "data": {
      "text/plain": [
       "Text(0, 0.5, 'Demand [kW]')"
      ]
     },
     "execution_count": 7,
     "metadata": {},
     "output_type": "execute_result"
    },
    {
     "data": {
      "image/png": "[encoded data removed]",
      "text/plain": [
       "<Figure size 500x250 with 1 Axes>"
      ]
     },
     "metadata": {},
     "output_type": "display_data"
    }
   ],
   "source": [
    "# plot the demand\n",
    "plt.figure(figsize=FIGSIZE)\n",
    "plt.plot(df_demand)\n",
    "plt.legend(df_demand.columns)\n",
    "plt.xlabel(\"Hour of the day [h]\")\n",
    "plt.ylabel(\"Demand [kW]\")"
   ]
  },
  {
   "cell_type": "markdown",
   "metadata": {},
   "source": [
    "For simplicity, all time series data are now aggregated into a single dataframe for simplicity"
   ]
  },
  {
   "cell_type": "code",
   "execution_count": 8,
   "metadata": {},
   "outputs": [],
   "source": [
    "# merge the data into one dataframe\n",
    "df_data = pd.concat(\n",
    "    [df_pv[[\"pv\"]], df_wind[[\"wind\"]], df_demand],\n",
    "    axis=1,\n",
    ")"
   ]
  },
  {
   "cell_type": "markdown",
   "metadata": {},
   "source": [
    "## 2. Create input cost parameters\n",
    "\n",
    "This section aims at describing the cost parameters used in the optimization.\n",
    "\n",
    "To do so, the goal is to create a dataframe of major input parameters, for each technology, including:\n",
    "- **CAPEX**: capital expenditure\n",
    "- **OPEX**: operational expenditure, divided into two independent components:\n",
    "    - ***Fixed* OPEX**: expenditure *independent* from the energy production\n",
    "    - ***Marginal* OPEX**: expenditure *dependent* from the energy production\n",
    "- **Lifetime**: lifetime of the technology\n",
    "- **Efficiency**: efficiency of the technology\n",
    "- **Discount rate**: discount rate of the analysis"
   ]
  },
  {
   "cell_type": "code",
   "execution_count": 9,
   "metadata": {},
   "outputs": [
    {
     "name": "stderr",
     "output_type": "stream",
     "text": [
      "C:\\Users\\Davide\\AppData\\Local\\Temp\\ipykernel_6772\\149235735.py:42: FutureWarning: Downcasting object dtype arrays on .fillna, .ffill, .bfill is deprecated and will change in a future version. Call result.infer_objects(copy=False) instead. To opt-in to the future behavior, set `pd.set_option('future.no_silent_downcasting', True)`\n",
      "  assumptions = assumptions.fillna(\n"
     ]
    },
    {
     "data": {
      "text/html": [
       "<div>\n",
       "<style scoped>\n",
       "    .dataframe tbody tr th:only-of-type {\n",
       "        vertical-align: middle;\n",
       "    }\n",
       "\n",
       "    .dataframe tbody tr th {\n",
       "        vertical-align: top;\n",
       "    }\n",
       "\n",
       "    .dataframe thead th {\n",
       "        text-align: right;\n",
       "    }\n",
       "</style>\n",
       "<table border=\"1\" class=\"dataframe\">\n",
       "  <thead>\n",
       "    <tr style=\"text-align: right;\">\n",
       "      <th></th>\n",
       "      <th>CAPEX</th>\n",
       "      <th>discount rate</th>\n",
       "      <th>efficiency</th>\n",
       "      <th>OPEX_fixed</th>\n",
       "      <th>OPEX_marginal</th>\n",
       "      <th>lifetime</th>\n",
       "    </tr>\n",
       "  </thead>\n",
       "  <tbody>\n",
       "    <tr>\n",
       "      <th>default</th>\n",
       "      <td>NaN</td>\n",
       "      <td>0.08</td>\n",
       "      <td>NaN</td>\n",
       "      <td>3.0</td>\n",
       "      <td>0.0000</td>\n",
       "      <td>20</td>\n",
       "    </tr>\n",
       "    <tr>\n",
       "      <th>pv</th>\n",
       "      <td>900</td>\n",
       "      <td>0.08</td>\n",
       "      <td>NaN</td>\n",
       "      <td>16.0</td>\n",
       "      <td>0.0000</td>\n",
       "      <td>25</td>\n",
       "    </tr>\n",
       "    <tr>\n",
       "      <th>wind</th>\n",
       "      <td>2400</td>\n",
       "      <td>0.08</td>\n",
       "      <td>NaN</td>\n",
       "      <td>80.0</td>\n",
       "      <td>0.0000</td>\n",
       "      <td>20</td>\n",
       "    </tr>\n",
       "    <tr>\n",
       "      <th>battery</th>\n",
       "      <td>450</td>\n",
       "      <td>0.08</td>\n",
       "      <td>0.9</td>\n",
       "      <td>3.0</td>\n",
       "      <td>0.0000</td>\n",
       "      <td>10</td>\n",
       "    </tr>\n",
       "    <tr>\n",
       "      <th>diesel</th>\n",
       "      <td>600.0</td>\n",
       "      <td>0.08</td>\n",
       "      <td>NaN</td>\n",
       "      <td>3.0</td>\n",
       "      <td>0.0962</td>\n",
       "      <td>3</td>\n",
       "    </tr>\n",
       "  </tbody>\n",
       "</table>\n",
       "</div>"
      ],
      "text/plain": [
       "         CAPEX  discount rate efficiency  OPEX_fixed  OPEX_marginal  lifetime\n",
       "default    NaN           0.08        NaN         3.0         0.0000        20\n",
       "pv         900           0.08        NaN        16.0         0.0000        25\n",
       "wind      2400           0.08        NaN        80.0         0.0000        20\n",
       "battery    450           0.08        0.9         3.0         0.0000        10\n",
       "diesel   600.0           0.08        NaN         3.0         0.0962         3"
      ]
     },
     "execution_count": 9,
     "metadata": {},
     "output_type": "execute_result"
    }
   ],
   "source": [
    "# Initialize the dataframe: columns indicate cost components and rows indicate technologies\n",
    "assumptions = pd.DataFrame(\n",
    "    columns=[\"CAPEX\", \"discount rate\", \"efficiency\", \"OPEX_fixed\", \"OPEX_marginal\", \"lifetime\"],\n",
    "    index=[\"default\", \"pv\", \"wind\", \"battery\", \"diesel\"],\n",
    ")\n",
    "\n",
    "# default parameters\n",
    "assumptions.at[\"default\", \"OPEX_fixed\"] = 3.0\n",
    "assumptions.at[\"default\", \"OPEX_marginal\"] = 0.0\n",
    "assumptions.at[\"default\", \"discount rate\"] = 0.08\n",
    "assumptions.at[\"default\", \"lifetime\"] = 20\n",
    "\n",
    "# pv technology\n",
    "assumptions.at[\"pv\", \"CAPEX\"] = 900  # EUR/kWp\n",
    "assumptions.at[\"pv\", \"OPEX_fixed\"] = 16  # EUR/kWp/year\n",
    "assumptions.at[\"pv\", \"lifetime\"] = 25  # years\n",
    "\n",
    "# wind technology\n",
    "assumptions.at[\"wind\", \"CAPEX\"] = 2400  # EUR/kWp\n",
    "assumptions.at[\"wind\", \"OPEX_fixed\"] = 80  # EUR/kWp/year\n",
    "assumptions.at[\"wind\", \"lifetime\"] = 20  # years\n",
    "\n",
    "# battery technology\n",
    "assumptions.at[\"battery\", \"CAPEX\"] = 450  # EUR/kWh\n",
    "assumptions.at[\"battery\", \"OPEX_fixed\"] = 3  # EUR/kWh/year\n",
    "assumptions.at[\"battery\", \"efficiency\"] = 0.9  # [-] per unit\n",
    "assumptions.at[\"battery\", \"lifetime\"] = 10  # years\n",
    "\n",
    "# diesel technology\n",
    "fuel_price = 1.4  # EUR/l\n",
    "fuel_energy_density = 10  # kWh/l\n",
    "efficiency_diesel = 0.33  # [-] per unit\n",
    "\n",
    "maintenance_diesel = 0.05  # EUR/kW/h\n",
    "\n",
    "assumptions.at[\"diesel\", \"CAPEX\"] = 6e2  # EUR/kW\n",
    "assumptions.at[\"diesel\", \"OPEX_marginal\"] = \\\n",
    "    (fuel_price / fuel_energy_density * efficiency_diesel + maintenance_diesel)  # EUR/kWh\n",
    "assumptions.at[\"diesel\", \"lifetime\"] = 3  # years\n",
    "\n",
    "# fill defaults\n",
    "assumptions = assumptions.fillna(\n",
    "    {\n",
    "        \"OPEX_fixed\": assumptions.at[\"default\", \"OPEX_fixed\"],\n",
    "        \"OPEX_marginal\": assumptions.at[\"default\", \"OPEX_marginal\"],\n",
    "        \"discount rate\": assumptions.at[\"default\", \"discount rate\"],\n",
    "        \"lifetime\": assumptions.at[\"default\", \"lifetime\"],\n",
    "    }\n",
    ")\n",
    "\n",
    "# save to file\n",
    "assumptions.to_csv(\"assumptions.csv\")\n",
    "\n",
    "assumptions"
   ]
  },
  {
   "cell_type": "markdown",
   "metadata": {},
   "source": [
    "The objective of the system is to minimize the annualized costs, which are computed as follows:\n",
    "\n",
    "$$\n",
    "\\text{Annualized costs} = OPEX + \\sum_{i \\in A} {CRF}_i * {CAPEX}_i\\\\\n",
    "CRF_i = \\frac{r(1+d)^{L_i}}{(1+d)^{L_i}-1}\n",
    "$$\n",
    "\n",
    "where:\n",
    "- $A$ is the set of technologies\n",
    "- $d$ is the discount rate\n",
    "- $L_i$ is the lifetime of the technology $i$"
   ]
  },
  {
   "cell_type": "code",
   "execution_count": 10,
   "metadata": {},
   "outputs": [
    {
     "data": {
      "text/html": [
       "<div>\n",
       "<style scoped>\n",
       "    .dataframe tbody tr th:only-of-type {\n",
       "        vertical-align: middle;\n",
       "    }\n",
       "\n",
       "    .dataframe tbody tr th {\n",
       "        vertical-align: top;\n",
       "    }\n",
       "\n",
       "    .dataframe thead th {\n",
       "        text-align: right;\n",
       "    }\n",
       "</style>\n",
       "<table border=\"1\" class=\"dataframe\">\n",
       "  <thead>\n",
       "    <tr style=\"text-align: right;\">\n",
       "      <th></th>\n",
       "      <th>CAPEX</th>\n",
       "      <th>discount rate</th>\n",
       "      <th>efficiency</th>\n",
       "      <th>OPEX_fixed</th>\n",
       "      <th>OPEX_marginal</th>\n",
       "      <th>lifetime</th>\n",
       "      <th>annuity</th>\n",
       "      <th>capital_cost</th>\n",
       "    </tr>\n",
       "  </thead>\n",
       "  <tbody>\n",
       "    <tr>\n",
       "      <th>default</th>\n",
       "      <td>NaN</td>\n",
       "      <td>0.08</td>\n",
       "      <td>NaN</td>\n",
       "      <td>3.0</td>\n",
       "      <td>0.0000</td>\n",
       "      <td>20</td>\n",
       "      <td>0.101852</td>\n",
       "      <td>NaN</td>\n",
       "    </tr>\n",
       "    <tr>\n",
       "      <th>pv</th>\n",
       "      <td>900</td>\n",
       "      <td>0.08</td>\n",
       "      <td>NaN</td>\n",
       "      <td>16.0</td>\n",
       "      <td>0.0000</td>\n",
       "      <td>25</td>\n",
       "      <td>0.093679</td>\n",
       "      <td>100.310901</td>\n",
       "    </tr>\n",
       "    <tr>\n",
       "      <th>wind</th>\n",
       "      <td>2400</td>\n",
       "      <td>0.08</td>\n",
       "      <td>NaN</td>\n",
       "      <td>80.0</td>\n",
       "      <td>0.0000</td>\n",
       "      <td>20</td>\n",
       "      <td>0.101852</td>\n",
       "      <td>324.445301</td>\n",
       "    </tr>\n",
       "    <tr>\n",
       "      <th>battery</th>\n",
       "      <td>450</td>\n",
       "      <td>0.08</td>\n",
       "      <td>0.9</td>\n",
       "      <td>3.0</td>\n",
       "      <td>0.0000</td>\n",
       "      <td>10</td>\n",
       "      <td>0.149029</td>\n",
       "      <td>70.063270</td>\n",
       "    </tr>\n",
       "    <tr>\n",
       "      <th>diesel</th>\n",
       "      <td>600.0</td>\n",
       "      <td>0.08</td>\n",
       "      <td>NaN</td>\n",
       "      <td>3.0</td>\n",
       "      <td>0.0962</td>\n",
       "      <td>3</td>\n",
       "      <td>0.388034</td>\n",
       "      <td>235.820108</td>\n",
       "    </tr>\n",
       "  </tbody>\n",
       "</table>\n",
       "</div>"
      ],
      "text/plain": [
       "         CAPEX  discount rate efficiency  OPEX_fixed  OPEX_marginal  lifetime  \\\n",
       "default    NaN           0.08        NaN         3.0         0.0000        20   \n",
       "pv         900           0.08        NaN        16.0         0.0000        25   \n",
       "wind      2400           0.08        NaN        80.0         0.0000        20   \n",
       "battery    450           0.08        0.9         3.0         0.0000        10   \n",
       "diesel   600.0           0.08        NaN         3.0         0.0962         3   \n",
       "\n",
       "          annuity  capital_cost  \n",
       "default  0.101852           NaN  \n",
       "pv       0.093679    100.310901  \n",
       "wind     0.101852    324.445301  \n",
       "battery  0.149029     70.063270  \n",
       "diesel   0.388034    235.820108  "
      ]
     },
     "execution_count": 10,
     "metadata": {},
     "output_type": "execute_result"
    }
   ],
   "source": [
    "def annuity(lifetime, rate):\n",
    "    \"\"\"\n",
    "    Calculate the annuity factor for a given lifetime and discount rate.\n",
    "    \"\"\"\n",
    "    if rate == 0.0:\n",
    "        return 1 / lifetime\n",
    "    else:\n",
    "        return rate / (1.0 - 1.0 / (1.0 + rate) ** lifetime)\n",
    "\n",
    "\n",
    "# calculate annuity for every technology\n",
    "assumptions[\"annuity\"] = assumptions.apply(\n",
    "    lambda x: annuity(x[\"lifetime\"], x[\"discount rate\"]), axis=1\n",
    ")\n",
    "\n",
    "# annualise investment costs, add fixed OPEX to calculate the parameter `capital_cost` for the PyPSA model\n",
    "assumptions[\"capital_cost\"] = [\n",
    "    v[\"annuity\"] * v[\"CAPEX\"] + v[\"OPEX_fixed\"]\n",
    "    for i, v in assumptions.iterrows()\n",
    "]\n",
    "\n",
    "assumptions"
   ]
  },
  {
   "cell_type": "markdown",
   "metadata": {},
   "source": [
    "## 3. PyPSA model\n",
    "\n",
    "This second block of code is used to define the PyPSA model.\n",
    "\n",
    "The model is a N-node energy system that contains the following components:\n",
    "- **Load**: the load is defined as a fixed **Load** component, with the time series of demand as defined above. The load is attached to nodes 2 and 3\n",
    "- **PV**: the PV is defined as a **Generator** and attached to node 1\n",
    "- **Battery**: the battery is defined as a **Storage Unit** and attached to node 1\n",
    "- **Wind**: the wind is defined as a **Generator** and attached to node 4\n",
    "- **Diesel**: the diesel generator is defined as a **Generator** and attached to node 3\n",
    "\n",
    "All assets (PV, Wind, Battery and Diesel generator) are assumed to be expandable: the optimization will determine the optimal size of each asset.\n",
    "*Note*: we assume that the costs of components are linearly to their capacity."
   ]
  },
  {
   "cell_type": "markdown",
   "metadata": {},
   "source": [
    "### Create the basic PyPSA model"
   ]
  },
  {
   "cell_type": "code",
   "execution_count": 11,
   "metadata": {},
   "outputs": [],
   "source": [
    "# Create an empty PyPSA network\n",
    "n = pypsa.Network()\n",
    "\n",
    "# set the snapshots of the simulation, being the time steps of the data\n",
    "n.set_snapshots(df_data.index)\n",
    "\n",
    "# Add buses to the microgrid\n",
    "n.madd(\n",
    "    \"Bus\",\n",
    "    [f\"Bus {i}\" for i in range(n_buses)],\n",
    "    v_nom=0.4,\n",
    "    x=[x + 0.1*i for i in range(n_buses)],\n",
    "    y=[y + 0.1*i for i in range(n_buses)],\n",
    ")\n",
    "\n",
    "# Add the lines\n",
    "for i in range(n_buses-1):\n",
    "    n.add(\n",
    "        \"Line\",\n",
    "        f\"Line {i}--{i+1}\",\n",
    "        bus0=f\"Bus {i}\",\n",
    "        bus1=f\"Bus {i+1}\",\n",
    "        x=0.1,\n",
    "        r=0.01,\n",
    "        s_nom_extendable=True,\n",
    "    )"
   ]
  },
  {
   "cell_type": "markdown",
   "metadata": {},
   "source": [
    "### Add the load\n",
    "\n",
    "We now add the load to the model."
   ]
  },
  {
   "cell_type": "code",
   "execution_count": 12,
   "metadata": {},
   "outputs": [],
   "source": [
    "for bus in [1, 2]:\n",
    "    n.add(\"Load\", f\"load bus {bus}\", bus=f\"Bus {bus}\", p_set=df_data[f\"demand {bus}\"])"
   ]
  },
  {
   "cell_type": "markdown",
   "metadata": {},
   "source": [
    "### Add renewable technologies"
   ]
  },
  {
   "cell_type": "code",
   "execution_count": 13,
   "metadata": {},
   "outputs": [],
   "source": [
    "# Add PV\n",
    "n.add(\n",
    "    \"Generator\",  # Each RES technology is represented with a \"Generator\" component\n",
    "    \"pv\",\n",
    "    carrier=\"AC\",\n",
    "    bus=\"Bus 0\",  # connect the generators to the microgrid bus\n",
    "    p_max_pu=df_data[\"pv\"],  # specify a maximum per-unit production for every time-step\n",
    "    capital_cost=assumptions.loc[\"pv\", \"capital_cost\"],  # specify the capital cost\n",
    "    p_nom_extendable=True,  # Specify the installed capacity as an optimisation variable\n",
    ")\n",
    "\n",
    "# Add wind\n",
    "n.add(\n",
    "    \"Generator\",  # Each RES technology is represented with a \"Generator\" component\n",
    "    \"wind\",\n",
    "    carrier=\"AC\",\n",
    "    bus=\"Bus 3\",  # connect the generators to the microgrid bus\n",
    "    p_max_pu=df_data[\"wind\"],  # specify a maximum per-unit production for every time-step\n",
    "    capital_cost=assumptions.loc[\"wind\", \"capital_cost\"],  # specify the capital cost\n",
    "    p_nom_extendable=True,  # Specify the installed capacity as an optimisation variable\n",
    ")"
   ]
  },
  {
   "cell_type": "markdown",
   "metadata": {},
   "source": [
    "### Add the battery"
   ]
  },
  {
   "cell_type": "code",
   "execution_count": 14,
   "metadata": {},
   "outputs": [],
   "source": [
    "n.add(\n",
    "    \"StorageUnit\",\n",
    "    \"battery\",\n",
    "    bus=\"Bus 0\",\n",
    "    p_nom_extendable=True,\n",
    "    capital_cost=assumptions.at[\"battery\", \"capital_cost\"],\n",
    "    cyclic_state_of_charge=True,\n",
    ")"
   ]
  },
  {
   "cell_type": "markdown",
   "metadata": {},
   "source": [
    "### Add the diesel generator\n",
    "\n",
    "Now we add a diesel generator, and verify it is added to the `n.generators` object."
   ]
  },
  {
   "cell_type": "code",
   "execution_count": 15,
   "metadata": {},
   "outputs": [],
   "source": [
    "n.add(\n",
    "    \"Generator\",\n",
    "    \"diesel\",\n",
    "    bus=\"Bus 2\",\n",
    "    carrier=\"AC\",\n",
    "    p_nom_extendable=True,\n",
    "    capital_cost=assumptions.at[\"diesel\", \"capital_cost\"],\n",
    "    marginal_cost=assumptions.at[\"diesel\", \"OPEX_marginal\"],\n",
    ")"
   ]
  },
  {
   "cell_type": "markdown",
   "metadata": {},
   "source": [
    "## 4. Optimization of the model\n",
    "\n",
    "Now we execute the model with the default GLPK solver.\n",
    "Note that the solver can be changed to other solvers, such as CPLEX or Gurobi, that are commercial solvers with better performances.\n",
    "\n",
    "For your possible thesis, in case of need, CPLEX and Gurobi are freely accessible with your academic email."
   ]
  },
  {
   "cell_type": "code",
   "execution_count": 16,
   "metadata": {},
   "outputs": [
    {
     "name": "stderr",
     "output_type": "stream",
     "text": [
      "INFO:linopy.model: Solve problem using Glpk solver\n",
      "INFO:linopy.io:Writing objective.\n",
      "Writing constraints.: 100%|\u001b[38;2;128;191;255m██████████\u001b[0m| 18/18 [00:00<00:00, 23.78it/s]\n",
      "Writing continuous variables.: 100%|\u001b[38;2;128;191;255m██████████\u001b[0m| 8/8 [00:00<00:00, 68.21it/s]\n",
      "INFO:linopy.io: Writing time: 0.9s\n",
      "INFO:linopy.solvers:GLPSOL--GLPK LP/MIP Solver 5.0\n",
      "Parameter(s) specified in the command line:\n",
      " --lp C:\\Users\\Davide\\AppData\\Local\\Temp\\linopy-problem-i15z3c3q.lp --output\n",
      " C:\\Users\\Davide\\AppData\\Local\\Temp\\linopy-solve-ehfh_v6k.sol\n",
      "Reading problem data from 'C:\\Users\\Davide\\AppData\\Local\\Temp\\linopy-problem-i15z3c3q.lp'...\n",
      "201487 rows, 78847 columns, 388956 non-zeros\n",
      "1081026 lines were read\n",
      "GLPK Simplex Optimizer 5.0\n",
      "201487 rows, 78847 columns, 388956 non-zeros\n",
      "Preprocessing...\n",
      "141041 rows, 72720 columns, 320631 non-zeros\n",
      "Scaling...\n",
      " A: min|aij| =  1.000e-03  max|aij| =  1.000e+00  ratio =  1.000e+03\n",
      "GM: min|aij| =  4.885e-01  max|aij| =  2.047e+00  ratio =  4.190e+00\n",
      "EQ: min|aij| =  2.387e-01  max|aij| =  1.000e+00  ratio =  4.190e+00\n",
      "Constructing initial basis...\n",
      "Size of triangular part is 141040\n",
      "      0: obj =   4.658854378e+04 inf =   6.615e+05 (17520)\n",
      "   2391: obj =   5.313385359e+04 inf =   3.359e+05 (15303) 22\n",
      "Perturbing LP to avoid stalling [2444]...\n",
      "   4050: obj =   5.374232075e+04 inf =   3.095e+05 (14027) 12\n",
      "   5629: obj =   5.459913661e+04 inf =   2.760e+05 (12448) 16\n",
      "   7162: obj =   5.616113618e+04 inf =   2.225e+05 (10916) 15\n",
      "   8483: obj =   5.725567829e+04 inf =   1.892e+05 (9595) 13\n",
      "   9937: obj =   5.828078150e+04 inf =   1.622e+05 (8144) 15\n",
      "  11402: obj =   5.955054749e+04 inf =   1.339e+05 (6887) 12\n",
      "  12877: obj =   6.124497568e+04 inf =   1.025e+05 (5413) 15\n",
      "  14488: obj =   6.311423757e+04 inf =   7.696e+04 (3804) 16\n",
      "  16022: obj =   6.604598938e+04 inf =   5.107e+04 (2272) 15\n",
      "  17585: obj =   7.224213490e+04 inf =   2.342e+04 (1115) 11\n",
      "  18732: obj =   8.617993042e+04 inf =   4.666e-10 (0) 11\n",
      "* 20402: obj =   7.702754540e+04 inf =   1.282e-07 (16411) 8\n",
      "* 21863: obj =   7.620967869e+04 inf =   1.051e-07 (15947) 11\n",
      "* 23178: obj =   7.580650714e+04 inf =   7.541e-08 (15480) 11\n",
      "* 24465: obj =   7.564677493e+04 inf =   6.783e-08 (14594) 11\n",
      "* 25765: obj =   7.547418189e+04 inf =   6.108e-08 (13426) 11\n",
      "* 27031: obj =   7.522220415e+04 inf =   4.870e-08 (12124) 11\n",
      "* 28276: obj =   7.440923118e+04 inf =   4.069e-08 (10640) 10\n",
      "* 29590: obj =   7.409183431e+04 inf =   3.350e-08 (8459) 13\n",
      "* 30873: obj =   7.346107039e+04 inf =   3.350e-08 (8562) 12\n",
      "* 32336: obj =   7.285424354e+04 inf =   3.350e-08 (9339) 13\n",
      "* 33745: obj =   7.245354249e+04 inf =   3.350e-08 (9067) 13\n",
      "* 35152: obj =   7.212582481e+04 inf =   3.443e-08 (8972) 13\n",
      "* 36479: obj =   7.196079820e+04 inf =   3.118e-08 (8649) 11\n",
      "* 37732: obj =   7.178470698e+04 inf =   2.711e-08 (7969) 13\n",
      "* 39079: obj =   7.149444094e+04 inf =   2.828e-08 (6684) 12\n",
      "* 40290: obj =   7.128492497e+04 inf =   2.928e-08 (6949) 12\n",
      "* 41967: obj =   7.093588101e+04 inf =   2.928e-08 (5725) 10\n",
      "* 43722: obj =   7.073814673e+04 inf =   2.910e-08 (4834) 11\n",
      "* 45535: obj =   7.056600689e+04 inf =   2.528e-08 (3899) 11\n",
      "* 47105: obj =   7.041346731e+04 inf =   2.466e-08 (3226) 11\n",
      "* 49028: obj =   7.035563274e+04 inf =   2.466e-08 (1877) 12\n",
      "Removing LP perturbation [50925]...\n",
      "* 50925: obj =   7.033330172e+04 inf =   9.007e-13 (0) 19\n",
      "OPTIMAL LP SOLUTION FOUND\n",
      "Time used:   168.8 secs\n",
      "Memory used: 180.7 Mb (189435807 bytes)\n",
      "Writing basic solution to 'C:\\Users\\Davide\\AppData\\Local\\Temp\\linopy-solve-ehfh_v6k.sol'...\n",
      "\n",
      "INFO:linopy.constants: Optimization successful: \n",
      "Status: ok\n",
      "Termination condition: optimal\n",
      "Solution: 78847 primals, 201487 duals\n",
      "Objective: 7.03e+04\n",
      "Solver model: not available\n",
      "Solver message: optimal\n",
      "\n",
      "c:\\Users\\Davide\\miniconda3\\envs\\python_exercise\\lib\\site-packages\\pypsa\\optimization\\optimize.py:357: FutureWarning: A value is trying to be set on a copy of a DataFrame or Series through chained assignment using an inplace method.\n",
      "The behavior will change in pandas 3.0. This inplace method will never work because the intermediate object on which we are setting values always behaves as a copy.\n",
      "\n",
      "For example, when doing 'df[col].method(value, inplace=True)', try using 'df.method({col: value}, inplace=True)' or df[col] = df[col].method(value) instead, to perform the operation inplace on the original object.\n",
      "\n",
      "\n",
      "  n.df(c)[attr + \"_opt\"].update(df)\n",
      "INFO:pypsa.optimization.optimize:The shadow-prices of the constraints Generator-ext-p-lower, Generator-ext-p-upper, Line-ext-s-lower, Line-ext-s-upper, StorageUnit-ext-p_dispatch-lower, StorageUnit-ext-p_dispatch-upper, StorageUnit-ext-p_store-lower, StorageUnit-ext-p_store-upper, StorageUnit-ext-state_of_charge-lower, StorageUnit-ext-state_of_charge-upper, StorageUnit-energy_balance were not assigned to the network.\n"
     ]
    },
    {
     "data": {
      "text/plain": [
       "('ok', 'optimal')"
      ]
     },
     "execution_count": 16,
     "metadata": {},
     "output_type": "execute_result"
    }
   ],
   "source": [
    "n.optimize(solver_name=SOLVER)"
   ]
  },
  {
   "cell_type": "markdown",
   "metadata": {},
   "source": [
    "## 5. Investigate the results"
   ]
  },
  {
   "cell_type": "markdown",
   "metadata": {},
   "source": [
    "### 5.1 Objective value\n",
    "\n",
    "In the following, we investigate the value of the objective function and notable values."
   ]
  },
  {
   "cell_type": "markdown",
   "metadata": {},
   "source": [
    "The objective"
   ]
  },
  {
   "cell_type": "code",
   "execution_count": 17,
   "metadata": {},
   "outputs": [
    {
     "data": {
      "text/plain": [
       "70333.30172"
      ]
     },
     "execution_count": 17,
     "metadata": {},
     "output_type": "execute_result"
    }
   ],
   "source": [
    "n.objective"
   ]
  },
  {
   "cell_type": "markdown",
   "metadata": {},
   "source": [
    "### 5.2 Optimal investment capacities\n",
    "\n",
    "In the following, we show the optimal investment capacities by components.\n",
    "To do so, we first merge all the optimal capacities for all components (generators, links, stores, storage_units and lines) and then we show a summary table.\n",
    "\n",
    "Note: the optimized variable for each component is different:\n",
    "- `p_nom_opt` is the nominal (power) capacity for `generators`, `links` and `storage_units`\n",
    "- `e_nom_opt` is the nominal (energy) capacity for `stores`\n",
    "- `s_nom_opt` is the nominal (apparent power) capacity for `lines`\n",
    "\n",
    "To clarify the results, in the following we concatenate all the results.\n",
    "For each component type, we create a column in a dataframe and populate the corresponding values with the optimal capacity.\n",
    "To ease the visualization, each column name is renamed to highlight the corresponding component."
   ]
  },
  {
   "cell_type": "code",
   "execution_count": 18,
   "metadata": {},
   "outputs": [
    {
     "data": {
      "text/html": [
       "<div>\n",
       "<style scoped>\n",
       "    .dataframe tbody tr th:only-of-type {\n",
       "        vertical-align: middle;\n",
       "    }\n",
       "\n",
       "    .dataframe tbody tr th {\n",
       "        vertical-align: top;\n",
       "    }\n",
       "\n",
       "    .dataframe thead th {\n",
       "        text-align: right;\n",
       "    }\n",
       "</style>\n",
       "<table border=\"1\" class=\"dataframe\">\n",
       "  <thead>\n",
       "    <tr style=\"text-align: right;\">\n",
       "      <th></th>\n",
       "      <th>p_nom_opt - Generator</th>\n",
       "      <th>p_nom_opt - Link</th>\n",
       "      <th>p_nom_opt - Storage Unit</th>\n",
       "      <th>e_nom_opt - Store</th>\n",
       "      <th>s_nom_opt - Line</th>\n",
       "    </tr>\n",
       "  </thead>\n",
       "  <tbody>\n",
       "    <tr>\n",
       "      <th>pv</th>\n",
       "      <td>107.6130</td>\n",
       "      <td>NaN</td>\n",
       "      <td>NaN</td>\n",
       "      <td>NaN</td>\n",
       "      <td>NaN</td>\n",
       "    </tr>\n",
       "    <tr>\n",
       "      <th>wind</th>\n",
       "      <td>0.0000</td>\n",
       "      <td>NaN</td>\n",
       "      <td>NaN</td>\n",
       "      <td>NaN</td>\n",
       "      <td>NaN</td>\n",
       "    </tr>\n",
       "    <tr>\n",
       "      <th>diesel</th>\n",
       "      <td>83.9922</td>\n",
       "      <td>NaN</td>\n",
       "      <td>NaN</td>\n",
       "      <td>NaN</td>\n",
       "      <td>NaN</td>\n",
       "    </tr>\n",
       "    <tr>\n",
       "      <th>battery</th>\n",
       "      <td>NaN</td>\n",
       "      <td>NaN</td>\n",
       "      <td>121.258</td>\n",
       "      <td>NaN</td>\n",
       "      <td>NaN</td>\n",
       "    </tr>\n",
       "    <tr>\n",
       "      <th>Line 0--1</th>\n",
       "      <td>NaN</td>\n",
       "      <td>NaN</td>\n",
       "      <td>NaN</td>\n",
       "      <td>NaN</td>\n",
       "      <td>71.5053</td>\n",
       "    </tr>\n",
       "    <tr>\n",
       "      <th>Line 1--2</th>\n",
       "      <td>NaN</td>\n",
       "      <td>NaN</td>\n",
       "      <td>NaN</td>\n",
       "      <td>NaN</td>\n",
       "      <td>43.9942</td>\n",
       "    </tr>\n",
       "    <tr>\n",
       "      <th>Line 2--3</th>\n",
       "      <td>NaN</td>\n",
       "      <td>NaN</td>\n",
       "      <td>NaN</td>\n",
       "      <td>NaN</td>\n",
       "      <td>0.0000</td>\n",
       "    </tr>\n",
       "  </tbody>\n",
       "</table>\n",
       "</div>"
      ],
      "text/plain": [
       "           p_nom_opt - Generator  p_nom_opt - Link  p_nom_opt - Storage Unit  \\\n",
       "pv                      107.6130               NaN                       NaN   \n",
       "wind                      0.0000               NaN                       NaN   \n",
       "diesel                   83.9922               NaN                       NaN   \n",
       "battery                      NaN               NaN                   121.258   \n",
       "Line 0--1                    NaN               NaN                       NaN   \n",
       "Line 1--2                    NaN               NaN                       NaN   \n",
       "Line 2--3                    NaN               NaN                       NaN   \n",
       "\n",
       "           e_nom_opt - Store  s_nom_opt - Line  \n",
       "pv                       NaN               NaN  \n",
       "wind                     NaN               NaN  \n",
       "diesel                   NaN               NaN  \n",
       "battery                  NaN               NaN  \n",
       "Line 0--1                NaN           71.5053  \n",
       "Line 1--2                NaN           43.9942  \n",
       "Line 2--3                NaN            0.0000  "
      ]
     },
     "execution_count": 18,
     "metadata": {},
     "output_type": "execute_result"
    }
   ],
   "source": [
    "pd.concat([\n",
    "    n.generators.p_nom_opt.rename(\"p_nom_opt - Generator\"),\n",
    "    n.links.p_nom_opt.rename(\"p_nom_opt - Link\"),\n",
    "    n.storage_units.p_nom_opt.rename(\"p_nom_opt - Storage Unit\"),\n",
    "    n.stores.e_nom_opt.rename(\"e_nom_opt - Store\"),\n",
    "    n.lines.s_nom_opt.rename(\"s_nom_opt - Line\"),\n",
    "], axis=1)"
   ]
  },
  {
   "cell_type": "markdown",
   "metadata": {},
   "source": [
    "Plot investments by bus and carrier"
   ]
  },
  {
   "cell_type": "code",
   "execution_count": 19,
   "metadata": {},
   "outputs": [
    {
     "data": {
      "text/plain": [
       "<Axes: title={'center': 'Installed capacity per bus and resource'}, ylabel='Installed capacity [kW]'>"
      ]
     },
     "execution_count": 19,
     "metadata": {},
     "output_type": "execute_result"
    },
    {
     "data": {
      "image/png": "[encoded data removed]",
      "text/plain": [
       "<Figure size 640x480 with 1 Axes>"
      ]
     },
     "metadata": {},
     "output_type": "display_data"
    }
   ],
   "source": [
    "grouped_data = pd.concat([\n",
    "    n.generators.groupby([\"bus\", n.generators.index.rename(\"resource\")]).p_nom_opt.sum(),\n",
    "    n.storage_units.groupby([\"bus\", n.storage_units.index.rename(\"resource\")]).p_nom_opt.sum(),\n",
    "])\n",
    "(\n",
    "    grouped_data\n",
    "    .reset_index()\n",
    "    .pivot(index=\"bus\", columns=\"resource\")\n",
    "    .reindex(n.buses.index)\n",
    "    .droplevel(0, axis=1)\n",
    "    .plot(\n",
    "        kind=\"bar\",\n",
    "        stacked=True,\n",
    "        ylabel=\"Installed capacity [kW]\",\n",
    "        title=\"Installed capacity per bus and resource\",\n",
    "        xlabel=\"\",\n",
    "    )\n",
    ")"
   ]
  },
  {
   "cell_type": "markdown",
   "metadata": {},
   "source": [
    "### 5.3 Collect major energy statistics\n",
    "\n",
    "In the following, the goal is to collect major statistics on the total energy produced to supply the load.\n",
    "\n",
    "Note that the time series of any quantity of the different objects is stored into the object `{object}_t`, where `{object}` is any pypsa component, such as generators, links, etc.\n",
    "\n",
    "To do this, we first create a dataframe that contains all time series for any object and then we sum the quantities to identify the desired quantities."
   ]
  },
  {
   "cell_type": "code",
   "execution_count": 20,
   "metadata": {},
   "outputs": [],
   "source": [
    "all_dispatch = pd.concat(\n",
    "    [\n",
    "        n.generators_t.p,\n",
    "        n.storage_units_t.p,\n",
    "        n.stores_t.p,\n",
    "    ],\n",
    "    axis=1,\n",
    ")\n",
    "\n",
    "total_dispatch = all_dispatch.sum()"
   ]
  },
  {
   "cell_type": "markdown",
   "metadata": {},
   "source": [
    "Let's compare the quantities with respect to the total demand"
   ]
  },
  {
   "cell_type": "code",
   "execution_count": 21,
   "metadata": {},
   "outputs": [
    {
     "data": {
      "text/plain": [
       "pv         3.295400e-01\n",
       "wind       0.000000e+00\n",
       "diesel     6.704600e-01\n",
       "battery   -1.828022e-09\n",
       "dtype: float64"
      ]
     },
     "execution_count": 21,
     "metadata": {},
     "output_type": "execute_result"
    }
   ],
   "source": [
    "total_demand = n.loads_t.p_set.values.sum()\n",
    "\n",
    "total_dispatch/total_demand"
   ]
  },
  {
   "cell_type": "markdown",
   "metadata": {},
   "source": [
    "Let's now check the total renewable curtailment by comparing the available renewable production versus the actual production."
   ]
  },
  {
   "cell_type": "code",
   "execution_count": 22,
   "metadata": {},
   "outputs": [
    {
     "data": {
      "text/plain": [
       "Generator\n",
       "pv      164040.522228\n",
       "wind         0.000000\n",
       "dtype: float64"
      ]
     },
     "execution_count": 22,
     "metadata": {},
     "output_type": "execute_result"
    }
   ],
   "source": [
    "# get RES technologies that are actually installed\n",
    "existing_RES_techs = n.generators.index.intersection([\"pv\", \"wind\"])\n",
    "\n",
    "total_available_RES = n.generators_t.p_max_pu[existing_RES_techs].sum() * n.generators.p_nom_opt[existing_RES_techs]\n",
    "total_available_RES"
   ]
  },
  {
   "cell_type": "code",
   "execution_count": 23,
   "metadata": {},
   "outputs": [
    {
     "data": {
      "text/plain": [
       "Generator\n",
       "pv      0.027116\n",
       "wind         NaN\n",
       "dtype: float64"
      ]
     },
     "execution_count": 23,
     "metadata": {},
     "output_type": "execute_result"
    }
   ],
   "source": [
    "RES_curtailment = total_available_RES - total_dispatch[existing_RES_techs]\n",
    "\n",
    "RES_curtailment/total_available_RES"
   ]
  },
  {
   "cell_type": "markdown",
   "metadata": {},
   "source": [
    "### 5.4 Plot the energy dispatch"
   ]
  },
  {
   "cell_type": "code",
   "execution_count": 24,
   "metadata": {},
   "outputs": [
    {
     "data": {
      "text/plain": [
       "<matplotlib.legend.Legend at 0x21276aff310>"
      ]
     },
     "execution_count": 24,
     "metadata": {},
     "output_type": "execute_result"
    },
    {
     "data": {
      "image/png": "[encoded data removed]",
      "text/plain": [
       "<Figure size 640x480 with 1 Axes>"
      ]
     },
     "metadata": {},
     "output_type": "display_data"
    }
   ],
   "source": [
    "# Day to start the plotting from\n",
    "init_day_plot = 31\n",
    "# Number of days to plot\n",
    "n_days_to_plot = 1\n",
    "\n",
    "subset_sns = n.generators_t.p.index[init_day_plot*24:(init_day_plot*24 + n_days_to_plot*24)]\n",
    "\n",
    "# collect discharge power of storages\n",
    "p_dch_stores = n.storage_units_t.p.loc[subset_sns, :].clip(lower=0.0)  # negative values become 0.0\n",
    "p_dch_stores.columns = p_dch_stores.columns + \"_dch\"\n",
    "\n",
    "# collect charge power of storages\n",
    "p_ch_stores = n.storage_units_t.p.loc[subset_sns, :].clip(upper=0.0)  # positive values become 0.0\n",
    "p_ch_stores.columns = p_ch_stores.columns + \"_ch\"\n",
    "\n",
    "# create a dataframe to plot the quantities to plot\n",
    "data_to_plot = pd.concat(\n",
    "    [\n",
    "        p_dch_stores,\n",
    "        p_ch_stores,\n",
    "        n.generators_t.p.loc[subset_sns, :],\n",
    "    ],\n",
    "    axis=1,\n",
    ")\n",
    "\n",
    "\n",
    "ax = data_to_plot.plot.area(linewidth=0.0) #, figsize=FIGSIZE)\n",
    "\n",
    "plt.plot(df_data.loc[subset_sns, [\"demand 1\", \"demand 2\"]].sum(axis=1), label=\"load\", color=\"k\")\n",
    "plt.ylabel(\"Power [kW]\")\n",
    "plt.legend()"
   ]
  },
  {
   "cell_type": "markdown",
   "metadata": {},
   "source": [
    "### 5.54 Plot line dispatch"
   ]
  },
  {
   "cell_type": "markdown",
   "metadata": {},
   "source": [
    "Plot of power exiting the bus0 of each line"
   ]
  },
  {
   "cell_type": "code",
   "execution_count": 25,
   "metadata": {},
   "outputs": [
    {
     "data": {
      "text/plain": [
       "<Axes: xlabel='snapshot', ylabel='Line power flow [kW]'>"
      ]
     },
     "execution_count": 25,
     "metadata": {},
     "output_type": "execute_result"
    },
    {
     "data": {
      "image/png": "[encoded data removed]",
      "text/plain": [
       "<Figure size 640x480 with 1 Axes>"
      ]
     },
     "metadata": {},
     "output_type": "display_data"
    }
   ],
   "source": [
    "n.lines_t.p0.loc[subset_sns, :].plot(ylabel=\"Line power flow [kW]\")"
   ]
  },
  {
   "cell_type": "markdown",
   "metadata": {},
   "source": [
    "Plot of power exiting the bus1 of each line (the converse of the previous plot)"
   ]
  },
  {
   "cell_type": "code",
   "execution_count": 26,
   "metadata": {},
   "outputs": [
    {
     "data": {
      "text/plain": [
       "<Axes: xlabel='snapshot', ylabel='Line power flow [kW]'>"
      ]
     },
     "execution_count": 26,
     "metadata": {},
     "output_type": "execute_result"
    },
    {
     "data": {
      "image/png": "[encoded data removed]",
      "text/plain": [
       "<Figure size 640x480 with 1 Axes>"
      ]
     },
     "metadata": {},
     "output_type": "display_data"
    }
   ],
   "source": [
    "n.lines_t.p1.loc[subset_sns, :].plot(ylabel=\"Line power flow [kW]\")"
   ]
  }
 ],
 "metadata": {
  "kernelspec": {
   "display_name": "wtp_design",
   "language": "python",
   "name": "python3"
  },
  "language_info": {
   "codemirror_mode": {
    "name": "ipython",
    "version": 3
   },
   "file_extension": ".py",
   "mimetype": "text/x-python",
   "name": "python",
   "nbconvert_exporter": "python",
   "pygments_lexer": "ipython3",
   "version": "3.10.14"
  }
 },
 "nbformat": 4,
 "nbformat_minor": 2
}
