{
 "cells": [
  {
   "cell_type": "markdown",
   "metadata": {},
   "source": [
    "# Use PyPSA for a microgrid\n",
    "\n",
    "This example aims at proposing a sample optimization using PyPSA.\n",
    "\n",
    "CC BY Davide Fioriti\n",
    "\n",
    "This file proposes the optimal sizing of a PV-Wind-Diesel microgrid in Soroti, Uganda, (1.7250° N, 33.6208° E).\n",
    "The schematic of the microgrid is the following:\n",
    "\n",
    "<center><img src=\"./imgs/microgrid.png\" alt=\"drawing\" width=\"400\"/></center>\n",
    "\n",
    "\n",
    "The procedure leverages on:\n",
    "- the case study presented in [D. Fioriti et. al, 2022, Multiple design options for sizing off-grid microgrids: A novel single-objective approach to support multi-criteria decision making, Sustainable Energy, Grids and Networks](https://doi.org/10.1016/j.segan.2022.100644),\n",
    "- complemented with the wind parameters highligted in [D. Fioriti et al, Coupling economic multi-objective optimization and multiple design options: A business-oriented approach to size an off-grid hybrid microgrid, 2021, IJEPES](https://doi.org/10.1016/j.ijepes.2020.106686)\n",
    "\n",
    "In particular, the following data sources are used:\n",
    "- **Demand**: the demand inputs are obtained from the paper (D. Fioriti et. al, 2022) referenced above\n",
    "- **PV and Wind**: the solar photovoltaic (PV) and wind time series are obtained using the [Renewable.ninja platform](https://renewables.ninja/), heavily backed by strong scientific background (see [documentation](https://renewables.ninja/documentation/)); the cost parameters are those of the paper (D. Fioriti et. al, 2021)\n",
    "- **Other cost assumptions**: based on the paper (D. Fioriti et. al, 2021)"
   ]
  },
  {
   "cell_type": "markdown",
   "metadata": {},
   "source": [
    "## Package imports\n",
    "\n",
    "Section to first import the major packages used in the notebook.\n",
    "Note: the PyPSA-Earth environment is suitable to run this notebook."
   ]
  },
  {
   "cell_type": "code",
   "execution_count": 1,
   "metadata": {},
   "outputs": [],
   "source": [
    "# package to handle efficient numeric structures (vectors/matrices) mathematical operations\n",
    "import numpy as np\n",
    "# package to handle databases, e.g. tabular data\n",
    "import pandas as pd\n",
    "# energy modelling package\n",
    "import pypsa\n",
    "# package to make plots\n",
    "import matplotlib.pyplot as plt"
   ]
  },
  {
   "cell_type": "markdown",
   "metadata": {},
   "source": [
    "Some global constants used for simplifying the code"
   ]
  },
  {
   "cell_type": "code",
   "execution_count": 2,
   "metadata": {},
   "outputs": [],
   "source": [
    "# figure size\n",
    "FIGSIZE = (5, 2.5)\n",
    "# solver of the optimization\n",
    "SOLVER = \"glpk\"\n",
    "# set random seed for reproducibility\n",
    "np.random.seed(0)"
   ]
  },
  {
   "cell_type": "markdown",
   "metadata": {},
   "source": [
    "## 1. Data import"
   ]
  },
  {
   "cell_type": "markdown",
   "metadata": {},
   "source": [
    "### PV\n",
    "\n",
    "The available PV production for every hour of 2019 is estimated using Renewables.ninja platform, using standard inputs for the PV plant (tilt angle, orientation, etc.).\n",
    "The data are downloaded manually and loaded into the data folder with name `ninja_pv_1.7250_33.6208_uncorrected.csv`.\n",
    "\n",
    "In the following, the file is loaded also including some plottings for easy visualization."
   ]
  },
  {
   "cell_type": "code",
   "execution_count": 3,
   "metadata": {},
   "outputs": [
    {
     "data": {
      "text/html": [
       "<div>\n",
       "<style scoped>\n",
       "    .dataframe tbody tr th:only-of-type {\n",
       "        vertical-align: middle;\n",
       "    }\n",
       "\n",
       "    .dataframe tbody tr th {\n",
       "        vertical-align: top;\n",
       "    }\n",
       "\n",
       "    .dataframe thead th {\n",
       "        text-align: right;\n",
       "    }\n",
       "</style>\n",
       "<table border=\"1\" class=\"dataframe\">\n",
       "  <thead>\n",
       "    <tr style=\"text-align: right;\">\n",
       "      <th></th>\n",
       "      <th>time</th>\n",
       "      <th>local_time</th>\n",
       "      <th>pv</th>\n",
       "    </tr>\n",
       "  </thead>\n",
       "  <tbody>\n",
       "    <tr>\n",
       "      <th>0</th>\n",
       "      <td>2019-01-01 00:00</td>\n",
       "      <td>2019-01-01 03:00</td>\n",
       "      <td>0.000</td>\n",
       "    </tr>\n",
       "    <tr>\n",
       "      <th>1</th>\n",
       "      <td>2019-01-01 01:00</td>\n",
       "      <td>2019-01-01 04:00</td>\n",
       "      <td>0.000</td>\n",
       "    </tr>\n",
       "    <tr>\n",
       "      <th>2</th>\n",
       "      <td>2019-01-01 02:00</td>\n",
       "      <td>2019-01-01 05:00</td>\n",
       "      <td>0.000</td>\n",
       "    </tr>\n",
       "    <tr>\n",
       "      <th>3</th>\n",
       "      <td>2019-01-01 03:00</td>\n",
       "      <td>2019-01-01 06:00</td>\n",
       "      <td>0.000</td>\n",
       "    </tr>\n",
       "    <tr>\n",
       "      <th>4</th>\n",
       "      <td>2019-01-01 04:00</td>\n",
       "      <td>2019-01-01 07:00</td>\n",
       "      <td>0.213</td>\n",
       "    </tr>\n",
       "  </tbody>\n",
       "</table>\n",
       "</div>"
      ],
      "text/plain": [
       "               time        local_time     pv\n",
       "0  2019-01-01 00:00  2019-01-01 03:00  0.000\n",
       "1  2019-01-01 01:00  2019-01-01 04:00  0.000\n",
       "2  2019-01-01 02:00  2019-01-01 05:00  0.000\n",
       "3  2019-01-01 03:00  2019-01-01 06:00  0.000\n",
       "4  2019-01-01 04:00  2019-01-01 07:00  0.213"
      ]
     },
     "execution_count": 3,
     "metadata": {},
     "output_type": "execute_result"
    }
   ],
   "source": [
    "# file name of the pv data\n",
    "pv_file = 'data/ninja_pv_1.7250_33.6208_uncorrected.csv'\n",
    "\n",
    "# Load the CSV file\n",
    "df_pv = pd.read_csv(pv_file, skiprows=3)  # skip the first 3 rows\n",
    "df_pv.rename(columns={'electricity': 'pv'}, inplace=True)  # rename the electricity column\n",
    "\n",
    "df_pv.head(5)  # show the first 5 rows"
   ]
  },
  {
   "cell_type": "code",
   "execution_count": 4,
   "metadata": {},
   "outputs": [
    {
     "data": {
      "text/plain": [
       "<Axes: xlabel='Hour of the year', ylabel='PV av. prod [kW/kWp]'>"
      ]
     },
     "execution_count": 4,
     "metadata": {},
     "output_type": "execute_result"
    },
    {
     "data": {
      "image/png": "[encoded data removed]",
      "text/plain": [
       "<Figure size 500x250 with 1 Axes>"
      ]
     },
     "metadata": {},
     "output_type": "display_data"
    }
   ],
   "source": [
    "# plot the pv data\n",
    "df_pv[\"pv\"].plot(xlabel=\"Hour of the year\", ylabel=\"PV av. prod [kW/kWp]\", figsize=FIGSIZE)"
   ]
  },
  {
   "cell_type": "markdown",
   "metadata": {},
   "source": [
    "### Wind\n",
    "\n",
    "The available wind production for every hour of 2019 is estimated using Renewables.ninja platform, using standard inputs for the PV plant (tilt angle, orientation, etc.).\n",
    "The data are downloaded manually and loaded into the data folder with name `ninja_wind_1.7250_33.6208_uncorrected.csv`.\n",
    "\n",
    "In the following, the file is loaded also including some plottings for easy visualization."
   ]
  },
  {
   "cell_type": "code",
   "execution_count": 5,
   "metadata": {},
   "outputs": [
    {
     "data": {
      "text/html": [
       "<div>\n",
       "<style scoped>\n",
       "    .dataframe tbody tr th:only-of-type {\n",
       "        vertical-align: middle;\n",
       "    }\n",
       "\n",
       "    .dataframe tbody tr th {\n",
       "        vertical-align: top;\n",
       "    }\n",
       "\n",
       "    .dataframe thead th {\n",
       "        text-align: right;\n",
       "    }\n",
       "</style>\n",
       "<table border=\"1\" class=\"dataframe\">\n",
       "  <thead>\n",
       "    <tr style=\"text-align: right;\">\n",
       "      <th></th>\n",
       "      <th>time</th>\n",
       "      <th>local_time</th>\n",
       "      <th>wind</th>\n",
       "    </tr>\n",
       "  </thead>\n",
       "  <tbody>\n",
       "    <tr>\n",
       "      <th>0</th>\n",
       "      <td>2019-01-01 00:00</td>\n",
       "      <td>2019-01-01 03:00</td>\n",
       "      <td>0.360</td>\n",
       "    </tr>\n",
       "    <tr>\n",
       "      <th>1</th>\n",
       "      <td>2019-01-01 01:00</td>\n",
       "      <td>2019-01-01 04:00</td>\n",
       "      <td>0.355</td>\n",
       "    </tr>\n",
       "    <tr>\n",
       "      <th>2</th>\n",
       "      <td>2019-01-01 02:00</td>\n",
       "      <td>2019-01-01 05:00</td>\n",
       "      <td>0.339</td>\n",
       "    </tr>\n",
       "    <tr>\n",
       "      <th>3</th>\n",
       "      <td>2019-01-01 03:00</td>\n",
       "      <td>2019-01-01 06:00</td>\n",
       "      <td>0.312</td>\n",
       "    </tr>\n",
       "    <tr>\n",
       "      <th>4</th>\n",
       "      <td>2019-01-01 04:00</td>\n",
       "      <td>2019-01-01 07:00</td>\n",
       "      <td>0.194</td>\n",
       "    </tr>\n",
       "  </tbody>\n",
       "</table>\n",
       "</div>"
      ],
      "text/plain": [
       "               time        local_time   wind\n",
       "0  2019-01-01 00:00  2019-01-01 03:00  0.360\n",
       "1  2019-01-01 01:00  2019-01-01 04:00  0.355\n",
       "2  2019-01-01 02:00  2019-01-01 05:00  0.339\n",
       "3  2019-01-01 03:00  2019-01-01 06:00  0.312\n",
       "4  2019-01-01 04:00  2019-01-01 07:00  0.194"
      ]
     },
     "execution_count": 5,
     "metadata": {},
     "output_type": "execute_result"
    }
   ],
   "source": [
    "# file name of the pv data\n",
    "wind_file = 'data/ninja_wind_1.7250_33.6208_uncorrected.csv'\n",
    "\n",
    "# Load the CSV file\n",
    "df_wind = pd.read_csv(wind_file, skiprows=3)  # skip the first 3 rows\n",
    "df_wind.rename(columns={'electricity': 'wind'}, inplace=True)  # rename the electricity column\n",
    "\n",
    "df_wind.head(5)  # show the first 5 rows"
   ]
  },
  {
   "cell_type": "code",
   "execution_count": 6,
   "metadata": {},
   "outputs": [
    {
     "data": {
      "text/plain": [
       "<Axes: xlabel='Hour of the year', ylabel='Wind av. prod [kW/kWp]'>"
      ]
     },
     "execution_count": 6,
     "metadata": {},
     "output_type": "execute_result"
    },
    {
     "data": {
      "image/png": "[encoded data removed]",
      "text/plain": [
       "<Figure size 500x250 with 1 Axes>"
      ]
     },
     "metadata": {},
     "output_type": "display_data"
    }
   ],
   "source": [
    "# plot the pv data\n",
    "df_wind[\"wind\"].plot(xlabel=\"Hour of the year\", ylabel=\"Wind av. prod [kW/kWp]\", figsize=FIGSIZE)"
   ]
  },
  {
   "cell_type": "markdown",
   "metadata": {},
   "source": [
    "### Load\n",
    "\n",
    "The load demand is obtained from the paper by D.Fioriti et al.\n",
    "\n",
    "In the activity, a so-called 'typical daily' profile was estimated using the tool LoadProGen, now available as [RAMP](https://rampdemand.org/).\n",
    "\n",
    "In the data folder, the file `demand_data.csv` contains the following two columns:\n",
    "1. the first column is the average demand for every hour of the day\n",
    "2. the second column is the standard deviation of the demand for every hour of the day"
   ]
  },
  {
   "cell_type": "code",
   "execution_count": 7,
   "metadata": {},
   "outputs": [
    {
     "data": {
      "text/plain": [
       "Text(0, 0.5, 'Demand [kW]')"
      ]
     },
     "execution_count": 7,
     "metadata": {},
     "output_type": "execute_result"
    },
    {
     "data": {
      "image/png": "[encoded data removed]",
      "text/plain": [
       "<Figure size 500x250 with 1 Axes>"
      ]
     },
     "metadata": {},
     "output_type": "display_data"
    }
   ],
   "source": [
    "# file name of the pv data\n",
    "demand_file = 'data/demand_data.csv'\n",
    "\n",
    "# Load the CSV file\n",
    "df_demand_day = pd.read_csv(demand_file)\n",
    "df_demand_day[\"hour\"] = range(0, 24)\n",
    "\n",
    "confidence_factor = 1.96  # 95% confidence interval\n",
    "\n",
    "plt.figure(figsize=FIGSIZE)\n",
    "plt.errorbar(\n",
    "    x=df_demand_day[\"hour\"],\n",
    "    y=df_demand_day[\"demand\"],\n",
    "    yerr=confidence_factor * df_demand_day[\"standard_deviation\"],\n",
    "    fmt='-o',\n",
    "    ecolor='r',\n",
    "    capsize=3,\n",
    ")\n",
    "plt.xlabel(\"Hour of the day [h]\")\n",
    "plt.ylabel(\"Demand [kW]\")"
   ]
  },
  {
   "cell_type": "markdown",
   "metadata": {},
   "source": [
    "Note that in typical offgrid systems, in first approximation, the demand is assumed to be invariant over the year.\n",
    "\n",
    "Therefore, in the following, we generate a yearly time series of demand by randomly sampling the demand for every hour of the day from a normal distribution with mean and standard deviation as above."
   ]
  },
  {
   "cell_type": "code",
   "execution_count": 8,
   "metadata": {},
   "outputs": [
    {
     "data": {
      "text/plain": [
       "(8760, 1)"
      ]
     },
     "execution_count": 8,
     "metadata": {},
     "output_type": "execute_result"
    }
   ],
   "source": [
    "n_days = 365  # number of days to simulate\n",
    "\n",
    "df_demand_year = np.random.normal(\n",
    "    np.tile(df_demand_day[\"demand\"], n_days),\n",
    "    np.tile(df_demand_day[\"standard_deviation\"], n_days),\n",
    ")\n",
    "\n",
    "df_demand = pd.DataFrame(\n",
    "    df_demand_year,\n",
    "    columns=[\"demand\"],\n",
    "    index=df_pv.index,\n",
    ")\n",
    "df_demand.shape"
   ]
  },
  {
   "cell_type": "markdown",
   "metadata": {},
   "source": [
    "In the following, we show a plot of the entire dataset to show the variability of the time series."
   ]
  },
  {
   "cell_type": "code",
   "execution_count": 9,
   "metadata": {},
   "outputs": [
    {
     "data": {
      "text/plain": [
       "Text(0, 0.5, 'Demand [kW]')"
      ]
     },
     "execution_count": 9,
     "metadata": {},
     "output_type": "execute_result"
    },
    {
     "data": {
      "image/png": "[encoded data removed]",
      "text/plain": [
       "<Figure size 500x250 with 1 Axes>"
      ]
     },
     "metadata": {},
     "output_type": "display_data"
    }
   ],
   "source": [
    "plt.figure(figsize=FIGSIZE)\n",
    "plt.plot(\n",
    "    df_demand_day[\"hour\"],\n",
    "    np.reshape(df_demand[\"demand\"].values, (-1, 24)).T,\n",
    "    color='gray',\n",
    "    alpha=0.5,\n",
    "    label=\"Demand\",\n",
    ")\n",
    "plt.errorbar(\n",
    "    x=df_demand_day[\"hour\"],\n",
    "    y=df_demand_day[\"demand\"],\n",
    "    yerr=confidence_factor * df_demand_day[\"standard_deviation\"],\n",
    "    fmt='-o',\n",
    "    color='r',\n",
    "    capsize=3,\n",
    ")\n",
    "plt.xlabel(\"Hour of the year [h]\")\n",
    "plt.ylabel(\"Demand [kW]\")"
   ]
  },
  {
   "cell_type": "markdown",
   "metadata": {},
   "source": [
    "The yearly plot is then the following"
   ]
  },
  {
   "cell_type": "code",
   "execution_count": 10,
   "metadata": {},
   "outputs": [
    {
     "data": {
      "text/plain": [
       "Text(0, 0.5, 'Demand [kW]')"
      ]
     },
     "execution_count": 10,
     "metadata": {},
     "output_type": "execute_result"
    },
    {
     "data": {
      "image/png": "[encoded data removed]",
      "text/plain": [
       "<Figure size 500x250 with 1 Axes>"
      ]
     },
     "metadata": {},
     "output_type": "display_data"
    }
   ],
   "source": [
    "# plot the demand\n",
    "plt.figure(figsize=FIGSIZE)\n",
    "plt.plot(df_demand[\"demand\"])\n",
    "plt.xlabel(\"Hour of the day [h]\")\n",
    "plt.ylabel(\"Demand [kW]\")"
   ]
  },
  {
   "cell_type": "markdown",
   "metadata": {},
   "source": [
    "To ehnance the analysis, also a heatmap is added to show the demand for every hour of the day."
   ]
  },
  {
   "cell_type": "code",
   "execution_count": 11,
   "metadata": {},
   "outputs": [
    {
     "data": {
      "image/png": "[encoded data removed]",
      "text/plain": [
       "<Figure size 500x250 with 2 Axes>"
      ]
     },
     "metadata": {},
     "output_type": "display_data"
    }
   ],
   "source": [
    "# Reshape the demand data into a 2D array\n",
    "demand_matrix = df_demand.values.reshape(-1, 24)\n",
    "\n",
    "plt.figure(figsize=FIGSIZE)\n",
    "# Create the heatmap plot\n",
    "plt.imshow(demand_matrix.T, cmap='jet', aspect='auto')\n",
    "\n",
    "# Set the x-axis and y-axis labels\n",
    "plt.xlabel('Day of Year')\n",
    "plt.ylabel('Hour of Day')\n",
    "\n",
    "# Set the colorbar\n",
    "plt.colorbar(label='Demand [kW]')\n",
    "\n",
    "# Show the plot\n",
    "plt.show()\n"
   ]
  },
  {
   "cell_type": "markdown",
   "metadata": {},
   "source": [
    "For simplicity, all time series data are now aggregated into a single dataframe for simplicity"
   ]
  },
  {
   "cell_type": "code",
   "execution_count": 12,
   "metadata": {},
   "outputs": [
    {
     "data": {
      "text/html": [
       "<div>\n",
       "<style scoped>\n",
       "    .dataframe tbody tr th:only-of-type {\n",
       "        vertical-align: middle;\n",
       "    }\n",
       "\n",
       "    .dataframe tbody tr th {\n",
       "        vertical-align: top;\n",
       "    }\n",
       "\n",
       "    .dataframe thead th {\n",
       "        text-align: right;\n",
       "    }\n",
       "</style>\n",
       "<table border=\"1\" class=\"dataframe\">\n",
       "  <thead>\n",
       "    <tr style=\"text-align: right;\">\n",
       "      <th></th>\n",
       "      <th>pv</th>\n",
       "      <th>wind</th>\n",
       "      <th>demand</th>\n",
       "    </tr>\n",
       "  </thead>\n",
       "  <tbody>\n",
       "    <tr>\n",
       "      <th>0</th>\n",
       "      <td>0.000</td>\n",
       "      <td>0.360</td>\n",
       "      <td>19.831080</td>\n",
       "    </tr>\n",
       "    <tr>\n",
       "      <th>1</th>\n",
       "      <td>0.000</td>\n",
       "      <td>0.355</td>\n",
       "      <td>19.144872</td>\n",
       "    </tr>\n",
       "    <tr>\n",
       "      <th>2</th>\n",
       "      <td>0.000</td>\n",
       "      <td>0.339</td>\n",
       "      <td>17.434915</td>\n",
       "    </tr>\n",
       "    <tr>\n",
       "      <th>3</th>\n",
       "      <td>0.000</td>\n",
       "      <td>0.312</td>\n",
       "      <td>17.864990</td>\n",
       "    </tr>\n",
       "    <tr>\n",
       "      <th>4</th>\n",
       "      <td>0.213</td>\n",
       "      <td>0.194</td>\n",
       "      <td>14.848105</td>\n",
       "    </tr>\n",
       "  </tbody>\n",
       "</table>\n",
       "</div>"
      ],
      "text/plain": [
       "      pv   wind     demand\n",
       "0  0.000  0.360  19.831080\n",
       "1  0.000  0.355  19.144872\n",
       "2  0.000  0.339  17.434915\n",
       "3  0.000  0.312  17.864990\n",
       "4  0.213  0.194  14.848105"
      ]
     },
     "execution_count": 12,
     "metadata": {},
     "output_type": "execute_result"
    }
   ],
   "source": [
    "# merge the data into one dataframe\n",
    "df_data = pd.concat(\n",
    "    [df_pv[[\"pv\"]], df_wind[[\"wind\"]], df_demand],\n",
    "    axis=1,\n",
    ")\n",
    "\n",
    "# add a datetime index (optional)\n",
    "# df_data.index = df_pv.time\n",
    "\n",
    "df_data.head(5)"
   ]
  },
  {
   "cell_type": "markdown",
   "metadata": {},
   "source": [
    "## 2. Create input cost parameters\n",
    "\n",
    "This section aims at describing the cost parameters used in the optimization.\n",
    "\n",
    "To do so, the goal is to create a dataframe of major input parameters, for each technology, including:\n",
    "- **CAPEX**: capital expenditure\n",
    "- **OPEX**: operational expenditure, divided into two independent components:\n",
    "    - ***Fixed* OPEX**: expenditure *independent* from the energy production\n",
    "    - ***Marginal* OPEX**: expenditure *dependent* from the energy production\n",
    "- **Lifetime**: lifetime of the technology\n",
    "- **Efficiency**: efficiency of the technology\n",
    "- **Discount rate**: discount rate of the analysis"
   ]
  },
  {
   "cell_type": "code",
   "execution_count": 13,
   "metadata": {},
   "outputs": [
    {
     "name": "stderr",
     "output_type": "stream",
     "text": [
      "C:\\Users\\Davide\\AppData\\Local\\Temp\\ipykernel_27832\\2486677952.py:42: FutureWarning: Downcasting object dtype arrays on .fillna, .ffill, .bfill is deprecated and will change in a future version. Call result.infer_objects(copy=False) instead. To opt-in to the future behavior, set `pd.set_option('future.no_silent_downcasting', True)`\n",
      "  assumptions = assumptions.fillna(\n"
     ]
    },
    {
     "data": {
      "text/html": [
       "<div>\n",
       "<style scoped>\n",
       "    .dataframe tbody tr th:only-of-type {\n",
       "        vertical-align: middle;\n",
       "    }\n",
       "\n",
       "    .dataframe tbody tr th {\n",
       "        vertical-align: top;\n",
       "    }\n",
       "\n",
       "    .dataframe thead th {\n",
       "        text-align: right;\n",
       "    }\n",
       "</style>\n",
       "<table border=\"1\" class=\"dataframe\">\n",
       "  <thead>\n",
       "    <tr style=\"text-align: right;\">\n",
       "      <th></th>\n",
       "      <th>CAPEX</th>\n",
       "      <th>discount rate</th>\n",
       "      <th>efficiency</th>\n",
       "      <th>OPEX_fixed</th>\n",
       "      <th>OPEX_marginal</th>\n",
       "      <th>lifetime</th>\n",
       "    </tr>\n",
       "  </thead>\n",
       "  <tbody>\n",
       "    <tr>\n",
       "      <th>default</th>\n",
       "      <td>NaN</td>\n",
       "      <td>0.08</td>\n",
       "      <td>NaN</td>\n",
       "      <td>3.0</td>\n",
       "      <td>0.000000</td>\n",
       "      <td>20</td>\n",
       "    </tr>\n",
       "    <tr>\n",
       "      <th>pv</th>\n",
       "      <td>900</td>\n",
       "      <td>0.08</td>\n",
       "      <td>NaN</td>\n",
       "      <td>16.0</td>\n",
       "      <td>0.000000</td>\n",
       "      <td>25</td>\n",
       "    </tr>\n",
       "    <tr>\n",
       "      <th>wind</th>\n",
       "      <td>2400</td>\n",
       "      <td>0.08</td>\n",
       "      <td>NaN</td>\n",
       "      <td>80.0</td>\n",
       "      <td>0.000000</td>\n",
       "      <td>20</td>\n",
       "    </tr>\n",
       "    <tr>\n",
       "      <th>battery</th>\n",
       "      <td>450</td>\n",
       "      <td>0.08</td>\n",
       "      <td>0.9</td>\n",
       "      <td>3.0</td>\n",
       "      <td>0.000000</td>\n",
       "      <td>10</td>\n",
       "    </tr>\n",
       "    <tr>\n",
       "      <th>diesel</th>\n",
       "      <td>600.0</td>\n",
       "      <td>0.08</td>\n",
       "      <td>NaN</td>\n",
       "      <td>3.0</td>\n",
       "      <td>0.474242</td>\n",
       "      <td>3</td>\n",
       "    </tr>\n",
       "  </tbody>\n",
       "</table>\n",
       "</div>"
      ],
      "text/plain": [
       "         CAPEX  discount rate efficiency  OPEX_fixed  OPEX_marginal  lifetime\n",
       "default    NaN           0.08        NaN         3.0       0.000000        20\n",
       "pv         900           0.08        NaN        16.0       0.000000        25\n",
       "wind      2400           0.08        NaN        80.0       0.000000        20\n",
       "battery    450           0.08        0.9         3.0       0.000000        10\n",
       "diesel   600.0           0.08        NaN         3.0       0.474242         3"
      ]
     },
     "execution_count": 13,
     "metadata": {},
     "output_type": "execute_result"
    }
   ],
   "source": [
    "# Initialize the dataframe: columns indicate cost components and rows indicate technologies\n",
    "assumptions = pd.DataFrame(\n",
    "    columns=[\"CAPEX\", \"discount rate\", \"efficiency\", \"OPEX_fixed\", \"OPEX_marginal\", \"lifetime\"],\n",
    "    index=[\"default\", \"pv\", \"wind\", \"battery\", \"diesel\"],\n",
    ")\n",
    "\n",
    "# default parameters\n",
    "assumptions.at[\"default\", \"OPEX_fixed\"] = 3.0\n",
    "assumptions.at[\"default\", \"OPEX_marginal\"] = 0.0\n",
    "assumptions.at[\"default\", \"discount rate\"] = 0.08\n",
    "assumptions.at[\"default\", \"lifetime\"] = 20\n",
    "\n",
    "# pv technology\n",
    "assumptions.at[\"pv\", \"CAPEX\"] = 900  # EUR/kWp\n",
    "assumptions.at[\"pv\", \"OPEX_fixed\"] = 16  # EUR/kWp/year\n",
    "assumptions.at[\"pv\", \"lifetime\"] = 25  # years\n",
    "\n",
    "# wind technology\n",
    "assumptions.at[\"wind\", \"CAPEX\"] = 2400  # EUR/kWp\n",
    "assumptions.at[\"wind\", \"OPEX_fixed\"] = 80  # EUR/kWp/year\n",
    "assumptions.at[\"wind\", \"lifetime\"] = 20  # years\n",
    "\n",
    "# battery technology\n",
    "assumptions.at[\"battery\", \"CAPEX\"] = 450  # EUR/kWh\n",
    "assumptions.at[\"battery\", \"OPEX_fixed\"] = 3  # EUR/kWh/year\n",
    "assumptions.at[\"battery\", \"efficiency\"] = 0.9  # [-] per unit\n",
    "assumptions.at[\"battery\", \"lifetime\"] = 10  # years\n",
    "\n",
    "# diesel technology\n",
    "fuel_price = 1.4  # EUR/l\n",
    "fuel_energy_density = 10  # kWh/l\n",
    "efficiency_diesel = 0.33  # [-] per unit\n",
    "\n",
    "maintenance_diesel = 0.05  # EUR/kW/h\n",
    "\n",
    "assumptions.at[\"diesel\", \"CAPEX\"] = 6e2  # EUR/kW\n",
    "assumptions.at[\"diesel\", \"OPEX_marginal\"] = \\\n",
    "    (fuel_price / fuel_energy_density / efficiency_diesel + maintenance_diesel)  # EUR/kWh\n",
    "assumptions.at[\"diesel\", \"lifetime\"] = 3  # years\n",
    "\n",
    "# fill defaults\n",
    "assumptions = assumptions.fillna(\n",
    "    {\n",
    "        \"OPEX_fixed\": assumptions.at[\"default\", \"OPEX_fixed\"],\n",
    "        \"OPEX_marginal\": assumptions.at[\"default\", \"OPEX_marginal\"],\n",
    "        \"discount rate\": assumptions.at[\"default\", \"discount rate\"],\n",
    "        \"lifetime\": assumptions.at[\"default\", \"lifetime\"],\n",
    "    }\n",
    ")\n",
    "\n",
    "# save to file\n",
    "assumptions.to_csv(\"assumptions.csv\")\n",
    "\n",
    "assumptions"
   ]
  },
  {
   "cell_type": "markdown",
   "metadata": {},
   "source": [
    "The objective of the system is to minimize the annualized costs, which are computed as follows:\n",
    "\n",
    "$$\n",
    "\\text{Annualized costs} = OPEX + \\sum_{i \\in A} {CRF}_i * {CAPEX}_i\\\\\n",
    "CRF_i = \\frac{r(1+d)^{L_i}}{(1+d)^{L_i}-1}\n",
    "$$\n",
    "\n",
    "where:\n",
    "- $A$ is the set of technologies\n",
    "- $d$ is the discount rate\n",
    "- $L_i$ is the lifetime of the technology $i$"
   ]
  },
  {
   "cell_type": "code",
   "execution_count": 14,
   "metadata": {},
   "outputs": [
    {
     "data": {
      "text/html": [
       "<div>\n",
       "<style scoped>\n",
       "    .dataframe tbody tr th:only-of-type {\n",
       "        vertical-align: middle;\n",
       "    }\n",
       "\n",
       "    .dataframe tbody tr th {\n",
       "        vertical-align: top;\n",
       "    }\n",
       "\n",
       "    .dataframe thead th {\n",
       "        text-align: right;\n",
       "    }\n",
       "</style>\n",
       "<table border=\"1\" class=\"dataframe\">\n",
       "  <thead>\n",
       "    <tr style=\"text-align: right;\">\n",
       "      <th></th>\n",
       "      <th>CAPEX</th>\n",
       "      <th>discount rate</th>\n",
       "      <th>efficiency</th>\n",
       "      <th>OPEX_fixed</th>\n",
       "      <th>OPEX_marginal</th>\n",
       "      <th>lifetime</th>\n",
       "      <th>annuity</th>\n",
       "      <th>capital_cost</th>\n",
       "    </tr>\n",
       "  </thead>\n",
       "  <tbody>\n",
       "    <tr>\n",
       "      <th>default</th>\n",
       "      <td>NaN</td>\n",
       "      <td>0.08</td>\n",
       "      <td>NaN</td>\n",
       "      <td>3.0</td>\n",
       "      <td>0.000000</td>\n",
       "      <td>20</td>\n",
       "      <td>0.101852</td>\n",
       "      <td>NaN</td>\n",
       "    </tr>\n",
       "    <tr>\n",
       "      <th>pv</th>\n",
       "      <td>900</td>\n",
       "      <td>0.08</td>\n",
       "      <td>NaN</td>\n",
       "      <td>16.0</td>\n",
       "      <td>0.000000</td>\n",
       "      <td>25</td>\n",
       "      <td>0.093679</td>\n",
       "      <td>100.310901</td>\n",
       "    </tr>\n",
       "    <tr>\n",
       "      <th>wind</th>\n",
       "      <td>2400</td>\n",
       "      <td>0.08</td>\n",
       "      <td>NaN</td>\n",
       "      <td>80.0</td>\n",
       "      <td>0.000000</td>\n",
       "      <td>20</td>\n",
       "      <td>0.101852</td>\n",
       "      <td>324.445301</td>\n",
       "    </tr>\n",
       "    <tr>\n",
       "      <th>battery</th>\n",
       "      <td>450</td>\n",
       "      <td>0.08</td>\n",
       "      <td>0.9</td>\n",
       "      <td>3.0</td>\n",
       "      <td>0.000000</td>\n",
       "      <td>10</td>\n",
       "      <td>0.149029</td>\n",
       "      <td>70.063270</td>\n",
       "    </tr>\n",
       "    <tr>\n",
       "      <th>diesel</th>\n",
       "      <td>600.0</td>\n",
       "      <td>0.08</td>\n",
       "      <td>NaN</td>\n",
       "      <td>3.0</td>\n",
       "      <td>0.474242</td>\n",
       "      <td>3</td>\n",
       "      <td>0.388034</td>\n",
       "      <td>235.820108</td>\n",
       "    </tr>\n",
       "  </tbody>\n",
       "</table>\n",
       "</div>"
      ],
      "text/plain": [
       "         CAPEX  discount rate efficiency  OPEX_fixed  OPEX_marginal  lifetime  \\\n",
       "default    NaN           0.08        NaN         3.0       0.000000        20   \n",
       "pv         900           0.08        NaN        16.0       0.000000        25   \n",
       "wind      2400           0.08        NaN        80.0       0.000000        20   \n",
       "battery    450           0.08        0.9         3.0       0.000000        10   \n",
       "diesel   600.0           0.08        NaN         3.0       0.474242         3   \n",
       "\n",
       "          annuity  capital_cost  \n",
       "default  0.101852           NaN  \n",
       "pv       0.093679    100.310901  \n",
       "wind     0.101852    324.445301  \n",
       "battery  0.149029     70.063270  \n",
       "diesel   0.388034    235.820108  "
      ]
     },
     "execution_count": 14,
     "metadata": {},
     "output_type": "execute_result"
    }
   ],
   "source": [
    "def annuity(lifetime, rate):\n",
    "    \"\"\"\n",
    "    Calculate the annuity factor for a given lifetime and discount rate.\n",
    "    \"\"\"\n",
    "    if rate == 0.0:\n",
    "        return 1 / lifetime\n",
    "    else:\n",
    "        return rate / (1.0 - 1.0 / (1.0 + rate) ** lifetime)\n",
    "\n",
    "\n",
    "# calculate annuity for every technology\n",
    "assumptions[\"annuity\"] = assumptions.apply(\n",
    "    lambda x: annuity(x[\"lifetime\"], x[\"discount rate\"]), axis=1\n",
    ")\n",
    "\n",
    "# annualise investment costs, add fixed OPEX to calculate the parameter `capital_cost` for the PyPSA model\n",
    "assumptions[\"capital_cost\"] = [\n",
    "    v[\"annuity\"] * v[\"CAPEX\"] + v[\"OPEX_fixed\"]\n",
    "    for i, v in assumptions.iterrows()\n",
    "]\n",
    "\n",
    "assumptions"
   ]
  },
  {
   "cell_type": "markdown",
   "metadata": {},
   "source": [
    "## 3. PyPSA model\n",
    "\n",
    "This second block of code is used to define the PyPSA model.\n",
    "\n",
    "The model is a 1-node energy system that contains the following components:\n",
    "- **Load**: the load is defined as a fixed **Load** component, with the time series of demand as defined above\n",
    "- **PV**: the PV is defined as a **Generator**\n",
    "- **Wind**: the wind is defined as a **Generator**\n",
    "- **Battery**: the battery is defined as a **Storage Unit**\n",
    "- **Diesel**: the diesel generator is defined as a **Generator**\n",
    "\n",
    "All assets (PV, Wind, Battery and Diesel generator) are assumed to be expandable: the optimization will determine the optimal size of each asset.\n",
    "*Note*: we assume that the costs of components are linearly to their capacity."
   ]
  },
  {
   "cell_type": "markdown",
   "metadata": {},
   "source": [
    "### Create the basic PyPSA model"
   ]
  },
  {
   "cell_type": "code",
   "execution_count": 15,
   "metadata": {},
   "outputs": [
    {
     "data": {
      "text/plain": [
       "Index(['microgrid'], dtype='object')"
      ]
     },
     "execution_count": 15,
     "metadata": {},
     "output_type": "execute_result"
    }
   ],
   "source": [
    "# Create an empty PyPSA network\n",
    "n = pypsa.Network()\n",
    "\n",
    "# set the snapshots of the simulation, being the time steps of the data\n",
    "n.set_snapshots(df_data.index)\n",
    "\n",
    "# set carriers\n",
    "n.add(\"Carrier\", [\"AC\", \"DC\", \"diesel\"])\n",
    "\n",
    "# Add a bus for the microgrid\n",
    "n.add(\"Bus\", \"microgrid\", carrier=\"AC\")"
   ]
  },
  {
   "cell_type": "markdown",
   "metadata": {},
   "source": [
    "### Add the load\n",
    "\n",
    "We now add the load to the model."
   ]
  },
  {
   "cell_type": "code",
   "execution_count": 16,
   "metadata": {},
   "outputs": [
    {
     "data": {
      "text/plain": [
       "Index(['load'], dtype='object')"
      ]
     },
     "execution_count": 16,
     "metadata": {},
     "output_type": "execute_result"
    }
   ],
   "source": [
    "n.add(\"Load\", \"load\", bus=\"microgrid\", p_set=df_data[\"demand\"])"
   ]
  },
  {
   "cell_type": "markdown",
   "metadata": {},
   "source": [
    "To verify the load component is added, we can print the loads object in the PyPSA model.\n",
    "\n",
    "The cell shows that a load object is indeed added to the bus microgrid."
   ]
  },
  {
   "cell_type": "code",
   "execution_count": 17,
   "metadata": {},
   "outputs": [
    {
     "data": {
      "text/html": [
       "<div>\n",
       "<style scoped>\n",
       "    .dataframe tbody tr th:only-of-type {\n",
       "        vertical-align: middle;\n",
       "    }\n",
       "\n",
       "    .dataframe tbody tr th {\n",
       "        vertical-align: top;\n",
       "    }\n",
       "\n",
       "    .dataframe thead th {\n",
       "        text-align: right;\n",
       "    }\n",
       "</style>\n",
       "<table border=\"1\" class=\"dataframe\">\n",
       "  <thead>\n",
       "    <tr style=\"text-align: right;\">\n",
       "      <th></th>\n",
       "      <th>bus</th>\n",
       "      <th>carrier</th>\n",
       "      <th>type</th>\n",
       "      <th>p_set</th>\n",
       "      <th>q_set</th>\n",
       "      <th>sign</th>\n",
       "      <th>active</th>\n",
       "    </tr>\n",
       "    <tr>\n",
       "      <th>Load</th>\n",
       "      <th></th>\n",
       "      <th></th>\n",
       "      <th></th>\n",
       "      <th></th>\n",
       "      <th></th>\n",
       "      <th></th>\n",
       "      <th></th>\n",
       "    </tr>\n",
       "  </thead>\n",
       "  <tbody>\n",
       "    <tr>\n",
       "      <th>load</th>\n",
       "      <td>microgrid</td>\n",
       "      <td></td>\n",
       "      <td></td>\n",
       "      <td>0.0</td>\n",
       "      <td>0.0</td>\n",
       "      <td>-1.0</td>\n",
       "      <td>True</td>\n",
       "    </tr>\n",
       "  </tbody>\n",
       "</table>\n",
       "</div>"
      ],
      "text/plain": [
       "            bus carrier type  p_set  q_set  sign  active\n",
       "Load                                                    \n",
       "load  microgrid                 0.0    0.0  -1.0    True"
      ]
     },
     "execution_count": 17,
     "metadata": {},
     "output_type": "execute_result"
    }
   ],
   "source": [
    "n.loads"
   ]
  },
  {
   "cell_type": "markdown",
   "metadata": {},
   "source": [
    "To verify the time series that has been added, we can check the object `n.loads_t.p_set` that contains the time series of the load."
   ]
  },
  {
   "cell_type": "code",
   "execution_count": 18,
   "metadata": {},
   "outputs": [
    {
     "data": {
      "text/html": [
       "<div>\n",
       "<style scoped>\n",
       "    .dataframe tbody tr th:only-of-type {\n",
       "        vertical-align: middle;\n",
       "    }\n",
       "\n",
       "    .dataframe tbody tr th {\n",
       "        vertical-align: top;\n",
       "    }\n",
       "\n",
       "    .dataframe thead th {\n",
       "        text-align: right;\n",
       "    }\n",
       "</style>\n",
       "<table border=\"1\" class=\"dataframe\">\n",
       "  <thead>\n",
       "    <tr style=\"text-align: right;\">\n",
       "      <th>Load</th>\n",
       "      <th>load</th>\n",
       "    </tr>\n",
       "    <tr>\n",
       "      <th>snapshot</th>\n",
       "      <th></th>\n",
       "    </tr>\n",
       "  </thead>\n",
       "  <tbody>\n",
       "    <tr>\n",
       "      <th>0</th>\n",
       "      <td>19.831080</td>\n",
       "    </tr>\n",
       "    <tr>\n",
       "      <th>1</th>\n",
       "      <td>19.144872</td>\n",
       "    </tr>\n",
       "    <tr>\n",
       "      <th>2</th>\n",
       "      <td>17.434915</td>\n",
       "    </tr>\n",
       "    <tr>\n",
       "      <th>3</th>\n",
       "      <td>17.864990</td>\n",
       "    </tr>\n",
       "    <tr>\n",
       "      <th>4</th>\n",
       "      <td>14.848105</td>\n",
       "    </tr>\n",
       "    <tr>\n",
       "      <th>...</th>\n",
       "      <td>...</td>\n",
       "    </tr>\n",
       "    <tr>\n",
       "      <th>8755</th>\n",
       "      <td>60.971285</td>\n",
       "    </tr>\n",
       "    <tr>\n",
       "      <th>8756</th>\n",
       "      <td>27.495113</td>\n",
       "    </tr>\n",
       "    <tr>\n",
       "      <th>8757</th>\n",
       "      <td>32.420509</td>\n",
       "    </tr>\n",
       "    <tr>\n",
       "      <th>8758</th>\n",
       "      <td>30.785660</td>\n",
       "    </tr>\n",
       "    <tr>\n",
       "      <th>8759</th>\n",
       "      <td>22.489370</td>\n",
       "    </tr>\n",
       "  </tbody>\n",
       "</table>\n",
       "<p>8760 rows × 1 columns</p>\n",
       "</div>"
      ],
      "text/plain": [
       "Load           load\n",
       "snapshot           \n",
       "0         19.831080\n",
       "1         19.144872\n",
       "2         17.434915\n",
       "3         17.864990\n",
       "4         14.848105\n",
       "...             ...\n",
       "8755      60.971285\n",
       "8756      27.495113\n",
       "8757      32.420509\n",
       "8758      30.785660\n",
       "8759      22.489370\n",
       "\n",
       "[8760 rows x 1 columns]"
      ]
     },
     "execution_count": 18,
     "metadata": {},
     "output_type": "execute_result"
    }
   ],
   "source": [
    "n.loads_t.p_set"
   ]
  },
  {
   "cell_type": "markdown",
   "metadata": {},
   "source": [
    "### Add renewable technologies"
   ]
  },
  {
   "cell_type": "code",
   "execution_count": 19,
   "metadata": {},
   "outputs": [
    {
     "data": {
      "text/plain": [
       "Index(['pv', 'wind'], dtype='object')"
      ]
     },
     "execution_count": 19,
     "metadata": {},
     "output_type": "execute_result"
    }
   ],
   "source": [
    "RES_techs = [\"pv\", \"wind\"]\n",
    "\n",
    "n.add(\n",
    "    \"Generator\",  # Each RES technology is represented with a \"Generator\" component\n",
    "    RES_techs,\n",
    "    carrier=\"AC\",\n",
    "    bus=\"microgrid\",  # connect the generators to the microgrid bus\n",
    "    p_max_pu=df_data[RES_techs],  # specify a maximum per-unit production for every time-step\n",
    "    capital_cost=assumptions.loc[RES_techs, \"capital_cost\"],  # specify the capital cost\n",
    "    p_nom_extendable=True,  # Specify the installed capacity as an optimisation variable\n",
    ")\n",
    "# Note: this is a madd function (multiple-add) which adds multiple components at once"
   ]
  },
  {
   "cell_type": "markdown",
   "metadata": {},
   "source": [
    "To verify the load component is added, we can print the loads object in the PyPSA model.\n",
    "\n",
    "The cell shows that two generator objects are indeed added to the bus microgrid."
   ]
  },
  {
   "cell_type": "code",
   "execution_count": 20,
   "metadata": {},
   "outputs": [
    {
     "data": {
      "text/html": [
       "<div>\n",
       "<style scoped>\n",
       "    .dataframe tbody tr th:only-of-type {\n",
       "        vertical-align: middle;\n",
       "    }\n",
       "\n",
       "    .dataframe tbody tr th {\n",
       "        vertical-align: top;\n",
       "    }\n",
       "\n",
       "    .dataframe thead th {\n",
       "        text-align: right;\n",
       "    }\n",
       "</style>\n",
       "<table border=\"1\" class=\"dataframe\">\n",
       "  <thead>\n",
       "    <tr style=\"text-align: right;\">\n",
       "      <th></th>\n",
       "      <th>bus</th>\n",
       "      <th>control</th>\n",
       "      <th>type</th>\n",
       "      <th>p_nom</th>\n",
       "      <th>p_nom_mod</th>\n",
       "      <th>p_nom_extendable</th>\n",
       "      <th>p_nom_min</th>\n",
       "      <th>p_nom_max</th>\n",
       "      <th>p_min_pu</th>\n",
       "      <th>p_max_pu</th>\n",
       "      <th>...</th>\n",
       "      <th>min_up_time</th>\n",
       "      <th>min_down_time</th>\n",
       "      <th>up_time_before</th>\n",
       "      <th>down_time_before</th>\n",
       "      <th>ramp_limit_up</th>\n",
       "      <th>ramp_limit_down</th>\n",
       "      <th>ramp_limit_start_up</th>\n",
       "      <th>ramp_limit_shut_down</th>\n",
       "      <th>weight</th>\n",
       "      <th>p_nom_opt</th>\n",
       "    </tr>\n",
       "    <tr>\n",
       "      <th>Generator</th>\n",
       "      <th></th>\n",
       "      <th></th>\n",
       "      <th></th>\n",
       "      <th></th>\n",
       "      <th></th>\n",
       "      <th></th>\n",
       "      <th></th>\n",
       "      <th></th>\n",
       "      <th></th>\n",
       "      <th></th>\n",
       "      <th></th>\n",
       "      <th></th>\n",
       "      <th></th>\n",
       "      <th></th>\n",
       "      <th></th>\n",
       "      <th></th>\n",
       "      <th></th>\n",
       "      <th></th>\n",
       "      <th></th>\n",
       "      <th></th>\n",
       "      <th></th>\n",
       "    </tr>\n",
       "  </thead>\n",
       "  <tbody>\n",
       "    <tr>\n",
       "      <th>pv</th>\n",
       "      <td>microgrid</td>\n",
       "      <td>PQ</td>\n",
       "      <td></td>\n",
       "      <td>0.0</td>\n",
       "      <td>0.0</td>\n",
       "      <td>True</td>\n",
       "      <td>0.0</td>\n",
       "      <td>inf</td>\n",
       "      <td>0.0</td>\n",
       "      <td>1.0</td>\n",
       "      <td>...</td>\n",
       "      <td>0</td>\n",
       "      <td>0</td>\n",
       "      <td>1</td>\n",
       "      <td>0</td>\n",
       "      <td>NaN</td>\n",
       "      <td>NaN</td>\n",
       "      <td>1.0</td>\n",
       "      <td>1.0</td>\n",
       "      <td>1.0</td>\n",
       "      <td>0.0</td>\n",
       "    </tr>\n",
       "    <tr>\n",
       "      <th>wind</th>\n",
       "      <td>microgrid</td>\n",
       "      <td>PQ</td>\n",
       "      <td></td>\n",
       "      <td>0.0</td>\n",
       "      <td>0.0</td>\n",
       "      <td>True</td>\n",
       "      <td>0.0</td>\n",
       "      <td>inf</td>\n",
       "      <td>0.0</td>\n",
       "      <td>1.0</td>\n",
       "      <td>...</td>\n",
       "      <td>0</td>\n",
       "      <td>0</td>\n",
       "      <td>1</td>\n",
       "      <td>0</td>\n",
       "      <td>NaN</td>\n",
       "      <td>NaN</td>\n",
       "      <td>1.0</td>\n",
       "      <td>1.0</td>\n",
       "      <td>1.0</td>\n",
       "      <td>0.0</td>\n",
       "    </tr>\n",
       "  </tbody>\n",
       "</table>\n",
       "<p>2 rows × 37 columns</p>\n",
       "</div>"
      ],
      "text/plain": [
       "                 bus control type  p_nom  p_nom_mod  p_nom_extendable  \\\n",
       "Generator                                                               \n",
       "pv         microgrid      PQ         0.0        0.0              True   \n",
       "wind       microgrid      PQ         0.0        0.0              True   \n",
       "\n",
       "           p_nom_min  p_nom_max  p_min_pu  p_max_pu  ...  min_up_time  \\\n",
       "Generator                                            ...                \n",
       "pv               0.0        inf       0.0       1.0  ...            0   \n",
       "wind             0.0        inf       0.0       1.0  ...            0   \n",
       "\n",
       "           min_down_time  up_time_before  down_time_before  ramp_limit_up  \\\n",
       "Generator                                                                   \n",
       "pv                     0               1                 0            NaN   \n",
       "wind                   0               1                 0            NaN   \n",
       "\n",
       "          ramp_limit_down  ramp_limit_start_up  ramp_limit_shut_down  weight  \\\n",
       "Generator                                                                      \n",
       "pv                    NaN                  1.0                   1.0     1.0   \n",
       "wind                  NaN                  1.0                   1.0     1.0   \n",
       "\n",
       "           p_nom_opt  \n",
       "Generator             \n",
       "pv               0.0  \n",
       "wind             0.0  \n",
       "\n",
       "[2 rows x 37 columns]"
      ]
     },
     "execution_count": 20,
     "metadata": {},
     "output_type": "execute_result"
    }
   ],
   "source": [
    "n.generators"
   ]
  },
  {
   "cell_type": "markdown",
   "metadata": {},
   "source": [
    "The time series of the PV and Wind are added to the model, in the object `n.generators_t.p_max_pu`."
   ]
  },
  {
   "cell_type": "code",
   "execution_count": 21,
   "metadata": {},
   "outputs": [
    {
     "data": {
      "text/html": [
       "<div>\n",
       "<style scoped>\n",
       "    .dataframe tbody tr th:only-of-type {\n",
       "        vertical-align: middle;\n",
       "    }\n",
       "\n",
       "    .dataframe tbody tr th {\n",
       "        vertical-align: top;\n",
       "    }\n",
       "\n",
       "    .dataframe thead th {\n",
       "        text-align: right;\n",
       "    }\n",
       "</style>\n",
       "<table border=\"1\" class=\"dataframe\">\n",
       "  <thead>\n",
       "    <tr style=\"text-align: right;\">\n",
       "      <th>Generator</th>\n",
       "      <th>pv</th>\n",
       "      <th>wind</th>\n",
       "    </tr>\n",
       "    <tr>\n",
       "      <th>snapshot</th>\n",
       "      <th></th>\n",
       "      <th></th>\n",
       "    </tr>\n",
       "  </thead>\n",
       "  <tbody>\n",
       "    <tr>\n",
       "      <th>0</th>\n",
       "      <td>0.000</td>\n",
       "      <td>0.360</td>\n",
       "    </tr>\n",
       "    <tr>\n",
       "      <th>1</th>\n",
       "      <td>0.000</td>\n",
       "      <td>0.355</td>\n",
       "    </tr>\n",
       "    <tr>\n",
       "      <th>2</th>\n",
       "      <td>0.000</td>\n",
       "      <td>0.339</td>\n",
       "    </tr>\n",
       "    <tr>\n",
       "      <th>3</th>\n",
       "      <td>0.000</td>\n",
       "      <td>0.312</td>\n",
       "    </tr>\n",
       "    <tr>\n",
       "      <th>4</th>\n",
       "      <td>0.213</td>\n",
       "      <td>0.194</td>\n",
       "    </tr>\n",
       "    <tr>\n",
       "      <th>...</th>\n",
       "      <td>...</td>\n",
       "      <td>...</td>\n",
       "    </tr>\n",
       "    <tr>\n",
       "      <th>8755</th>\n",
       "      <td>0.000</td>\n",
       "      <td>0.572</td>\n",
       "    </tr>\n",
       "    <tr>\n",
       "      <th>8756</th>\n",
       "      <td>0.000</td>\n",
       "      <td>0.592</td>\n",
       "    </tr>\n",
       "    <tr>\n",
       "      <th>8757</th>\n",
       "      <td>0.000</td>\n",
       "      <td>0.590</td>\n",
       "    </tr>\n",
       "    <tr>\n",
       "      <th>8758</th>\n",
       "      <td>0.000</td>\n",
       "      <td>0.580</td>\n",
       "    </tr>\n",
       "    <tr>\n",
       "      <th>8759</th>\n",
       "      <td>0.000</td>\n",
       "      <td>0.521</td>\n",
       "    </tr>\n",
       "  </tbody>\n",
       "</table>\n",
       "<p>8760 rows × 2 columns</p>\n",
       "</div>"
      ],
      "text/plain": [
       "Generator     pv   wind\n",
       "snapshot               \n",
       "0          0.000  0.360\n",
       "1          0.000  0.355\n",
       "2          0.000  0.339\n",
       "3          0.000  0.312\n",
       "4          0.213  0.194\n",
       "...          ...    ...\n",
       "8755       0.000  0.572\n",
       "8756       0.000  0.592\n",
       "8757       0.000  0.590\n",
       "8758       0.000  0.580\n",
       "8759       0.000  0.521\n",
       "\n",
       "[8760 rows x 2 columns]"
      ]
     },
     "execution_count": 21,
     "metadata": {},
     "output_type": "execute_result"
    }
   ],
   "source": [
    "n.generators_t.p_max_pu"
   ]
  },
  {
   "cell_type": "markdown",
   "metadata": {},
   "source": [
    "### Add the battery"
   ]
  },
  {
   "cell_type": "code",
   "execution_count": 22,
   "metadata": {},
   "outputs": [
    {
     "data": {
      "text/plain": [
       "Index(['battery'], dtype='object')"
      ]
     },
     "execution_count": 22,
     "metadata": {},
     "output_type": "execute_result"
    }
   ],
   "source": [
    "n.add(\n",
    "    \"StorageUnit\",\n",
    "    \"battery\",\n",
    "    bus=\"microgrid\",\n",
    "    carrier=\"DC\",\n",
    "    p_nom_extendable=True,\n",
    "    capital_cost=assumptions.at[\"battery\", \"capital_cost\"],\n",
    "    cyclic_state_of_charge=True,\n",
    ")"
   ]
  },
  {
   "cell_type": "markdown",
   "metadata": {},
   "source": [
    "### Add the diesel generator\n",
    "\n",
    "Now we add a diesel generator, and verify it is added to the `n.generators` object."
   ]
  },
  {
   "cell_type": "code",
   "execution_count": 23,
   "metadata": {},
   "outputs": [
    {
     "data": {
      "text/html": [
       "<div>\n",
       "<style scoped>\n",
       "    .dataframe tbody tr th:only-of-type {\n",
       "        vertical-align: middle;\n",
       "    }\n",
       "\n",
       "    .dataframe tbody tr th {\n",
       "        vertical-align: top;\n",
       "    }\n",
       "\n",
       "    .dataframe thead th {\n",
       "        text-align: right;\n",
       "    }\n",
       "</style>\n",
       "<table border=\"1\" class=\"dataframe\">\n",
       "  <thead>\n",
       "    <tr style=\"text-align: right;\">\n",
       "      <th></th>\n",
       "      <th>bus</th>\n",
       "      <th>control</th>\n",
       "      <th>type</th>\n",
       "      <th>p_nom</th>\n",
       "      <th>p_nom_mod</th>\n",
       "      <th>p_nom_extendable</th>\n",
       "      <th>p_nom_min</th>\n",
       "      <th>p_nom_max</th>\n",
       "      <th>p_min_pu</th>\n",
       "      <th>p_max_pu</th>\n",
       "      <th>...</th>\n",
       "      <th>min_up_time</th>\n",
       "      <th>min_down_time</th>\n",
       "      <th>up_time_before</th>\n",
       "      <th>down_time_before</th>\n",
       "      <th>ramp_limit_up</th>\n",
       "      <th>ramp_limit_down</th>\n",
       "      <th>ramp_limit_start_up</th>\n",
       "      <th>ramp_limit_shut_down</th>\n",
       "      <th>weight</th>\n",
       "      <th>p_nom_opt</th>\n",
       "    </tr>\n",
       "    <tr>\n",
       "      <th>Generator</th>\n",
       "      <th></th>\n",
       "      <th></th>\n",
       "      <th></th>\n",
       "      <th></th>\n",
       "      <th></th>\n",
       "      <th></th>\n",
       "      <th></th>\n",
       "      <th></th>\n",
       "      <th></th>\n",
       "      <th></th>\n",
       "      <th></th>\n",
       "      <th></th>\n",
       "      <th></th>\n",
       "      <th></th>\n",
       "      <th></th>\n",
       "      <th></th>\n",
       "      <th></th>\n",
       "      <th></th>\n",
       "      <th></th>\n",
       "      <th></th>\n",
       "      <th></th>\n",
       "    </tr>\n",
       "  </thead>\n",
       "  <tbody>\n",
       "    <tr>\n",
       "      <th>pv</th>\n",
       "      <td>microgrid</td>\n",
       "      <td>PQ</td>\n",
       "      <td></td>\n",
       "      <td>0.0</td>\n",
       "      <td>0.0</td>\n",
       "      <td>True</td>\n",
       "      <td>0.0</td>\n",
       "      <td>inf</td>\n",
       "      <td>0.0</td>\n",
       "      <td>1.0</td>\n",
       "      <td>...</td>\n",
       "      <td>0</td>\n",
       "      <td>0</td>\n",
       "      <td>1</td>\n",
       "      <td>0</td>\n",
       "      <td>NaN</td>\n",
       "      <td>NaN</td>\n",
       "      <td>1.0</td>\n",
       "      <td>1.0</td>\n",
       "      <td>1.0</td>\n",
       "      <td>0.0</td>\n",
       "    </tr>\n",
       "    <tr>\n",
       "      <th>wind</th>\n",
       "      <td>microgrid</td>\n",
       "      <td>PQ</td>\n",
       "      <td></td>\n",
       "      <td>0.0</td>\n",
       "      <td>0.0</td>\n",
       "      <td>True</td>\n",
       "      <td>0.0</td>\n",
       "      <td>inf</td>\n",
       "      <td>0.0</td>\n",
       "      <td>1.0</td>\n",
       "      <td>...</td>\n",
       "      <td>0</td>\n",
       "      <td>0</td>\n",
       "      <td>1</td>\n",
       "      <td>0</td>\n",
       "      <td>NaN</td>\n",
       "      <td>NaN</td>\n",
       "      <td>1.0</td>\n",
       "      <td>1.0</td>\n",
       "      <td>1.0</td>\n",
       "      <td>0.0</td>\n",
       "    </tr>\n",
       "    <tr>\n",
       "      <th>diesel</th>\n",
       "      <td>microgrid</td>\n",
       "      <td>PQ</td>\n",
       "      <td></td>\n",
       "      <td>0.0</td>\n",
       "      <td>0.0</td>\n",
       "      <td>True</td>\n",
       "      <td>0.0</td>\n",
       "      <td>inf</td>\n",
       "      <td>0.0</td>\n",
       "      <td>1.0</td>\n",
       "      <td>...</td>\n",
       "      <td>0</td>\n",
       "      <td>0</td>\n",
       "      <td>1</td>\n",
       "      <td>0</td>\n",
       "      <td>NaN</td>\n",
       "      <td>NaN</td>\n",
       "      <td>1.0</td>\n",
       "      <td>1.0</td>\n",
       "      <td>1.0</td>\n",
       "      <td>0.0</td>\n",
       "    </tr>\n",
       "  </tbody>\n",
       "</table>\n",
       "<p>3 rows × 37 columns</p>\n",
       "</div>"
      ],
      "text/plain": [
       "                 bus control type  p_nom  p_nom_mod  p_nom_extendable  \\\n",
       "Generator                                                               \n",
       "pv         microgrid      PQ         0.0        0.0              True   \n",
       "wind       microgrid      PQ         0.0        0.0              True   \n",
       "diesel     microgrid      PQ         0.0        0.0              True   \n",
       "\n",
       "           p_nom_min  p_nom_max  p_min_pu  p_max_pu  ...  min_up_time  \\\n",
       "Generator                                            ...                \n",
       "pv               0.0        inf       0.0       1.0  ...            0   \n",
       "wind             0.0        inf       0.0       1.0  ...            0   \n",
       "diesel           0.0        inf       0.0       1.0  ...            0   \n",
       "\n",
       "           min_down_time  up_time_before  down_time_before  ramp_limit_up  \\\n",
       "Generator                                                                   \n",
       "pv                     0               1                 0            NaN   \n",
       "wind                   0               1                 0            NaN   \n",
       "diesel                 0               1                 0            NaN   \n",
       "\n",
       "          ramp_limit_down  ramp_limit_start_up  ramp_limit_shut_down  weight  \\\n",
       "Generator                                                                      \n",
       "pv                    NaN                  1.0                   1.0     1.0   \n",
       "wind                  NaN                  1.0                   1.0     1.0   \n",
       "diesel                NaN                  1.0                   1.0     1.0   \n",
       "\n",
       "           p_nom_opt  \n",
       "Generator             \n",
       "pv               0.0  \n",
       "wind             0.0  \n",
       "diesel           0.0  \n",
       "\n",
       "[3 rows x 37 columns]"
      ]
     },
     "execution_count": 23,
     "metadata": {},
     "output_type": "execute_result"
    }
   ],
   "source": [
    "n.add(\n",
    "    \"Generator\",\n",
    "    \"diesel\",\n",
    "    bus=\"microgrid\",\n",
    "    carrier=\"AC\",\n",
    "    p_nom_extendable=True,\n",
    "    capital_cost=assumptions.at[\"diesel\", \"capital_cost\"],\n",
    "    marginal_cost=assumptions.at[\"diesel\", \"OPEX_marginal\"],\n",
    ")\n",
    "\n",
    "n.generators"
   ]
  },
  {
   "cell_type": "markdown",
   "metadata": {},
   "source": [
    "## 4. Optimization of the model\n",
    "\n",
    "Now we execute the model with the default GLPK solver.\n",
    "Note that the solver can be changed to other solvers, such as CPLEX or Gurobi, that are commercial solvers with better performances.\n",
    "\n",
    "For your possible thesis, in case of need, CPLEX and Gurobi are freely accessible with your academic email."
   ]
  },
  {
   "cell_type": "code",
   "execution_count": 24,
   "metadata": {},
   "outputs": [
    {
     "name": "stderr",
     "output_type": "stream",
     "text": [
      "INFO:linopy.model: Solve problem using Glpk solver\n",
      "INFO:linopy.io:Writing objective.\n",
      "Writing constraints.: 100%|\u001b[38;2;128;191;255m██████████\u001b[0m| 14/14 [00:00<00:00, 29.88it/s]\n",
      "Writing continuous variables.: 100%|\u001b[38;2;128;191;255m██████████\u001b[0m| 6/6 [00:00<00:00, 82.58it/s]\n",
      "INFO:linopy.io: Writing time: 0.56s\n",
      "INFO:linopy.solvers:GLPSOL--GLPK LP/MIP Solver 5.0\n",
      "Parameter(s) specified in the command line:\n",
      " --lp C:\\Users\\Davide\\AppData\\Local\\Temp\\linopy-problem-xfo_dtgo.lp --output\n",
      " C:\\Users\\Davide\\AppData\\Local\\Temp\\linopy-solve-s0bj8ue4.sol\n",
      "Reading problem data from 'C:\\Users\\Davide\\AppData\\Local\\Temp\\linopy-problem-xfo_dtgo.lp'...\n",
      "122644 rows, 52564 columns, 231273 non-zeros\n",
      "660534 lines were read\n",
      "GLPK Simplex Optimizer 5.0\n",
      "122644 rows, 52564 columns, 231273 non-zeros\n",
      "Preprocessing...\n",
      "64829 rows, 47313 columns, 168207 non-zeros\n",
      "Scaling...\n",
      " A: min|aij| =  1.000e-03  max|aij| =  1.000e+00  ratio =  1.000e+03\n",
      "GM: min|aij| =  3.333e-01  max|aij| =  3.000e+00  ratio =  9.003e+00\n",
      "EQ: min|aij| =  1.147e-01  max|aij| =  1.000e+00  ratio =  8.718e+00\n",
      "Constructing initial basis...\n",
      "Size of triangular part is 64828\n",
      "      0: obj =   3.462362648e+03 inf =   3.558e+05 (8760)\n",
      "   4667: obj =   2.048107939e+05 inf =   2.613e+05 (4093) 46\n",
      "   8793: obj =   2.035205692e+07 inf =   1.090e-10 (0) 41\n",
      "* 12605: obj =   2.678635050e+05 inf =   2.276e-11 (5527) 37\n",
      "* 16095: obj =   1.206508385e+05 inf =   2.490e-11 (3851) 35\n",
      "* 19280: obj =   9.810099292e+04 inf =   4.189e-12 (3649) 31\n",
      "* 22174: obj =   8.713136135e+04 inf =   7.885e-12 (3307) 27\n",
      "* 25230: obj =   7.679157991e+04 inf =   1.226e-11 (3139) 29\n",
      "* 27885: obj =   6.928513434e+04 inf =   1.337e-11 (3126) 25\n",
      "* 30841: obj =   6.490460147e+04 inf =   1.404e-11 (1488) 22\n",
      "* 33294: obj =   6.235288071e+04 inf =   1.120e-11 (1154) 22\n",
      "* 35822: obj =   6.019108356e+04 inf =   1.138e-11 (594) 22\n",
      "* 38472: obj =   5.773447993e+04 inf =   1.062e-11 (81) 21\n",
      "* 38529: obj =   5.771210677e+04 inf =   1.132e-11 (0)\n",
      "OPTIMAL LP SOLUTION FOUND\n",
      "Time used:   60.2 secs\n",
      "Memory used: 102.4 Mb (107388661 bytes)\n",
      "Writing basic solution to 'C:\\Users\\Davide\\AppData\\Local\\Temp\\linopy-solve-s0bj8ue4.sol'...\n",
      "\n",
      "INFO:linopy.constants: Optimization successful: \n",
      "Status: ok\n",
      "Termination condition: optimal\n",
      "Solution: 52564 primals, 122644 duals\n",
      "Objective: 5.77e+04\n",
      "Solver model: not available\n",
      "Solver message: optimal\n",
      "\n",
      "INFO:pypsa.optimization.optimize:The shadow-prices of the constraints Generator-ext-p-lower, Generator-ext-p-upper, StorageUnit-ext-p_dispatch-lower, StorageUnit-ext-p_dispatch-upper, StorageUnit-ext-p_store-lower, StorageUnit-ext-p_store-upper, StorageUnit-ext-state_of_charge-lower, StorageUnit-ext-state_of_charge-upper, StorageUnit-energy_balance were not assigned to the network.\n"
     ]
    },
    {
     "data": {
      "text/plain": [
       "('ok', 'optimal')"
      ]
     },
     "execution_count": 24,
     "metadata": {},
     "output_type": "execute_result"
    }
   ],
   "source": [
    "n.optimize(solver_name=SOLVER)"
   ]
  },
  {
   "cell_type": "markdown",
   "metadata": {},
   "source": [
    "## 5. Investigate the results"
   ]
  },
  {
   "cell_type": "markdown",
   "metadata": {},
   "source": [
    "### 5.1 Objective value\n",
    "\n",
    "In the following, we investigate the value of the objective function and notable values."
   ]
  },
  {
   "cell_type": "markdown",
   "metadata": {},
   "source": [
    "The objective"
   ]
  },
  {
   "cell_type": "code",
   "execution_count": 25,
   "metadata": {},
   "outputs": [
    {
     "data": {
      "text/plain": [
       "57712.10677"
      ]
     },
     "execution_count": 25,
     "metadata": {},
     "output_type": "execute_result"
    }
   ],
   "source": [
    "n.objective"
   ]
  },
  {
   "cell_type": "markdown",
   "metadata": {},
   "source": [
    "### 5.2 Optimal investment capacities\n",
    "\n",
    "In the following, we show the optimal investment capacities by components.\n",
    "To do so, we first merge all the optimal capacities for all components (generators, links, stores, storage_units and lines) and then we show a summary table.\n",
    "\n",
    "Note: the optimized variable for each component is different:\n",
    "- `p_nom_opt` is the nominal (power) capacity for `generators`, `links` and `storage_units`\n",
    "- `e_nom_opt` is the nominal (energy) capacity for `stores`\n",
    "- `s_nom_opt` is the nominal (apparent power) capacity for `lines`\n",
    "\n",
    "To clarify the results, in the following we concatenate all the results.\n",
    "For each component type, we create a column in a dataframe and populate the corresponding values with the optimal capacity.\n",
    "To ease the visualization, each column name is renamed to highlight the corresponding component."
   ]
  },
  {
   "cell_type": "code",
   "execution_count": 26,
   "metadata": {},
   "outputs": [
    {
     "data": {
      "text/html": [
       "<div>\n",
       "<style scoped>\n",
       "    .dataframe tbody tr th:only-of-type {\n",
       "        vertical-align: middle;\n",
       "    }\n",
       "\n",
       "    .dataframe tbody tr th {\n",
       "        vertical-align: top;\n",
       "    }\n",
       "\n",
       "    .dataframe thead th {\n",
       "        text-align: right;\n",
       "    }\n",
       "</style>\n",
       "<table border=\"1\" class=\"dataframe\">\n",
       "  <thead>\n",
       "    <tr style=\"text-align: right;\">\n",
       "      <th></th>\n",
       "      <th>p_nom_opt - Generator</th>\n",
       "      <th>p_nom_opt - Link</th>\n",
       "      <th>p_nom_opt - Storage Unit</th>\n",
       "      <th>e_nom_opt - Store</th>\n",
       "      <th>s_nom_opt - Line</th>\n",
       "    </tr>\n",
       "  </thead>\n",
       "  <tbody>\n",
       "    <tr>\n",
       "      <th>pv</th>\n",
       "      <td>210.44400</td>\n",
       "      <td>NaN</td>\n",
       "      <td>NaN</td>\n",
       "      <td>NaN</td>\n",
       "      <td>NaN</td>\n",
       "    </tr>\n",
       "    <tr>\n",
       "      <th>wind</th>\n",
       "      <td>0.00000</td>\n",
       "      <td>NaN</td>\n",
       "      <td>NaN</td>\n",
       "      <td>NaN</td>\n",
       "      <td>NaN</td>\n",
       "    </tr>\n",
       "    <tr>\n",
       "      <th>diesel</th>\n",
       "      <td>9.53365</td>\n",
       "      <td>NaN</td>\n",
       "      <td>NaN</td>\n",
       "      <td>NaN</td>\n",
       "      <td>NaN</td>\n",
       "    </tr>\n",
       "    <tr>\n",
       "      <th>battery</th>\n",
       "      <td>NaN</td>\n",
       "      <td>NaN</td>\n",
       "      <td>430.124</td>\n",
       "      <td>NaN</td>\n",
       "      <td>NaN</td>\n",
       "    </tr>\n",
       "  </tbody>\n",
       "</table>\n",
       "</div>"
      ],
      "text/plain": [
       "         p_nom_opt - Generator  p_nom_opt - Link  p_nom_opt - Storage Unit  \\\n",
       "pv                   210.44400               NaN                       NaN   \n",
       "wind                   0.00000               NaN                       NaN   \n",
       "diesel                 9.53365               NaN                       NaN   \n",
       "battery                    NaN               NaN                   430.124   \n",
       "\n",
       "         e_nom_opt - Store  s_nom_opt - Line  \n",
       "pv                     NaN               NaN  \n",
       "wind                   NaN               NaN  \n",
       "diesel                 NaN               NaN  \n",
       "battery                NaN               NaN  "
      ]
     },
     "execution_count": 26,
     "metadata": {},
     "output_type": "execute_result"
    }
   ],
   "source": [
    "pd.concat([\n",
    "    n.generators.p_nom_opt.rename(\"p_nom_opt - Generator\"),\n",
    "    n.links.p_nom_opt.rename(\"p_nom_opt - Link\"),\n",
    "    n.storage_units.p_nom_opt.rename(\"p_nom_opt - Storage Unit\"),\n",
    "    n.stores.e_nom_opt.rename(\"e_nom_opt - Store\"),\n",
    "    n.lines.s_nom_opt.rename(\"s_nom_opt - Line\"),\n",
    "], axis=1)"
   ]
  },
  {
   "cell_type": "markdown",
   "metadata": {},
   "source": [
    "### 5.3 Collect major energy statistics\n",
    "\n",
    "In the following, the goal is to collect major statistics on the total energy produced to supply the load.\n",
    "\n",
    "Note that the time series of any quantity of the different objects is stored into the object `{object}_t`, where `{object}` is any pypsa component, such as generators, links, etc.\n",
    "\n",
    "To do this, we first create a dataframe that contains all time series for any object and then we sum the quantities to identify the desired quantities."
   ]
  },
  {
   "cell_type": "code",
   "execution_count": 27,
   "metadata": {},
   "outputs": [],
   "source": [
    "all_dispatch = pd.concat(\n",
    "    [\n",
    "        n.generators_t.p,\n",
    "        n.storage_units_t.p,\n",
    "        n.stores_t.p,\n",
    "    ],\n",
    "    axis=1,\n",
    ")\n",
    "\n",
    "total_dispatch = all_dispatch.sum()"
   ]
  },
  {
   "cell_type": "markdown",
   "metadata": {},
   "source": [
    "Let's compare the quantities with respect to the total demand"
   ]
  },
  {
   "cell_type": "code",
   "execution_count": 28,
   "metadata": {},
   "outputs": [
    {
     "data": {
      "text/plain": [
       "pv         9.632091e-01\n",
       "wind       0.000000e+00\n",
       "diesel     3.679095e-02\n",
       "battery   -6.098454e-09\n",
       "dtype: float64"
      ]
     },
     "execution_count": 28,
     "metadata": {},
     "output_type": "execute_result"
    }
   ],
   "source": [
    "total_demand = n.loads_t.p_set.values.sum()\n",
    "\n",
    "total_dispatch/total_demand"
   ]
  },
  {
   "cell_type": "markdown",
   "metadata": {},
   "source": [
    "Let's now check the total renewable curtailment by comparing the available renewable production versus the actual production."
   ]
  },
  {
   "cell_type": "code",
   "execution_count": 29,
   "metadata": {},
   "outputs": [
    {
     "data": {
      "text/plain": [
       "Generator\n",
       "pv      320791.574064\n",
       "wind         0.000000\n",
       "dtype: float64"
      ]
     },
     "execution_count": 29,
     "metadata": {},
     "output_type": "execute_result"
    }
   ],
   "source": [
    "# get RES technologies that are actually installed\n",
    "existing_RES_techs = n.generators.index.intersection(RES_techs)\n",
    "\n",
    "total_available_RES = n.generators_t.p_max_pu[existing_RES_techs].sum() * n.generators.p_nom_opt[existing_RES_techs]\n",
    "total_available_RES"
   ]
  },
  {
   "cell_type": "code",
   "execution_count": 30,
   "metadata": {},
   "outputs": [
    {
     "data": {
      "text/plain": [
       "Generator\n",
       "pv      0.274087\n",
       "wind         NaN\n",
       "dtype: float64"
      ]
     },
     "execution_count": 30,
     "metadata": {},
     "output_type": "execute_result"
    }
   ],
   "source": [
    "RES_curtailment = total_available_RES - total_dispatch[existing_RES_techs]\n",
    "\n",
    "RES_curtailment/total_available_RES"
   ]
  },
  {
   "cell_type": "markdown",
   "metadata": {},
   "source": [
    "### 5.4 Plot the energy dispatch"
   ]
  },
  {
   "cell_type": "code",
   "execution_count": 31,
   "metadata": {},
   "outputs": [
    {
     "data": {
      "text/plain": [
       "<matplotlib.legend.Legend at 0x2366ef2f7a0>"
      ]
     },
     "execution_count": 31,
     "metadata": {},
     "output_type": "execute_result"
    },
    {
     "data": {
      "image/png": "[encoded data removed]",
      "text/plain": [
       "<Figure size 640x480 with 1 Axes>"
      ]
     },
     "metadata": {},
     "output_type": "display_data"
    }
   ],
   "source": [
    "# Day to start the plotting from\n",
    "init_day_plot = 150\n",
    "# Number of days to plot\n",
    "n_days_to_plot = 7\n",
    "\n",
    "subset_sns = n.generators_t.p.index[init_day_plot*24:(init_day_plot*24 + n_days_to_plot*24)]\n",
    "\n",
    "# collect discharge power of storages\n",
    "p_dch_stores = n.storage_units_t.p.loc[subset_sns, :].clip(lower=0.0)  # negative values become 0.0\n",
    "p_dch_stores.columns = p_dch_stores.columns + \"_dch\"\n",
    "\n",
    "# collect charge power of storages\n",
    "p_ch_stores = n.storage_units_t.p.loc[subset_sns, :].clip(upper=0.0)  # positive values become 0.0\n",
    "p_ch_stores.columns = p_ch_stores.columns + \"_ch\"\n",
    "\n",
    "# create a dataframe to plot the quantities to plot\n",
    "data_to_plot = pd.concat(\n",
    "    [\n",
    "        p_dch_stores,\n",
    "        p_ch_stores,\n",
    "        n.generators_t.p.loc[subset_sns, :],\n",
    "    ],\n",
    "    axis=1,\n",
    ")\n",
    "\n",
    "\n",
    "ax = data_to_plot.plot.area(linewidth=0.0) #, figsize=FIGSIZE)\n",
    "\n",
    "plt.plot(df_data.loc[subset_sns, \"demand\"], label=\"load\", color=\"k\")\n",
    "plt.legend()"
   ]
  },
  {
   "cell_type": "code",
   "execution_count": null,
   "metadata": {},
   "outputs": [],
   "source": []
  }
 ],
 "metadata": {
  "kernelspec": {
   "display_name": "wtp_design",
   "language": "python",
   "name": "python3"
  },
  "language_info": {
   "codemirror_mode": {
    "name": "ipython",
    "version": 3
   },
   "file_extension": ".py",
   "mimetype": "text/x-python",
   "name": "python",
   "nbconvert_exporter": "python",
   "pygments_lexer": "ipython3",
   "version": "3.12.8"
  }
 },
 "nbformat": 4,
 "nbformat_minor": 2
}
