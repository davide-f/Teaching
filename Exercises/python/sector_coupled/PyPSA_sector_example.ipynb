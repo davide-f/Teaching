{
 "cells": [
  {
   "cell_type": "markdown",
   "metadata": {},
   "source": [
    "# Use PyPSA for a network\n",
    "\n",
    "This example aims at proposing a sample optimization using PyPSA for a sector-coupled network with the following sources:\n",
    "- diesel\n",
    "- solar\n",
    "- wind\n",
    "\n",
    "In this example, we reproduce the same example as for the microgrid optimization but with a sector-coupled implementation of the model.\n",
    "In particular, the diesel generator is represented as a c"
   ]
  },
  {
   "cell_type": "markdown",
   "metadata": {},
   "source": [
    "## Package imports\n",
    "\n",
    "Section to first import the major packages used in the notebook.\n",
    "Note: the PyPSA-Earth environment is suitable to run this notebook."
   ]
  },
  {
   "cell_type": "code",
   "execution_count": 46,
   "metadata": {},
   "outputs": [],
   "source": [
    "# package to handle efficient numeric structures (vectors/matrices) mathematical operations\n",
    "import numpy as np\n",
    "# package to handle databases, e.g. tabular data\n",
    "import pandas as pd\n",
    "# energy modelling package\n",
    "import pypsa\n",
    "# package to make plots\n",
    "import matplotlib.pyplot as plt"
   ]
  },
  {
   "cell_type": "markdown",
   "metadata": {},
   "source": [
    "Some global constants used for simplifying the code"
   ]
  },
  {
   "cell_type": "code",
   "execution_count": 47,
   "metadata": {},
   "outputs": [],
   "source": [
    "# figure size\n",
    "FIGSIZE = (5, 2.5)\n",
    "# solver of the optimization\n",
    "SOLVER = \"gurobi\"\n",
    "# gps coordinates of the buses\n",
    "x, y = 33.6208, 1.7250\n",
    "# set random seed for reproducibility\n",
    "np.random.seed(0)"
   ]
  },
  {
   "cell_type": "markdown",
   "metadata": {},
   "source": [
    "## 1. Data import"
   ]
  },
  {
   "cell_type": "markdown",
   "metadata": {},
   "source": [
    "### PV\n",
    "\n",
    "The available PV production for every hour of 2019 is estimated using Renewables.ninja platform, using standard inputs for the PV plant (tilt angle, orientation, etc.).\n",
    "The data are downloaded manually and loaded into the data folder with name `ninja_pv_1.7250_33.6208_uncorrected.csv`.\n",
    "\n",
    "In the following, the file is loaded also including some plottings for easy visualization."
   ]
  },
  {
   "cell_type": "code",
   "execution_count": 48,
   "metadata": {},
   "outputs": [],
   "source": [
    "# file name of the pv data\n",
    "pv_file = '../microgrid_optimization/data/ninja_pv_1.7250_33.6208_uncorrected.csv'\n",
    "\n",
    "# Load the CSV file\n",
    "df_pv = pd.read_csv(pv_file, skiprows=3)  # skip the first 3 rows\n",
    "df_pv.rename(columns={'electricity': 'pv'}, inplace=True)  # rename the electricity column"
   ]
  },
  {
   "cell_type": "markdown",
   "metadata": {},
   "source": [
    "### Wind\n",
    "\n",
    "The available wind production for every hour of 2019 is estimated using Renewables.ninja platform, using standard inputs for the PV plant (tilt angle, orientation, etc.).\n",
    "The data are downloaded manually and loaded into the data folder with name `ninja_wind_1.7250_33.6208_uncorrected.csv`.\n",
    "\n",
    "In the following, the file is loaded also including some plottings for easy visualization."
   ]
  },
  {
   "cell_type": "code",
   "execution_count": 49,
   "metadata": {},
   "outputs": [],
   "source": [
    "# file name of the pv data\n",
    "wind_file = '../microgrid_optimization/data/ninja_wind_1.7250_33.6208_uncorrected.csv'\n",
    "\n",
    "# Load the CSV file\n",
    "df_wind = pd.read_csv(wind_file, skiprows=3)  # skip the first 3 rows\n",
    "df_wind.rename(columns={'electricity': 'wind'}, inplace=True)  # rename the electricity column"
   ]
  },
  {
   "cell_type": "markdown",
   "metadata": {},
   "source": [
    "### Electricity load\n",
    "\n",
    "The load demand is obtained from the paper by D.Fioriti et al.\n",
    "\n",
    "In the activity, a so-called 'typical daily' profile was estimated using the tool LoadProGen, now available as [RAMP](https://rampdemand.org/).\n",
    "\n",
    "In the data folder, the file `demand_data.csv` contains the following two columns:\n",
    "1. the first column is the average demand for every hour of the day\n",
    "2. the second column is the standard deviation of the demand for every hour of the day"
   ]
  },
  {
   "cell_type": "code",
   "execution_count": 50,
   "metadata": {},
   "outputs": [],
   "source": [
    "# file name of the pv data\n",
    "demand_file = '../microgrid_optimization/data/demand_data.csv'\n",
    "\n",
    "# Load the CSV file\n",
    "df_demand_day = pd.read_csv(demand_file)\n",
    "df_demand_day[\"hour\"] = range(0, 24)\n",
    "\n",
    "confidence_factor = 1.96  # 95% confidence interval"
   ]
  },
  {
   "cell_type": "markdown",
   "metadata": {},
   "source": [
    "We generate year-long demand data by randomly sampling from a normal distribution with the mean and standard deviation for every hour of the day, similarly to the example for microgrid optimization."
   ]
  },
  {
   "cell_type": "code",
   "execution_count": 51,
   "metadata": {},
   "outputs": [],
   "source": [
    "n_days = 365  # number of days to simulate\n",
    "\n",
    "df_demand = pd.DataFrame(index=df_pv.index)\n",
    "\n",
    "df_demand_year = np.random.normal(\n",
    "    np.tile(df_demand_day[\"demand\"], n_days),\n",
    "    np.tile(df_demand_day[\"standard_deviation\"], n_days),\n",
    ")\n",
    "df_demand.loc[:, \"elec_demand\"] = df_demand_year"
   ]
  },
  {
   "cell_type": "markdown",
   "metadata": {},
   "source": [
    "## Heating and cooling load\n",
    "\n",
    "The heating and cooling load is obtained from renewables.ninja platform, using the same location and parameters as for the PV and wind data.\n",
    "The data are downloaded manually and loaded into the data folder with name `ninja_demand_1.7250_33.6208_uncorrected.csv`."
   ]
  },
  {
   "cell_type": "code",
   "execution_count": 52,
   "metadata": {},
   "outputs": [
    {
     "data": {
      "text/html": [
       "<div>\n",
       "<style scoped>\n",
       "    .dataframe tbody tr th:only-of-type {\n",
       "        vertical-align: middle;\n",
       "    }\n",
       "\n",
       "    .dataframe tbody tr th {\n",
       "        vertical-align: top;\n",
       "    }\n",
       "\n",
       "    .dataframe thead th {\n",
       "        text-align: right;\n",
       "    }\n",
       "</style>\n",
       "<table border=\"1\" class=\"dataframe\">\n",
       "  <thead>\n",
       "    <tr style=\"text-align: right;\">\n",
       "      <th></th>\n",
       "      <th>time</th>\n",
       "      <th>local_time</th>\n",
       "      <th>total_demand</th>\n",
       "      <th>heating_demand</th>\n",
       "      <th>cooling_demand</th>\n",
       "    </tr>\n",
       "  </thead>\n",
       "  <tbody>\n",
       "    <tr>\n",
       "      <th>0</th>\n",
       "      <td>2019-01-01 00:00</td>\n",
       "      <td>2019-01-01 03:00</td>\n",
       "      <td>0.392</td>\n",
       "      <td>0</td>\n",
       "      <td>0.392</td>\n",
       "    </tr>\n",
       "    <tr>\n",
       "      <th>1</th>\n",
       "      <td>2019-01-01 01:00</td>\n",
       "      <td>2019-01-01 04:00</td>\n",
       "      <td>0.346</td>\n",
       "      <td>0</td>\n",
       "      <td>0.346</td>\n",
       "    </tr>\n",
       "    <tr>\n",
       "      <th>2</th>\n",
       "      <td>2019-01-01 02:00</td>\n",
       "      <td>2019-01-01 05:00</td>\n",
       "      <td>0.310</td>\n",
       "      <td>0</td>\n",
       "      <td>0.310</td>\n",
       "    </tr>\n",
       "    <tr>\n",
       "      <th>3</th>\n",
       "      <td>2019-01-01 03:00</td>\n",
       "      <td>2019-01-01 06:00</td>\n",
       "      <td>0.279</td>\n",
       "      <td>0</td>\n",
       "      <td>0.279</td>\n",
       "    </tr>\n",
       "    <tr>\n",
       "      <th>4</th>\n",
       "      <td>2019-01-01 04:00</td>\n",
       "      <td>2019-01-01 07:00</td>\n",
       "      <td>0.259</td>\n",
       "      <td>0</td>\n",
       "      <td>0.259</td>\n",
       "    </tr>\n",
       "  </tbody>\n",
       "</table>\n",
       "</div>"
      ],
      "text/plain": [
       "               time        local_time  total_demand  heating_demand  \\\n",
       "0  2019-01-01 00:00  2019-01-01 03:00         0.392               0   \n",
       "1  2019-01-01 01:00  2019-01-01 04:00         0.346               0   \n",
       "2  2019-01-01 02:00  2019-01-01 05:00         0.310               0   \n",
       "3  2019-01-01 03:00  2019-01-01 06:00         0.279               0   \n",
       "4  2019-01-01 04:00  2019-01-01 07:00         0.259               0   \n",
       "\n",
       "   cooling_demand  \n",
       "0           0.392  \n",
       "1           0.346  \n",
       "2           0.310  \n",
       "3           0.279  \n",
       "4           0.259  "
      ]
     },
     "execution_count": 52,
     "metadata": {},
     "output_type": "execute_result"
    }
   ],
   "source": [
    "demand_heatcool_file = '../microgrid_optimization/data/ninja_demand_1.7250_33.6208_uncorrected.csv'\n",
    "\n",
    "\n",
    "df_heat_cool = pd.read_csv(demand_heatcool_file, skiprows=3)  # skip the first 3 rows\n",
    "\n",
    "df_heat_cool.head(5)"
   ]
  },
  {
   "cell_type": "markdown",
   "metadata": {},
   "source": [
    "For simplicity, all time series data are now aggregated into a single dataframe for simplicity"
   ]
  },
  {
   "cell_type": "code",
   "execution_count": 53,
   "metadata": {},
   "outputs": [],
   "source": [
    "# merge the data into one dataframe\n",
    "df_data = pd.concat(\n",
    "    [df_pv[[\"pv\"]], df_wind[[\"wind\"]], df_demand, df_heat_cool[[\"heating_demand\", \"cooling_demand\"]]],\n",
    "    axis=1,\n",
    ")\n",
    "\n",
    "# example constant heating demand\n",
    "df_data[\"heating_demand\"] = 10"
   ]
  },
  {
   "cell_type": "markdown",
   "metadata": {},
   "source": [
    "## 2. Create input cost parameters\n",
    "\n",
    "This section aims at describing the cost parameters used in the optimization.\n",
    "\n",
    "To do so, the goal is to create a dataframe of major input parameters, for each technology, including:\n",
    "- **CAPEX**: capital expenditure\n",
    "- **OPEX**: operational expenditure, divided into two independent components:\n",
    "    - ***Fixed* OPEX**: expenditure *independent* from the energy production\n",
    "    - ***Marginal* OPEX**: expenditure *dependent* from the energy production\n",
    "- **Lifetime**: lifetime of the technology\n",
    "- **Efficiency**: efficiency of the technology\n",
    "- **Discount rate**: discount rate of the analysis"
   ]
  },
  {
   "cell_type": "code",
   "execution_count": 54,
   "metadata": {},
   "outputs": [
    {
     "name": "stderr",
     "output_type": "stream",
     "text": [
      "C:\\Users\\Davide\\AppData\\Local\\Temp\\ipykernel_37632\\1494685771.py:41: FutureWarning: Downcasting object dtype arrays on .fillna, .ffill, .bfill is deprecated and will change in a future version. Call result.infer_objects(copy=False) instead. To opt-in to the future behavior, set `pd.set_option('future.no_silent_downcasting', True)`\n",
      "  assumptions = assumptions.fillna(\n"
     ]
    },
    {
     "data": {
      "text/html": [
       "<div>\n",
       "<style scoped>\n",
       "    .dataframe tbody tr th:only-of-type {\n",
       "        vertical-align: middle;\n",
       "    }\n",
       "\n",
       "    .dataframe tbody tr th {\n",
       "        vertical-align: top;\n",
       "    }\n",
       "\n",
       "    .dataframe thead th {\n",
       "        text-align: right;\n",
       "    }\n",
       "</style>\n",
       "<table border=\"1\" class=\"dataframe\">\n",
       "  <thead>\n",
       "    <tr style=\"text-align: right;\">\n",
       "      <th></th>\n",
       "      <th>CAPEX</th>\n",
       "      <th>discount rate</th>\n",
       "      <th>efficiency</th>\n",
       "      <th>OPEX_fixed</th>\n",
       "      <th>OPEX_marginal</th>\n",
       "      <th>lifetime</th>\n",
       "    </tr>\n",
       "  </thead>\n",
       "  <tbody>\n",
       "    <tr>\n",
       "      <th>default</th>\n",
       "      <td>NaN</td>\n",
       "      <td>0.08</td>\n",
       "      <td>NaN</td>\n",
       "      <td>3.0</td>\n",
       "      <td>0.00</td>\n",
       "      <td>20</td>\n",
       "    </tr>\n",
       "    <tr>\n",
       "      <th>pv</th>\n",
       "      <td>900</td>\n",
       "      <td>0.08</td>\n",
       "      <td>NaN</td>\n",
       "      <td>16.0</td>\n",
       "      <td>0.00</td>\n",
       "      <td>25</td>\n",
       "    </tr>\n",
       "    <tr>\n",
       "      <th>wind</th>\n",
       "      <td>2400</td>\n",
       "      <td>0.08</td>\n",
       "      <td>NaN</td>\n",
       "      <td>80.0</td>\n",
       "      <td>0.00</td>\n",
       "      <td>20</td>\n",
       "    </tr>\n",
       "    <tr>\n",
       "      <th>battery</th>\n",
       "      <td>450</td>\n",
       "      <td>0.08</td>\n",
       "      <td>0.9</td>\n",
       "      <td>3.0</td>\n",
       "      <td>0.00</td>\n",
       "      <td>10</td>\n",
       "    </tr>\n",
       "    <tr>\n",
       "      <th>diesel</th>\n",
       "      <td>600.0</td>\n",
       "      <td>0.08</td>\n",
       "      <td>NaN</td>\n",
       "      <td>3.0</td>\n",
       "      <td>0.05</td>\n",
       "      <td>3</td>\n",
       "    </tr>\n",
       "  </tbody>\n",
       "</table>\n",
       "</div>"
      ],
      "text/plain": [
       "         CAPEX  discount rate efficiency  OPEX_fixed  OPEX_marginal  lifetime\n",
       "default    NaN           0.08        NaN         3.0           0.00        20\n",
       "pv         900           0.08        NaN        16.0           0.00        25\n",
       "wind      2400           0.08        NaN        80.0           0.00        20\n",
       "battery    450           0.08        0.9         3.0           0.00        10\n",
       "diesel   600.0           0.08        NaN         3.0           0.05         3"
      ]
     },
     "execution_count": 54,
     "metadata": {},
     "output_type": "execute_result"
    }
   ],
   "source": [
    "# Initialize the dataframe: columns indicate cost components and rows indicate technologies\n",
    "assumptions = pd.DataFrame(\n",
    "    columns=[\"CAPEX\", \"discount rate\", \"efficiency\", \"OPEX_fixed\", \"OPEX_marginal\", \"lifetime\"],\n",
    "    index=[\"default\", \"pv\", \"wind\", \"battery\", \"diesel\"],\n",
    ")\n",
    "\n",
    "# default parameters\n",
    "assumptions.at[\"default\", \"OPEX_fixed\"] = 3.0\n",
    "assumptions.at[\"default\", \"OPEX_marginal\"] = 0.0\n",
    "assumptions.at[\"default\", \"discount rate\"] = 0.08\n",
    "assumptions.at[\"default\", \"lifetime\"] = 20\n",
    "\n",
    "# pv technology\n",
    "assumptions.at[\"pv\", \"CAPEX\"] = 900  # EUR/kWp\n",
    "assumptions.at[\"pv\", \"OPEX_fixed\"] = 16  # EUR/kWp/year\n",
    "assumptions.at[\"pv\", \"lifetime\"] = 25  # years\n",
    "\n",
    "# wind technology\n",
    "assumptions.at[\"wind\", \"CAPEX\"] = 2400  # EUR/kWp\n",
    "assumptions.at[\"wind\", \"OPEX_fixed\"] = 80  # EUR/kWp/year\n",
    "assumptions.at[\"wind\", \"lifetime\"] = 20  # years\n",
    "\n",
    "# battery technology\n",
    "assumptions.at[\"battery\", \"CAPEX\"] = 450  # EUR/kWh\n",
    "assumptions.at[\"battery\", \"OPEX_fixed\"] = 3  # EUR/kWh/year\n",
    "assumptions.at[\"battery\", \"efficiency\"] = 0.9  # [-] per unit\n",
    "assumptions.at[\"battery\", \"lifetime\"] = 10  # years\n",
    "\n",
    "# diesel technology\n",
    "fuel_price = 1.4  # EUR/l\n",
    "fuel_energy_density = 10  # kWh/l\n",
    "efficiency_diesel = 0.33  # [-] per unit\n",
    "efficiency_diesel_CHP = 0.4  # [-] per unit\n",
    "\n",
    "maintenance_diesel = 0.05  # EUR/kW/h\n",
    "\n",
    "assumptions.at[\"diesel\", \"CAPEX\"] = 6e2  # EUR/kW\n",
    "assumptions.at[\"diesel\", \"OPEX_marginal\"] = maintenance_diesel  # EUR/kWh\n",
    "assumptions.at[\"diesel\", \"lifetime\"] = 3  # years\n",
    "\n",
    "# fill defaults\n",
    "assumptions = assumptions.fillna(\n",
    "    {\n",
    "        \"OPEX_fixed\": assumptions.at[\"default\", \"OPEX_fixed\"],\n",
    "        \"OPEX_marginal\": assumptions.at[\"default\", \"OPEX_marginal\"],\n",
    "        \"discount rate\": assumptions.at[\"default\", \"discount rate\"],\n",
    "        \"lifetime\": assumptions.at[\"default\", \"lifetime\"],\n",
    "    }\n",
    ")\n",
    "\n",
    "# save to file\n",
    "assumptions.to_csv(\"assumptions.csv\")\n",
    "\n",
    "assumptions"
   ]
  },
  {
   "cell_type": "markdown",
   "metadata": {},
   "source": [
    "The objective of the system is to minimize the annualized costs, which are computed as follows:\n",
    "\n",
    "$$\n",
    "\\text{Annualized costs} = OPEX + \\sum_{i \\in A} {CRF}_i * {CAPEX}_i\\\\\n",
    "CRF_i = \\frac{r(1+d)^{L_i}}{(1+d)^{L_i}-1}\n",
    "$$\n",
    "\n",
    "where:\n",
    "- $A$ is the set of technologies\n",
    "- $d$ is the discount rate\n",
    "- $L_i$ is the lifetime of the technology $i$"
   ]
  },
  {
   "cell_type": "code",
   "execution_count": 55,
   "metadata": {},
   "outputs": [
    {
     "data": {
      "text/html": [
       "<div>\n",
       "<style scoped>\n",
       "    .dataframe tbody tr th:only-of-type {\n",
       "        vertical-align: middle;\n",
       "    }\n",
       "\n",
       "    .dataframe tbody tr th {\n",
       "        vertical-align: top;\n",
       "    }\n",
       "\n",
       "    .dataframe thead th {\n",
       "        text-align: right;\n",
       "    }\n",
       "</style>\n",
       "<table border=\"1\" class=\"dataframe\">\n",
       "  <thead>\n",
       "    <tr style=\"text-align: right;\">\n",
       "      <th></th>\n",
       "      <th>CAPEX</th>\n",
       "      <th>discount rate</th>\n",
       "      <th>efficiency</th>\n",
       "      <th>OPEX_fixed</th>\n",
       "      <th>OPEX_marginal</th>\n",
       "      <th>lifetime</th>\n",
       "      <th>annuity</th>\n",
       "      <th>capital_cost</th>\n",
       "    </tr>\n",
       "  </thead>\n",
       "  <tbody>\n",
       "    <tr>\n",
       "      <th>default</th>\n",
       "      <td>NaN</td>\n",
       "      <td>0.08</td>\n",
       "      <td>NaN</td>\n",
       "      <td>3.0</td>\n",
       "      <td>0.00</td>\n",
       "      <td>20</td>\n",
       "      <td>0.101852</td>\n",
       "      <td>NaN</td>\n",
       "    </tr>\n",
       "    <tr>\n",
       "      <th>pv</th>\n",
       "      <td>900</td>\n",
       "      <td>0.08</td>\n",
       "      <td>NaN</td>\n",
       "      <td>16.0</td>\n",
       "      <td>0.00</td>\n",
       "      <td>25</td>\n",
       "      <td>0.093679</td>\n",
       "      <td>100.310901</td>\n",
       "    </tr>\n",
       "    <tr>\n",
       "      <th>wind</th>\n",
       "      <td>2400</td>\n",
       "      <td>0.08</td>\n",
       "      <td>NaN</td>\n",
       "      <td>80.0</td>\n",
       "      <td>0.00</td>\n",
       "      <td>20</td>\n",
       "      <td>0.101852</td>\n",
       "      <td>324.445301</td>\n",
       "    </tr>\n",
       "    <tr>\n",
       "      <th>battery</th>\n",
       "      <td>450</td>\n",
       "      <td>0.08</td>\n",
       "      <td>0.9</td>\n",
       "      <td>3.0</td>\n",
       "      <td>0.00</td>\n",
       "      <td>10</td>\n",
       "      <td>0.149029</td>\n",
       "      <td>70.063270</td>\n",
       "    </tr>\n",
       "    <tr>\n",
       "      <th>diesel</th>\n",
       "      <td>600.0</td>\n",
       "      <td>0.08</td>\n",
       "      <td>NaN</td>\n",
       "      <td>3.0</td>\n",
       "      <td>0.05</td>\n",
       "      <td>3</td>\n",
       "      <td>0.388034</td>\n",
       "      <td>235.820108</td>\n",
       "    </tr>\n",
       "  </tbody>\n",
       "</table>\n",
       "</div>"
      ],
      "text/plain": [
       "         CAPEX  discount rate efficiency  OPEX_fixed  OPEX_marginal  lifetime  \\\n",
       "default    NaN           0.08        NaN         3.0           0.00        20   \n",
       "pv         900           0.08        NaN        16.0           0.00        25   \n",
       "wind      2400           0.08        NaN        80.0           0.00        20   \n",
       "battery    450           0.08        0.9         3.0           0.00        10   \n",
       "diesel   600.0           0.08        NaN         3.0           0.05         3   \n",
       "\n",
       "          annuity  capital_cost  \n",
       "default  0.101852           NaN  \n",
       "pv       0.093679    100.310901  \n",
       "wind     0.101852    324.445301  \n",
       "battery  0.149029     70.063270  \n",
       "diesel   0.388034    235.820108  "
      ]
     },
     "execution_count": 55,
     "metadata": {},
     "output_type": "execute_result"
    }
   ],
   "source": [
    "def annuity(lifetime, rate):\n",
    "    \"\"\"\n",
    "    Calculate the annuity factor for a given lifetime and discount rate.\n",
    "    \"\"\"\n",
    "    if rate == 0.0:\n",
    "        return 1 / lifetime\n",
    "    else:\n",
    "        return rate / (1.0 - 1.0 / (1.0 + rate) ** lifetime)\n",
    "\n",
    "\n",
    "# calculate annuity for every technology\n",
    "assumptions[\"annuity\"] = assumptions.apply(\n",
    "    lambda x: annuity(x[\"lifetime\"], x[\"discount rate\"]), axis=1\n",
    ")\n",
    "\n",
    "# annualise investment costs, add fixed OPEX to calculate the parameter `capital_cost` for the PyPSA model\n",
    "assumptions[\"capital_cost\"] = [\n",
    "    v[\"annuity\"] * v[\"CAPEX\"] + v[\"OPEX_fixed\"]\n",
    "    for i, v in assumptions.iterrows()\n",
    "]\n",
    "\n",
    "assumptions"
   ]
  },
  {
   "cell_type": "markdown",
   "metadata": {},
   "source": [
    "## 3. PyPSA model\n",
    "\n",
    "This second block of code is used to define the PyPSA model.\n",
    "\n",
    "The model is a N-node energy system that contains the following components:\n",
    "- **Load**: the load is defined as a fixed **Load** component, with the time series of demand as defined above. The load is attached to nodes 2 and 3\n",
    "- **PV**: the PV is defined as a **Generator** and attached to node 1\n",
    "- **Battery**: the battery is defined as a **Storage Unit** and attached to node 1\n",
    "- **Wind**: the wind is defined as a **Generator** and attached to node 4\n",
    "- **Diesel**: the diesel generator is defined as a **Generator** and attached to node 3\n",
    "\n",
    "All assets (PV, Wind, Battery and Diesel generator) are assumed to be expandable: the optimization will determine the optimal size of each asset.\n",
    "*Note*: we assume that the costs of components are linearly to their capacity."
   ]
  },
  {
   "cell_type": "markdown",
   "metadata": {},
   "source": [
    "### Create the basic PyPSA model"
   ]
  },
  {
   "cell_type": "code",
   "execution_count": 56,
   "metadata": {},
   "outputs": [
    {
     "name": "stderr",
     "output_type": "stream",
     "text": [
      "C:\\Users\\Davide\\AppData\\Local\\Temp\\ipykernel_37632\\4229847110.py:5: DeprecatedWarning: madd is deprecated as of 0.31 and will be removed in 1.0. Use `n.add` as a drop-in replacement instead.\n",
      "  n.madd(\"Carrier\", [\"AC\", \"diesel\", \"solar\", \"wind\", \"battery\", \"heat\"])\n"
     ]
    },
    {
     "data": {
      "text/plain": [
       "Index(['Bus heat'], dtype='object')"
      ]
     },
     "execution_count": 56,
     "metadata": {},
     "output_type": "execute_result"
    }
   ],
   "source": [
    "# Create an empty PyPSA network\n",
    "n = pypsa.Network()\n",
    "\n",
    "# Add carriers\n",
    "n.madd(\"Carrier\", [\"AC\", \"diesel\", \"solar\", \"wind\", \"battery\", \"heat\"])\n",
    "\n",
    "# set the snapshots of the simulation, being the time steps of the data\n",
    "n.set_snapshots(df_data.index)\n",
    "\n",
    "# Add electricity bus to the microgrid\n",
    "n.add(\n",
    "    \"Bus\",\n",
    "    \"Bus elec\",\n",
    "    v_nom=0.4,\n",
    "    x=x,\n",
    "    y=y,\n",
    ")\n",
    "\n",
    "# Add diesel bus to the microgrid\n",
    "n.add(\n",
    "    \"Bus\",\n",
    "    \"Bus diesel\",\n",
    "    v_nom=0.4,\n",
    "    x=x,\n",
    "    y=y,\n",
    ")\n",
    "\n",
    "# Add heating bus to the microgrid\n",
    "n.add(\n",
    "    \"Bus\",\n",
    "    \"Bus heat\",\n",
    "    v_nom=0.4,\n",
    "    x=x,\n",
    "    y=y,\n",
    ")"
   ]
  },
  {
   "cell_type": "markdown",
   "metadata": {},
   "source": [
    "### Add the load\n",
    "\n",
    "We now add the load to the model."
   ]
  },
  {
   "cell_type": "code",
   "execution_count": 57,
   "metadata": {},
   "outputs": [
    {
     "data": {
      "text/plain": [
       "Index(['Load heat'], dtype='object')"
      ]
     },
     "execution_count": 57,
     "metadata": {},
     "output_type": "execute_result"
    }
   ],
   "source": [
    "n.add(\"Load\", \"Load elec\", bus=\"Bus elec\", carrier=\"AC\", p_set=df_data[\"elec_demand\"])\n",
    "n.add(\"Load\", \"Load heat\", bus=\"Bus heat\", carrier=\"heat\", p_set=df_data[\"heating_demand\"])"
   ]
  },
  {
   "cell_type": "markdown",
   "metadata": {},
   "source": [
    "### Add renewable technologies"
   ]
  },
  {
   "cell_type": "code",
   "execution_count": 58,
   "metadata": {},
   "outputs": [
    {
     "data": {
      "text/plain": [
       "Index(['wind'], dtype='object')"
      ]
     },
     "execution_count": 58,
     "metadata": {},
     "output_type": "execute_result"
    }
   ],
   "source": [
    "# Add PV\n",
    "n.add(\n",
    "    \"Generator\",  # Each RES technology is represented with a \"Generator\" component\n",
    "    \"pv\",\n",
    "    carrier=\"pv\",\n",
    "    bus=\"Bus elec\",  # connect the generators to the microgrid bus\n",
    "    p_max_pu=df_data[\"pv\"],  # specify a maximum per-unit production for every time-step\n",
    "    capital_cost=assumptions.loc[\"pv\", \"capital_cost\"],  # specify the capital cost\n",
    "    p_nom_extendable=True,  # Specify the installed capacity as an optimisation variable\n",
    ")\n",
    "\n",
    "# Add wind\n",
    "n.add(\n",
    "    \"Generator\",  # Each RES technology is represented with a \"Generator\" component\n",
    "    \"wind\",\n",
    "    carrier=\"AC\",\n",
    "    bus=\"Bus elec\",  # connect the generators to the microgrid bus\n",
    "    p_max_pu=df_data[\"wind\"],  # specify a maximum per-unit production for every time-step\n",
    "    capital_cost=assumptions.loc[\"wind\", \"capital_cost\"],  # specify the capital cost\n",
    "    p_nom_extendable=True,  # Specify the installed capacity as an optimisation variable\n",
    ")"
   ]
  },
  {
   "cell_type": "markdown",
   "metadata": {},
   "source": [
    "### Add the battery"
   ]
  },
  {
   "cell_type": "code",
   "execution_count": 59,
   "metadata": {},
   "outputs": [
    {
     "data": {
      "text/plain": [
       "Index(['battery'], dtype='object')"
      ]
     },
     "execution_count": 59,
     "metadata": {},
     "output_type": "execute_result"
    }
   ],
   "source": [
    "n.add(\n",
    "    \"StorageUnit\",\n",
    "    \"battery\",\n",
    "    bus=\"Bus elec\",\n",
    "    carrier=\"battery\",\n",
    "    p_nom_extendable=True,\n",
    "    capital_cost=assumptions.at[\"battery\", \"capital_cost\"],\n",
    "    cyclic_state_of_charge=True,\n",
    ")"
   ]
  },
  {
   "cell_type": "markdown",
   "metadata": {},
   "source": [
    "### Add the diesel generator\n",
    "\n",
    "Now we add a diesel generator. Note that the generator is added as a Link as it converts the fuel into electricity."
   ]
  },
  {
   "cell_type": "code",
   "execution_count": 60,
   "metadata": {},
   "outputs": [
    {
     "data": {
      "text/plain": [
       "Index(['diesel transport'], dtype='object')"
      ]
     },
     "execution_count": 60,
     "metadata": {},
     "output_type": "execute_result"
    }
   ],
   "source": [
    "n.add(\n",
    "    \"Link\",\n",
    "    \"diesel\",\n",
    "    bus0=\"Bus diesel\",\n",
    "    bus1=\"Bus elec\",\n",
    "    bus2=\"Bus heat\",\n",
    "    carrier=\"diesel\",\n",
    "    efficiency=efficiency_diesel,\n",
    "    efficiency2=efficiency_diesel_CHP,\n",
    "    p_nom_extendable=True,\n",
    "    capital_cost=assumptions.at[\"diesel\", \"capital_cost\"],\n",
    "    marginal_cost=assumptions.at[\"diesel\", \"OPEX_marginal\"]*efficiency_diesel,\n",
    ")\n",
    "\n",
    "n.add(\n",
    "    \"Generator\",\n",
    "    \"diesel transport\",\n",
    "    bus=\"Bus diesel\",\n",
    "    carrier=\"diesel\",\n",
    "    p_nom_extendable=True,\n",
    "    marginal_cost=fuel_price / fuel_energy_density,\n",
    "    capital_cost=0.0,\n",
    ")"
   ]
  },
  {
   "cell_type": "markdown",
   "metadata": {},
   "source": [
    "## 4. Optimization of the model\n",
    "\n",
    "Now we execute the model with the default GLPK solver.\n",
    "Note that the solver can be changed to other solvers, such as CPLEX or Gurobi, that are commercial solvers with better performances.\n",
    "\n",
    "For your possible thesis, in case of need, CPLEX and Gurobi are freely accessible with your academic email."
   ]
  },
  {
   "cell_type": "code",
   "execution_count": 64,
   "metadata": {},
   "outputs": [
    {
     "name": "stderr",
     "output_type": "stream",
     "text": [
      "WARNING:pypsa.consistency:The following generators have carriers which are not defined:\n",
      "Index(['pv'], dtype='object', name='Generator')\n",
      "WARNING:pypsa.consistency:The following generators have carriers which are not defined:\n",
      "Index(['pv'], dtype='object', name='Generator')\n"
     ]
    },
    {
     "name": "stderr",
     "output_type": "stream",
     "text": [
      "INFO:linopy.model: Solve problem using Gurobi solver\n",
      "INFO:linopy.io:Writing objective.\n",
      "Writing constraints.: 100%|\u001b[38;2;128;191;255m██████████\u001b[0m| 18/18 [00:00<00:00, 30.80it/s]\n",
      "Writing continuous variables.: 100%|\u001b[38;2;128;191;255m██████████\u001b[0m| 8/8 [00:00<00:00, 83.48it/s]\n",
      "INFO:linopy.io: Writing time: 0.71s\n"
     ]
    },
    {
     "name": "stdout",
     "output_type": "stream",
     "text": [
      "Set parameter Username\n"
     ]
    },
    {
     "name": "stderr",
     "output_type": "stream",
     "text": [
      "INFO:gurobipy:Set parameter Username\n"
     ]
    },
    {
     "name": "stdout",
     "output_type": "stream",
     "text": [
      "Academic license - for non-commercial use only - expires 2025-07-18\n"
     ]
    },
    {
     "name": "stderr",
     "output_type": "stream",
     "text": [
      "INFO:gurobipy:Academic license - for non-commercial use only - expires 2025-07-18\n"
     ]
    },
    {
     "name": "stdout",
     "output_type": "stream",
     "text": [
      "Read LP format model from file C:\\Users\\Davide\\AppData\\Local\\Temp\\linopy-problem-dwxcdgmr.lp\n"
     ]
    },
    {
     "name": "stderr",
     "output_type": "stream",
     "text": [
      "INFO:gurobipy:Read LP format model from file C:\\Users\\Davide\\AppData\\Local\\Temp\\linopy-problem-dwxcdgmr.lp\n"
     ]
    },
    {
     "name": "stdout",
     "output_type": "stream",
     "text": [
      "Reading time = 0.18 seconds\n"
     ]
    },
    {
     "name": "stderr",
     "output_type": "stream",
     "text": [
      "INFO:gurobipy:Reading time = 0.18 seconds\n"
     ]
    },
    {
     "name": "stdout",
     "output_type": "stream",
     "text": [
      "obj: 157685 rows, 61325 columns, 283834 nonzeros\n"
     ]
    },
    {
     "name": "stderr",
     "output_type": "stream",
     "text": [
      "INFO:gurobipy:obj: 157685 rows, 61325 columns, 283834 nonzeros\n"
     ]
    },
    {
     "name": "stdout",
     "output_type": "stream",
     "text": [
      "Gurobi Optimizer version 11.0.3 build v11.0.3rc0 (win64 - Windows 11.0 (22631.2))\n"
     ]
    },
    {
     "name": "stderr",
     "output_type": "stream",
     "text": [
      "INFO:gurobipy:Gurobi Optimizer version 11.0.3 build v11.0.3rc0 (win64 - Windows 11.0 (22631.2))\n"
     ]
    },
    {
     "name": "stdout",
     "output_type": "stream",
     "text": [
      "\n"
     ]
    },
    {
     "name": "stderr",
     "output_type": "stream",
     "text": [
      "INFO:gurobipy:\n"
     ]
    },
    {
     "name": "stdout",
     "output_type": "stream",
     "text": [
      "CPU model: 12th Gen Intel(R) Core(TM) i9-12900HK, instruction set [SSE2|AVX|AVX2]\n"
     ]
    },
    {
     "name": "stderr",
     "output_type": "stream",
     "text": [
      "INFO:gurobipy:CPU model: 12th Gen Intel(R) Core(TM) i9-12900HK, instruction set [SSE2|AVX|AVX2]\n"
     ]
    },
    {
     "name": "stdout",
     "output_type": "stream",
     "text": [
      "Thread count: 14 physical cores, 20 logical processors, using up to 20 threads\n"
     ]
    },
    {
     "name": "stderr",
     "output_type": "stream",
     "text": [
      "INFO:gurobipy:Thread count: 14 physical cores, 20 logical processors, using up to 20 threads\n"
     ]
    },
    {
     "name": "stdout",
     "output_type": "stream",
     "text": [
      "\n"
     ]
    },
    {
     "name": "stderr",
     "output_type": "stream",
     "text": [
      "INFO:gurobipy:\n"
     ]
    },
    {
     "name": "stdout",
     "output_type": "stream",
     "text": [
      "Optimize a model with 157685 rows, 61325 columns and 283834 nonzeros\n"
     ]
    },
    {
     "name": "stderr",
     "output_type": "stream",
     "text": [
      "INFO:gurobipy:Optimize a model with 157685 rows, 61325 columns and 283834 nonzeros\n"
     ]
    },
    {
     "name": "stdout",
     "output_type": "stream",
     "text": [
      "Model fingerprint: 0x94275c3b\n"
     ]
    },
    {
     "name": "stderr",
     "output_type": "stream",
     "text": [
      "INFO:gurobipy:Model fingerprint: 0x94275c3b\n"
     ]
    },
    {
     "name": "stdout",
     "output_type": "stream",
     "text": [
      "Coefficient statistics:\n"
     ]
    },
    {
     "name": "stderr",
     "output_type": "stream",
     "text": [
      "INFO:gurobipy:Coefficient statistics:\n"
     ]
    },
    {
     "name": "stdout",
     "output_type": "stream",
     "text": [
      "  Matrix range     [1e-03, 1e+00]\n"
     ]
    },
    {
     "name": "stderr",
     "output_type": "stream",
     "text": [
      "INFO:gurobipy:  Matrix range     [1e-03, 1e+00]\n"
     ]
    },
    {
     "name": "stdout",
     "output_type": "stream",
     "text": [
      "  Objective range  [2e-02, 3e+02]\n"
     ]
    },
    {
     "name": "stderr",
     "output_type": "stream",
     "text": [
      "INFO:gurobipy:  Objective range  [2e-02, 3e+02]\n"
     ]
    },
    {
     "name": "stdout",
     "output_type": "stream",
     "text": [
      "  Bounds range     [0e+00, 0e+00]\n"
     ]
    },
    {
     "name": "stderr",
     "output_type": "stream",
     "text": [
      "INFO:gurobipy:  Bounds range     [0e+00, 0e+00]\n"
     ]
    },
    {
     "name": "stdout",
     "output_type": "stream",
     "text": [
      "  RHS range        [7e+00, 7e+01]\n"
     ]
    },
    {
     "name": "stderr",
     "output_type": "stream",
     "text": [
      "INFO:gurobipy:  RHS range        [7e+00, 7e+01]\n"
     ]
    },
    {
     "name": "stdout",
     "output_type": "stream",
     "text": [
      "Presolve removed 102906 rows and 23547 columns\n"
     ]
    },
    {
     "name": "stderr",
     "output_type": "stream",
     "text": [
      "INFO:gurobipy:Presolve removed 102906 rows and 23547 columns\n"
     ]
    },
    {
     "name": "stdout",
     "output_type": "stream",
     "text": [
      "Presolve time: 0.08s\n"
     ]
    },
    {
     "name": "stderr",
     "output_type": "stream",
     "text": [
      "INFO:gurobipy:Presolve time: 0.08s\n"
     ]
    },
    {
     "name": "stdout",
     "output_type": "stream",
     "text": [
      "Presolved: 54779 rows, 37778 columns, 138831 nonzeros\n"
     ]
    },
    {
     "name": "stderr",
     "output_type": "stream",
     "text": [
      "INFO:gurobipy:Presolved: 54779 rows, 37778 columns, 138831 nonzeros\n"
     ]
    },
    {
     "name": "stdout",
     "output_type": "stream",
     "text": [
      "\n"
     ]
    },
    {
     "name": "stderr",
     "output_type": "stream",
     "text": [
      "INFO:gurobipy:\n"
     ]
    },
    {
     "name": "stdout",
     "output_type": "stream",
     "text": [
      "Concurrent LP optimizer: primal simplex, dual simplex, and barrier\n"
     ]
    },
    {
     "name": "stderr",
     "output_type": "stream",
     "text": [
      "INFO:gurobipy:Concurrent LP optimizer: primal simplex, dual simplex, and barrier\n"
     ]
    },
    {
     "name": "stdout",
     "output_type": "stream",
     "text": [
      "Showing barrier log only...\n"
     ]
    },
    {
     "name": "stderr",
     "output_type": "stream",
     "text": [
      "INFO:gurobipy:Showing barrier log only...\n"
     ]
    },
    {
     "name": "stdout",
     "output_type": "stream",
     "text": [
      "\n"
     ]
    },
    {
     "name": "stderr",
     "output_type": "stream",
     "text": [
      "INFO:gurobipy:\n"
     ]
    },
    {
     "name": "stdout",
     "output_type": "stream",
     "text": [
      "Ordering time: 0.04s\n"
     ]
    },
    {
     "name": "stderr",
     "output_type": "stream",
     "text": [
      "INFO:gurobipy:Ordering time: 0.04s\n"
     ]
    },
    {
     "name": "stdout",
     "output_type": "stream",
     "text": [
      "\n"
     ]
    },
    {
     "name": "stderr",
     "output_type": "stream",
     "text": [
      "INFO:gurobipy:\n"
     ]
    },
    {
     "name": "stdout",
     "output_type": "stream",
     "text": [
      "Barrier statistics:\n"
     ]
    },
    {
     "name": "stderr",
     "output_type": "stream",
     "text": [
      "INFO:gurobipy:Barrier statistics:\n"
     ]
    },
    {
     "name": "stdout",
     "output_type": "stream",
     "text": [
      " Dense cols : 3\n"
     ]
    },
    {
     "name": "stderr",
     "output_type": "stream",
     "text": [
      "INFO:gurobipy: Dense cols : 3\n"
     ]
    },
    {
     "name": "stdout",
     "output_type": "stream",
     "text": [
      " AA' NZ     : 1.181e+05\n"
     ]
    },
    {
     "name": "stderr",
     "output_type": "stream",
     "text": [
      "INFO:gurobipy: AA' NZ     : 1.181e+05\n"
     ]
    },
    {
     "name": "stdout",
     "output_type": "stream",
     "text": [
      " Factor NZ  : 6.560e+05 (roughly 40 MB of memory)\n"
     ]
    },
    {
     "name": "stderr",
     "output_type": "stream",
     "text": [
      "INFO:gurobipy: Factor NZ  : 6.560e+05 (roughly 40 MB of memory)\n"
     ]
    },
    {
     "name": "stdout",
     "output_type": "stream",
     "text": [
      " Factor Ops : 8.633e+06 (less than 1 second per iteration)\n"
     ]
    },
    {
     "name": "stderr",
     "output_type": "stream",
     "text": [
      "INFO:gurobipy: Factor Ops : 8.633e+06 (less than 1 second per iteration)\n"
     ]
    },
    {
     "name": "stdout",
     "output_type": "stream",
     "text": [
      " Threads    : 1\n"
     ]
    },
    {
     "name": "stderr",
     "output_type": "stream",
     "text": [
      "INFO:gurobipy: Threads    : 1\n"
     ]
    },
    {
     "name": "stdout",
     "output_type": "stream",
     "text": [
      "\n"
     ]
    },
    {
     "name": "stderr",
     "output_type": "stream",
     "text": [
      "INFO:gurobipy:\n"
     ]
    },
    {
     "name": "stdout",
     "output_type": "stream",
     "text": [
      "                  Objective                Residual\n"
     ]
    },
    {
     "name": "stderr",
     "output_type": "stream",
     "text": [
      "INFO:gurobipy:                  Objective                Residual\n"
     ]
    },
    {
     "name": "stdout",
     "output_type": "stream",
     "text": [
      "Iter       Primal          Dual         Primal    Dual     Compl     Time\n"
     ]
    },
    {
     "name": "stderr",
     "output_type": "stream",
     "text": [
      "INFO:gurobipy:Iter       Primal          Dual         Primal    Dual     Compl     Time\n"
     ]
    },
    {
     "name": "stdout",
     "output_type": "stream",
     "text": [
      "   0   2.14038078e+06  5.07207404e+04  1.34e+03 0.00e+00  4.97e+03     0s\n"
     ]
    },
    {
     "name": "stderr",
     "output_type": "stream",
     "text": [
      "INFO:gurobipy:   0   2.14038078e+06  5.07207404e+04  1.34e+03 0.00e+00  4.97e+03     0s\n"
     ]
    },
    {
     "name": "stdout",
     "output_type": "stream",
     "text": [
      "   1   3.59263836e+06 -7.68684504e+05  2.69e+02 6.73e-01  9.75e+02     0s\n"
     ]
    },
    {
     "name": "stderr",
     "output_type": "stream",
     "text": [
      "INFO:gurobipy:   1   3.59263836e+06 -7.68684504e+05  2.69e+02 6.73e-01  9.75e+02     0s\n"
     ]
    },
    {
     "name": "stdout",
     "output_type": "stream",
     "text": [
      "   2   2.26383232e+06 -8.99124799e+05  3.32e+01 5.76e-02  1.20e+02     0s\n"
     ]
    },
    {
     "name": "stderr",
     "output_type": "stream",
     "text": [
      "INFO:gurobipy:   2   2.26383232e+06 -8.99124799e+05  3.32e+01 5.76e-02  1.20e+02     0s\n"
     ]
    },
    {
     "name": "stdout",
     "output_type": "stream",
     "text": [
      "   3   4.79487508e+05 -1.27570638e+05  1.68e+00 2.17e-03  1.04e+01     0s\n"
     ]
    },
    {
     "name": "stderr",
     "output_type": "stream",
     "text": [
      "INFO:gurobipy:   3   4.79487508e+05 -1.27570638e+05  1.68e+00 2.17e-03  1.04e+01     0s\n"
     ]
    },
    {
     "name": "stdout",
     "output_type": "stream",
     "text": [
      "   4   2.07869184e+05  2.08320933e+04  3.90e-01 6.01e-12  2.65e+00     0s\n"
     ]
    },
    {
     "name": "stderr",
     "output_type": "stream",
     "text": [
      "INFO:gurobipy:   4   2.07869184e+05  2.08320933e+04  3.90e-01 6.01e-12  2.65e+00     0s\n"
     ]
    },
    {
     "name": "stdout",
     "output_type": "stream",
     "text": [
      "   5   1.44374596e+05  3.26429013e+04  2.25e-01 8.35e-14  1.55e+00     0s\n"
     ]
    },
    {
     "name": "stderr",
     "output_type": "stream",
     "text": [
      "INFO:gurobipy:   5   1.44374596e+05  3.26429013e+04  2.25e-01 8.35e-14  1.55e+00     0s\n"
     ]
    },
    {
     "name": "stdout",
     "output_type": "stream",
     "text": [
      "   6   1.31626695e+05  4.06933716e+04  1.93e-01 3.98e-13  1.25e+00     0s\n"
     ]
    },
    {
     "name": "stderr",
     "output_type": "stream",
     "text": [
      "INFO:gurobipy:   6   1.31626695e+05  4.06933716e+04  1.93e-01 3.98e-13  1.25e+00     0s\n"
     ]
    },
    {
     "name": "stdout",
     "output_type": "stream",
     "text": [
      "   7   1.15644918e+05  5.01706066e+04  1.42e-01 1.06e-13  8.92e-01     0s\n"
     ]
    },
    {
     "name": "stderr",
     "output_type": "stream",
     "text": [
      "INFO:gurobipy:   7   1.15644918e+05  5.01706066e+04  1.42e-01 1.06e-13  8.92e-01     0s\n"
     ]
    },
    {
     "name": "stdout",
     "output_type": "stream",
     "text": [
      "   8   1.10159181e+05  5.56250727e+04  1.22e-01 7.99e-14  7.41e-01     0s\n"
     ]
    },
    {
     "name": "stderr",
     "output_type": "stream",
     "text": [
      "INFO:gurobipy:   8   1.10159181e+05  5.56250727e+04  1.22e-01 7.99e-14  7.41e-01     0s\n"
     ]
    },
    {
     "name": "stdout",
     "output_type": "stream",
     "text": [
      "   9   1.02639861e+05  7.00017041e+04  1.26e-01 2.98e-13  4.43e-01     0s\n"
     ]
    },
    {
     "name": "stderr",
     "output_type": "stream",
     "text": [
      "INFO:gurobipy:   9   1.02639861e+05  7.00017041e+04  1.26e-01 2.98e-13  4.43e-01     0s\n"
     ]
    },
    {
     "name": "stdout",
     "output_type": "stream",
     "text": [
      "  10   9.46648344e+04  7.76164652e+04  6.56e-02 6.74e-14  2.31e-01     0s\n"
     ]
    },
    {
     "name": "stderr",
     "output_type": "stream",
     "text": [
      "INFO:gurobipy:  10   9.46648344e+04  7.76164652e+04  6.56e-02 6.74e-14  2.31e-01     0s\n"
     ]
    },
    {
     "name": "stdout",
     "output_type": "stream",
     "text": [
      "  11   9.10501321e+04  7.98320592e+04  4.24e-02 3.56e-13  1.52e-01     1s\n"
     ]
    },
    {
     "name": "stderr",
     "output_type": "stream",
     "text": [
      "INFO:gurobipy:  11   9.10501321e+04  7.98320592e+04  4.24e-02 3.56e-13  1.52e-01     1s\n"
     ]
    },
    {
     "name": "stdout",
     "output_type": "stream",
     "text": [
      "  12   9.01599747e+04  8.22334123e+04  3.62e-02 0.00e+00  1.08e-01     1s\n"
     ]
    },
    {
     "name": "stderr",
     "output_type": "stream",
     "text": [
      "INFO:gurobipy:  12   9.01599747e+04  8.22334123e+04  3.62e-02 0.00e+00  1.08e-01     1s\n"
     ]
    },
    {
     "name": "stdout",
     "output_type": "stream",
     "text": [
      "  13   9.15104890e+04  8.35751216e+04  2.55e-02 0.00e+00  1.07e-01     1s\n"
     ]
    },
    {
     "name": "stderr",
     "output_type": "stream",
     "text": [
      "INFO:gurobipy:  13   9.15104890e+04  8.35751216e+04  2.55e-02 0.00e+00  1.07e-01     1s\n"
     ]
    },
    {
     "name": "stdout",
     "output_type": "stream",
     "text": [
      "  14   8.99567272e+04  8.86271166e+04  1.34e-07 4.38e-12  1.76e-02     1s\n"
     ]
    },
    {
     "name": "stderr",
     "output_type": "stream",
     "text": [
      "INFO:gurobipy:  14   8.99567272e+04  8.86271166e+04  1.34e-07 4.38e-12  1.76e-02     1s\n"
     ]
    },
    {
     "name": "stdout",
     "output_type": "stream",
     "text": [
      "  15   8.98396235e+04  8.95754570e+04  6.22e-08 4.90e-15  3.50e-03     1s\n"
     ]
    },
    {
     "name": "stderr",
     "output_type": "stream",
     "text": [
      "INFO:gurobipy:  15   8.98396235e+04  8.95754570e+04  6.22e-08 4.90e-15  3.50e-03     1s\n"
     ]
    },
    {
     "name": "stdout",
     "output_type": "stream",
     "text": [
      "  16   8.97381917e+04  8.97142020e+04  3.40e-09 8.35e-14  3.18e-04     1s\n"
     ]
    },
    {
     "name": "stderr",
     "output_type": "stream",
     "text": [
      "INFO:gurobipy:  16   8.97381917e+04  8.97142020e+04  3.40e-09 8.35e-14  3.18e-04     1s\n"
     ]
    },
    {
     "name": "stdout",
     "output_type": "stream",
     "text": [
      "  17   8.97283856e+04  8.97182368e+04  6.35e-11 4.54e-13  1.34e-04     1s\n"
     ]
    },
    {
     "name": "stderr",
     "output_type": "stream",
     "text": [
      "INFO:gurobipy:  17   8.97283856e+04  8.97182368e+04  6.35e-11 4.54e-13  1.34e-04     1s\n"
     ]
    },
    {
     "name": "stdout",
     "output_type": "stream",
     "text": [
      "  18   8.97267365e+04  8.97217398e+04  4.60e-11 5.47e-13  6.61e-05     1s\n"
     ]
    },
    {
     "name": "stderr",
     "output_type": "stream",
     "text": [
      "INFO:gurobipy:  18   8.97267365e+04  8.97217398e+04  4.60e-11 5.47e-13  6.61e-05     1s\n"
     ]
    },
    {
     "name": "stdout",
     "output_type": "stream",
     "text": [
      "  19   8.97230000e+04  8.97225377e+04  1.60e-09 2.94e-11  6.12e-06     1s\n"
     ]
    },
    {
     "name": "stderr",
     "output_type": "stream",
     "text": [
      "INFO:gurobipy:  19   8.97230000e+04  8.97225377e+04  1.60e-09 2.94e-11  6.12e-06     1s\n"
     ]
    },
    {
     "name": "stdout",
     "output_type": "stream",
     "text": [
      "  20   8.97226278e+04  8.97226032e+04  1.49e-09 1.27e-11  3.27e-07     1s\n"
     ]
    },
    {
     "name": "stderr",
     "output_type": "stream",
     "text": [
      "INFO:gurobipy:  20   8.97226278e+04  8.97226032e+04  1.49e-09 1.27e-11  3.27e-07     1s\n"
     ]
    },
    {
     "name": "stdout",
     "output_type": "stream",
     "text": [
      "  21   8.97226121e+04  8.97226121e+04  5.06e-09 6.43e-11  6.86e-12     1s\n"
     ]
    },
    {
     "name": "stderr",
     "output_type": "stream",
     "text": [
      "INFO:gurobipy:  21   8.97226121e+04  8.97226121e+04  5.06e-09 6.43e-11  6.86e-12     1s\n"
     ]
    },
    {
     "name": "stdout",
     "output_type": "stream",
     "text": [
      "\n"
     ]
    },
    {
     "name": "stderr",
     "output_type": "stream",
     "text": [
      "INFO:gurobipy:\n"
     ]
    },
    {
     "name": "stdout",
     "output_type": "stream",
     "text": [
      "Barrier solved model in 21 iterations and 0.75 seconds (0.65 work units)\n"
     ]
    },
    {
     "name": "stderr",
     "output_type": "stream",
     "text": [
      "INFO:gurobipy:Barrier solved model in 21 iterations and 0.75 seconds (0.65 work units)\n"
     ]
    },
    {
     "name": "stdout",
     "output_type": "stream",
     "text": [
      "Optimal objective 8.97226121e+04\n"
     ]
    },
    {
     "name": "stderr",
     "output_type": "stream",
     "text": [
      "INFO:gurobipy:Optimal objective 8.97226121e+04\n"
     ]
    },
    {
     "name": "stdout",
     "output_type": "stream",
     "text": [
      "\n"
     ]
    },
    {
     "name": "stderr",
     "output_type": "stream",
     "text": [
      "INFO:gurobipy:\n"
     ]
    },
    {
     "name": "stdout",
     "output_type": "stream",
     "text": [
      "Crossover log...\n"
     ]
    },
    {
     "name": "stderr",
     "output_type": "stream",
     "text": [
      "INFO:gurobipy:Crossover log...\n"
     ]
    },
    {
     "name": "stdout",
     "output_type": "stream",
     "text": [
      "\n"
     ]
    },
    {
     "name": "stderr",
     "output_type": "stream",
     "text": [
      "INFO:gurobipy:\n"
     ]
    },
    {
     "name": "stdout",
     "output_type": "stream",
     "text": [
      "    7886 DPushes remaining with DInf 0.0000000e+00                 1s\n"
     ]
    },
    {
     "name": "stderr",
     "output_type": "stream",
     "text": [
      "INFO:gurobipy:    7886 DPushes remaining with DInf 0.0000000e+00                 1s\n"
     ]
    },
    {
     "name": "stdout",
     "output_type": "stream",
     "text": [
      "       0 DPushes remaining with DInf 0.0000000e+00                 1s\n"
     ]
    },
    {
     "name": "stderr",
     "output_type": "stream",
     "text": [
      "INFO:gurobipy:       0 DPushes remaining with DInf 0.0000000e+00                 1s\n"
     ]
    },
    {
     "name": "stdout",
     "output_type": "stream",
     "text": [
      "\n"
     ]
    },
    {
     "name": "stderr",
     "output_type": "stream",
     "text": [
      "INFO:gurobipy:\n"
     ]
    },
    {
     "name": "stdout",
     "output_type": "stream",
     "text": [
      "   12871 PPushes remaining with PInf 0.0000000e+00                 1s\n"
     ]
    },
    {
     "name": "stderr",
     "output_type": "stream",
     "text": [
      "INFO:gurobipy:   12871 PPushes remaining with PInf 0.0000000e+00                 1s\n"
     ]
    },
    {
     "name": "stdout",
     "output_type": "stream",
     "text": [
      "       0 PPushes remaining with PInf 0.0000000e+00                 1s\n"
     ]
    },
    {
     "name": "stderr",
     "output_type": "stream",
     "text": [
      "INFO:gurobipy:       0 PPushes remaining with PInf 0.0000000e+00                 1s\n"
     ]
    },
    {
     "name": "stdout",
     "output_type": "stream",
     "text": [
      "\n"
     ]
    },
    {
     "name": "stderr",
     "output_type": "stream",
     "text": [
      "INFO:gurobipy:\n"
     ]
    },
    {
     "name": "stdout",
     "output_type": "stream",
     "text": [
      "  Push phase complete: Pinf 0.0000000e+00, Dinf 3.5665915e-15      1s\n"
     ]
    },
    {
     "name": "stderr",
     "output_type": "stream",
     "text": [
      "INFO:gurobipy:  Push phase complete: Pinf 0.0000000e+00, Dinf 3.5665915e-15      1s\n"
     ]
    },
    {
     "name": "stdout",
     "output_type": "stream",
     "text": [
      "\n"
     ]
    },
    {
     "name": "stderr",
     "output_type": "stream",
     "text": [
      "INFO:gurobipy:\n"
     ]
    },
    {
     "name": "stdout",
     "output_type": "stream",
     "text": [
      "\n"
     ]
    },
    {
     "name": "stderr",
     "output_type": "stream",
     "text": [
      "INFO:gurobipy:\n"
     ]
    },
    {
     "name": "stdout",
     "output_type": "stream",
     "text": [
      "Solved with barrier\n"
     ]
    },
    {
     "name": "stderr",
     "output_type": "stream",
     "text": [
      "INFO:gurobipy:Solved with barrier\n"
     ]
    },
    {
     "name": "stdout",
     "output_type": "stream",
     "text": [
      "Iteration    Objective       Primal Inf.    Dual Inf.      Time\n"
     ]
    },
    {
     "name": "stderr",
     "output_type": "stream",
     "text": [
      "INFO:gurobipy:Iteration    Objective       Primal Inf.    Dual Inf.      Time\n"
     ]
    },
    {
     "name": "stdout",
     "output_type": "stream",
     "text": [
      "   12923    8.9722612e+04   0.000000e+00   0.000000e+00      1s\n"
     ]
    },
    {
     "name": "stderr",
     "output_type": "stream",
     "text": [
      "INFO:gurobipy:   12923    8.9722612e+04   0.000000e+00   0.000000e+00      1s\n"
     ]
    },
    {
     "name": "stdout",
     "output_type": "stream",
     "text": [
      "\n"
     ]
    },
    {
     "name": "stderr",
     "output_type": "stream",
     "text": [
      "INFO:gurobipy:\n"
     ]
    },
    {
     "name": "stdout",
     "output_type": "stream",
     "text": [
      "Solved in 12923 iterations and 0.91 seconds (0.75 work units)\n"
     ]
    },
    {
     "name": "stderr",
     "output_type": "stream",
     "text": [
      "INFO:gurobipy:Solved in 12923 iterations and 0.91 seconds (0.75 work units)\n"
     ]
    },
    {
     "name": "stdout",
     "output_type": "stream",
     "text": [
      "Optimal objective  8.972261213e+04\n"
     ]
    },
    {
     "name": "stderr",
     "output_type": "stream",
     "text": [
      "INFO:gurobipy:Optimal objective  8.972261213e+04\n",
      "INFO:linopy.constants: Optimization successful: \n",
      "Status: ok\n",
      "Termination condition: optimal\n",
      "Solution: 61325 primals, 157685 duals\n",
      "Objective: 8.97e+04\n",
      "Solver model: available\n",
      "Solver message: 2\n",
      "\n",
      "INFO:pypsa.optimization.optimize:The shadow-prices of the constraints Generator-ext-p-lower, Generator-ext-p-upper, Link-ext-p-lower, Link-ext-p-upper, StorageUnit-ext-p_dispatch-lower, StorageUnit-ext-p_dispatch-upper, StorageUnit-ext-p_store-lower, StorageUnit-ext-p_store-upper, StorageUnit-ext-state_of_charge-lower, StorageUnit-ext-state_of_charge-upper, StorageUnit-energy_balance were not assigned to the network.\n"
     ]
    },
    {
     "data": {
      "text/plain": [
       "('ok', 'optimal')"
      ]
     },
     "execution_count": 64,
     "metadata": {},
     "output_type": "execute_result"
    }
   ],
   "source": [
    "n.optimize(solver_name=SOLVER)"
   ]
  },
  {
   "cell_type": "markdown",
   "metadata": {},
   "source": [
    "## 5. Investigate the results"
   ]
  },
  {
   "cell_type": "markdown",
   "metadata": {},
   "source": [
    "### 5.1 Objective value\n",
    "\n",
    "In the following, we investigate the value of the objective function and notable values."
   ]
  },
  {
   "cell_type": "markdown",
   "metadata": {},
   "source": [
    "The objective"
   ]
  },
  {
   "cell_type": "code",
   "execution_count": 65,
   "metadata": {},
   "outputs": [
    {
     "data": {
      "text/plain": [
       "89722.61213147361"
      ]
     },
     "execution_count": 65,
     "metadata": {},
     "output_type": "execute_result"
    }
   ],
   "source": [
    "n.objective"
   ]
  },
  {
   "cell_type": "markdown",
   "metadata": {},
   "source": [
    "### 5.2 Optimal investment capacities\n",
    "\n",
    "In the following, we show the optimal investment capacities by components.\n",
    "To do so, we first merge all the optimal capacities for all components (generators, links, stores, storage_units and lines) and then we show a summary table.\n",
    "\n",
    "Note: the optimized variable for each component is different:\n",
    "- `p_nom_opt` is the nominal (power) capacity for `generators`, `links` and `storage_units`\n",
    "- `e_nom_opt` is the nominal (energy) capacity for `stores`\n",
    "- `s_nom_opt` is the nominal (apparent power) capacity for `lines`\n",
    "\n",
    "To clarify the results, in the following we concatenate all the results.\n",
    "For each component type, we create a column in a dataframe and populate the corresponding values with the optimal capacity.\n",
    "To ease the visualization, each column name is renamed to highlight the corresponding component."
   ]
  },
  {
   "cell_type": "code",
   "execution_count": 66,
   "metadata": {},
   "outputs": [
    {
     "data": {
      "text/html": [
       "<div>\n",
       "<style scoped>\n",
       "    .dataframe tbody tr th:only-of-type {\n",
       "        vertical-align: middle;\n",
       "    }\n",
       "\n",
       "    .dataframe tbody tr th {\n",
       "        vertical-align: top;\n",
       "    }\n",
       "\n",
       "    .dataframe thead th {\n",
       "        text-align: right;\n",
       "    }\n",
       "</style>\n",
       "<table border=\"1\" class=\"dataframe\">\n",
       "  <thead>\n",
       "    <tr style=\"text-align: right;\">\n",
       "      <th></th>\n",
       "      <th>p_nom_opt - Generator</th>\n",
       "      <th>p_nom_opt - Link</th>\n",
       "      <th>p_nom_opt - Storage Unit</th>\n",
       "      <th>e_nom_opt - Store</th>\n",
       "      <th>s_nom_opt - Line</th>\n",
       "    </tr>\n",
       "  </thead>\n",
       "  <tbody>\n",
       "    <tr>\n",
       "      <th>pv</th>\n",
       "      <td>334.297308</td>\n",
       "      <td>NaN</td>\n",
       "      <td>NaN</td>\n",
       "      <td>NaN</td>\n",
       "      <td>NaN</td>\n",
       "    </tr>\n",
       "    <tr>\n",
       "      <th>wind</th>\n",
       "      <td>0.000000</td>\n",
       "      <td>NaN</td>\n",
       "      <td>NaN</td>\n",
       "      <td>NaN</td>\n",
       "      <td>NaN</td>\n",
       "    </tr>\n",
       "    <tr>\n",
       "      <th>diesel transport</th>\n",
       "      <td>18.656716</td>\n",
       "      <td>NaN</td>\n",
       "      <td>NaN</td>\n",
       "      <td>NaN</td>\n",
       "      <td>NaN</td>\n",
       "    </tr>\n",
       "    <tr>\n",
       "      <th>diesel</th>\n",
       "      <td>NaN</td>\n",
       "      <td>18.656716</td>\n",
       "      <td>NaN</td>\n",
       "      <td>NaN</td>\n",
       "      <td>NaN</td>\n",
       "    </tr>\n",
       "    <tr>\n",
       "      <th>battery</th>\n",
       "      <td>NaN</td>\n",
       "      <td>NaN</td>\n",
       "      <td>374.120138</td>\n",
       "      <td>NaN</td>\n",
       "      <td>NaN</td>\n",
       "    </tr>\n",
       "  </tbody>\n",
       "</table>\n",
       "</div>"
      ],
      "text/plain": [
       "                  p_nom_opt - Generator  p_nom_opt - Link  \\\n",
       "pv                           334.297308               NaN   \n",
       "wind                           0.000000               NaN   \n",
       "diesel transport              18.656716               NaN   \n",
       "diesel                              NaN         18.656716   \n",
       "battery                             NaN               NaN   \n",
       "\n",
       "                  p_nom_opt - Storage Unit  e_nom_opt - Store  \\\n",
       "pv                                     NaN                NaN   \n",
       "wind                                   NaN                NaN   \n",
       "diesel transport                       NaN                NaN   \n",
       "diesel                                 NaN                NaN   \n",
       "battery                         374.120138                NaN   \n",
       "\n",
       "                  s_nom_opt - Line  \n",
       "pv                             NaN  \n",
       "wind                           NaN  \n",
       "diesel transport               NaN  \n",
       "diesel                         NaN  \n",
       "battery                        NaN  "
      ]
     },
     "execution_count": 66,
     "metadata": {},
     "output_type": "execute_result"
    }
   ],
   "source": [
    "pd.concat([\n",
    "    n.generators.p_nom_opt.rename(\"p_nom_opt - Generator\"),\n",
    "    n.links.p_nom_opt.rename(\"p_nom_opt - Link\"),\n",
    "    n.storage_units.p_nom_opt.rename(\"p_nom_opt - Storage Unit\"),\n",
    "    n.stores.e_nom_opt.rename(\"e_nom_opt - Store\"),\n",
    "    n.lines.s_nom_opt.rename(\"s_nom_opt - Line\"),\n",
    "], axis=1)"
   ]
  },
  {
   "cell_type": "markdown",
   "metadata": {},
   "source": [
    "Plot investments by bus and carrier"
   ]
  },
  {
   "cell_type": "code",
   "execution_count": 68,
   "metadata": {},
   "outputs": [
    {
     "data": {
      "text/plain": [
       "<Axes: title={'center': 'Installed capacity per bus and resource'}, ylabel='Installed capacity [kW]'>"
      ]
     },
     "execution_count": 68,
     "metadata": {},
     "output_type": "execute_result"
    },
    {
     "data": {
      "image/png": "[encoded data removed]",
      "text/plain": [
       "<Figure size 640x480 with 1 Axes>"
      ]
     },
     "metadata": {},
     "output_type": "display_data"
    }
   ],
   "source": [
    "grouped_data = pd.concat([\n",
    "    n.generators.groupby([\"bus\", n.generators.index.rename(\"resource\")]).p_nom_opt.sum(),\n",
    "    n.storage_units.groupby([\"bus\", n.storage_units.index.rename(\"resource\")]).p_nom_opt.sum(),\n",
    "])\n",
    "(\n",
    "    grouped_data\n",
    "    .reset_index()\n",
    "    .pivot(index=\"bus\", columns=\"resource\")\n",
    "    .reindex(n.buses.index)\n",
    "    .droplevel(0, axis=1)\n",
    "    .plot(\n",
    "        kind=\"bar\",\n",
    "        stacked=True,\n",
    "        ylabel=\"Installed capacity [kW]\",\n",
    "        title=\"Installed capacity per bus and resource\",\n",
    "        xlabel=\"\",\n",
    "    )\n",
    ")"
   ]
  },
  {
   "cell_type": "markdown",
   "metadata": {},
   "source": [
    "### 5.3 Collect major energy statistics\n",
    "\n",
    "In the following, the goal is to collect major statistics on the total energy produced to supply the load.\n",
    "\n",
    "Note that the time series of any quantity of the different objects is stored into the object `{object}_t`, where `{object}` is any pypsa component, such as generators, links, etc.\n",
    "\n",
    "To do this, we first create a dataframe that contains all time series for any object and then we sum the quantities to identify the desired quantities."
   ]
  },
  {
   "cell_type": "code",
   "execution_count": 69,
   "metadata": {},
   "outputs": [],
   "source": [
    "all_dispatch = pd.concat(\n",
    "    [\n",
    "        n.generators_t.p,\n",
    "        n.storage_units_t.p,\n",
    "        n.stores_t.p,\n",
    "    ],\n",
    "    axis=1,\n",
    ")\n",
    "\n",
    "total_dispatch = all_dispatch.sum()"
   ]
  },
  {
   "cell_type": "markdown",
   "metadata": {},
   "source": [
    "Let's compare the quantities with respect to the total demand"
   ]
  },
  {
   "cell_type": "code",
   "execution_count": 70,
   "metadata": {},
   "outputs": [
    {
     "data": {
      "text/plain": [
       "pv                  5.702809e-01\n",
       "wind                0.000000e+00\n",
       "diesel transport    4.962114e-01\n",
       "battery            -1.466988e-18\n",
       "dtype: float64"
      ]
     },
     "execution_count": 70,
     "metadata": {},
     "output_type": "execute_result"
    }
   ],
   "source": [
    "total_demand = n.loads_t.p_set.values.sum()\n",
    "\n",
    "total_dispatch/total_demand"
   ]
  },
  {
   "cell_type": "markdown",
   "metadata": {},
   "source": [
    "Let's now check the total renewable curtailment by comparing the available renewable production versus the actual production."
   ]
  },
  {
   "cell_type": "code",
   "execution_count": 71,
   "metadata": {},
   "outputs": [
    {
     "data": {
      "text/plain": [
       "Generator\n",
       "pv      509588.107712\n",
       "wind         0.000000\n",
       "dtype: float64"
      ]
     },
     "execution_count": 71,
     "metadata": {},
     "output_type": "execute_result"
    }
   ],
   "source": [
    "# get RES technologies that are actually installed\n",
    "existing_RES_techs = n.generators.index.intersection([\"pv\", \"wind\"])\n",
    "\n",
    "total_available_RES = n.generators_t.p_max_pu[existing_RES_techs].sum() * n.generators.p_nom_opt[existing_RES_techs]\n",
    "total_available_RES"
   ]
  },
  {
   "cell_type": "code",
   "execution_count": 72,
   "metadata": {},
   "outputs": [
    {
     "data": {
      "text/plain": [
       "Generator\n",
       "pv      0.631411\n",
       "wind         NaN\n",
       "dtype: float64"
      ]
     },
     "execution_count": 72,
     "metadata": {},
     "output_type": "execute_result"
    }
   ],
   "source": [
    "RES_curtailment = total_available_RES - total_dispatch[existing_RES_techs]\n",
    "\n",
    "RES_curtailment/total_available_RES"
   ]
  },
  {
   "cell_type": "markdown",
   "metadata": {},
   "source": [
    "### 5.4 Plot the energy dispatch"
   ]
  },
  {
   "cell_type": "code",
   "execution_count": 74,
   "metadata": {},
   "outputs": [
    {
     "data": {
      "text/plain": [
       "<matplotlib.legend.Legend at 0x1f9147b5e80>"
      ]
     },
     "execution_count": 74,
     "metadata": {},
     "output_type": "execute_result"
    },
    {
     "data": {
      "image/png": "[encoded data removed]",
      "text/plain": [
       "<Figure size 640x480 with 1 Axes>"
      ]
     },
     "metadata": {},
     "output_type": "display_data"
    }
   ],
   "source": [
    "# Day to start the plotting from\n",
    "init_day_plot = 150\n",
    "# Number of days to plot\n",
    "n_days_to_plot = 7\n",
    "\n",
    "subset_sns = n.generators_t.p.index[init_day_plot*24:(init_day_plot*24 + n_days_to_plot*24)]\n",
    "\n",
    "cols = n.generators_t.p.columns.difference([\"diesel transport\"])\n",
    "\n",
    "# collect discharge power of storages\n",
    "p_dch_stores = n.storage_units_t.p.loc[subset_sns, :].clip(lower=0.0)  # negative values become 0.0\n",
    "p_dch_stores.columns = p_dch_stores.columns + \"_dch\"\n",
    "\n",
    "# collect charge power of storages\n",
    "p_ch_stores = n.storage_units_t.p.loc[subset_sns, :].clip(upper=0.0)  # positive values become 0.0\n",
    "p_ch_stores.columns = p_ch_stores.columns + \"_ch\"\n",
    "\n",
    "# create a dataframe to plot the quantities to plot\n",
    "data_to_plot = pd.concat(\n",
    "    [\n",
    "        p_dch_stores,\n",
    "        p_ch_stores,\n",
    "        n.generators_t.p.loc[subset_sns, cols],\n",
    "        n.links_t.p0.loc[subset_sns, :],\n",
    "    ],\n",
    "    axis=1,\n",
    ")\n",
    "\n",
    "\n",
    "ax = data_to_plot.plot.area(linewidth=0.0) #, figsize=FIGSIZE)\n",
    "\n",
    "plt.plot(df_data.loc[subset_sns, [\"elec_demand\"]].sum(axis=1), label=\"load\", color=\"k\")\n",
    "plt.ylabel(\"Power [kW]\")\n",
    "plt.legend()"
   ]
  },
  {
   "cell_type": "markdown",
   "metadata": {},
   "source": [
    "### 5.6 Plot the diesel transport and electricity production"
   ]
  },
  {
   "cell_type": "code",
   "execution_count": 75,
   "metadata": {},
   "outputs": [
    {
     "data": {
      "text/plain": [
       "Text(0, 0.5, 'Power [kW]')"
      ]
     },
     "execution_count": 75,
     "metadata": {},
     "output_type": "execute_result"
    },
    {
     "data": {
      "image/png": "[encoded data removed]",
      "text/plain": [
       "<Figure size 640x480 with 1 Axes>"
      ]
     },
     "metadata": {},
     "output_type": "display_data"
    }
   ],
   "source": [
    "st_buses = n.statistics.energy_balance(aggregate_time=False, groupby=[\"bus\"]).fillna(0.)\n",
    "\n",
    "st_buses.query(\"bus == 'Bus diesel'\").droplevel(1).T.plot()\n",
    "plt.ylabel(\"Power [kW]\")"
   ]
  },
  {
   "cell_type": "code",
   "execution_count": 77,
   "metadata": {},
   "outputs": [
    {
     "data": {
      "text/plain": [
       "Text(0, 0.5, 'Power [kW]')"
      ]
     },
     "execution_count": 77,
     "metadata": {},
     "output_type": "execute_result"
    },
    {
     "data": {
      "image/png": "[encoded data removed]",
      "text/plain": [
       "<Figure size 640x480 with 1 Axes>"
      ]
     },
     "metadata": {},
     "output_type": "display_data"
    }
   ],
   "source": [
    "st_buses.query(\"bus == 'Bus elec'\").droplevel(1).T.plot()\n",
    "plt.ylabel(\"Power [kW]\")"
   ]
  }
 ],
 "metadata": {
  "kernelspec": {
   "display_name": "wtp_design",
   "language": "python",
   "name": "python3"
  },
  "language_info": {
   "codemirror_mode": {
    "name": "ipython",
    "version": 3
   },
   "file_extension": ".py",
   "mimetype": "text/x-python",
   "name": "python",
   "nbconvert_exporter": "python",
   "pygments_lexer": "ipython3",
   "version": "3.12.8"
  }
 },
 "nbformat": 4,
 "nbformat_minor": 2
}
