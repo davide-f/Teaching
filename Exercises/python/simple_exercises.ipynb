{
 "cells": [
  {
   "cell_type": "markdown",
   "metadata": {},
   "source": [
    "# This file contains simple exercises to get started with Python"
   ]
  },
  {
   "cell_type": "markdown",
   "metadata": {},
   "source": [
    "### Exercise 1: Factorial\n",
    "\n",
    "Write a function that computes the factorial of a number."
   ]
  },
  {
   "cell_type": "code",
   "execution_count": null,
   "metadata": {},
   "outputs": [],
   "source": [
    "def my_factorial(n):\n",
    "    # some code\n",
    "    return value\n",
    "\n",
    "my_factorial(5) # 120"
   ]
  },
  {
   "cell_type": "markdown",
   "metadata": {},
   "source": [
    "### Exercise 2: Product without the operator *\n",
    "\n",
    "Calculate the product of two positive integers without using the operator `*`."
   ]
  },
  {
   "cell_type": "code",
   "execution_count": null,
   "metadata": {},
   "outputs": [],
   "source": [
    "def my_product(a, b):\n",
    "    # some code\n",
    "    return value\n",
    "\n",
    "my_product(5, 6) # 30"
   ]
  },
  {
   "cell_type": "markdown",
   "metadata": {},
   "source": [
    "### Exercise 3: Calculate the integer division and reminder of two positive integers\n",
    "\n",
    "Let a and b be two integers, calculate the integer division (operator `//`) and the reminder (operator `%`) of a divided by b without using the operators."
   ]
  },
  {
   "cell_type": "code",
   "execution_count": null,
   "metadata": {},
   "outputs": [],
   "source": [
    "def my_division_and_remainder(a, b):\n",
    "    # some code\n",
    "    return (division, remainder)\n",
    "\n",
    "my_division_and_remainder(10, 3) # (3, 1)"
   ]
  }
 ],
 "metadata": {
  "kernelspec": {
   "display_name": "python_exercise",
   "language": "python",
   "name": "python3"
  },
  "language_info": {
   "codemirror_mode": {
    "name": "ipython",
    "version": 3
   },
   "file_extension": ".py",
   "mimetype": "text/x-python",
   "name": "python",
   "nbconvert_exporter": "python",
   "pygments_lexer": "ipython3",
   "version": "3.12.7"
  }
 },
 "nbformat": 4,
 "nbformat_minor": 2
}
