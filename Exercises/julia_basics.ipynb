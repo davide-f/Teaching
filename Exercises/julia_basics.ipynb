{
 "cells": [
  {
   "attachments": {},
   "cell_type": "markdown",
   "metadata": {},
   "source": [
    "# Getting started with Julia! The basics\n",
    "\n",
    "This notebook is aimed at giving the basics in Python programming for simple general basic usage, needed for energy modelling tasks.\n",
    "\n",
    "For more material, please checkout the [Tutorials](https://github.com/JuliaAcademy/JuliaTutorials/) and [Learning material](https://julialang.org/learning/)\n",
    "\n",
    "Note: this is a markdown cell"
   ]
  },
  {
   "attachments": {},
   "cell_type": "markdown",
   "metadata": {},
   "source": [
    "## Introduction to variables\n",
    "\n",
    "With respect to basic python, native Julia supports low-level data types that resemble the C capabilities.\n",
    "After the basic introduction, some highlights are given."
   ]
  },
  {
   "attachments": {},
   "cell_type": "markdown",
   "metadata": {},
   "source": [
    "In the following, the variable `a` is created with value 1 (type `Int64` in Julia)"
   ]
  },
  {
   "cell_type": "code",
   "execution_count": 1,
   "metadata": {},
   "outputs": [
    {
     "data": {
      "text/plain": [
       "1"
      ]
     },
     "metadata": {},
     "output_type": "display_data"
    }
   ],
   "source": [
    "a = 1  # variable definition\n",
    "a  # see the value (1)"
   ]
  },
  {
   "attachments": {},
   "cell_type": "markdown",
   "metadata": {},
   "source": [
    "Check the type of the variable `a`"
   ]
  },
  {
   "cell_type": "code",
   "execution_count": 2,
   "metadata": {},
   "outputs": [
    {
     "data": {
      "text/plain": [
       "Int64"
      ]
     },
     "metadata": {},
     "output_type": "display_data"
    }
   ],
   "source": [
    "typeof(a)"
   ]
  },
  {
   "attachments": {},
   "cell_type": "markdown",
   "metadata": {},
   "source": [
    "Other basic data structures in python are for examples strings, lists, tuples and dictionaries as here described."
   ]
  },
  {
   "cell_type": "code",
   "execution_count": 3,
   "metadata": {},
   "outputs": [
    {
     "data": {
      "text/plain": [
       "(1, 2, 3)"
      ]
     },
     "metadata": {},
     "output_type": "display_data"
    }
   ],
   "source": [
    "b = \"ciao\"  # string type\n",
    "c = [1, 2, 3]  # a vector\n",
    "d = (1, 2, 3)  # a tuple. Note it is immutable!"
   ]
  },
  {
   "attachments": {},
   "cell_type": "markdown",
   "metadata": {},
   "source": [
    "We see the content of the vector `c` as example"
   ]
  },
  {
   "cell_type": "code",
   "execution_count": 4,
   "metadata": {},
   "outputs": [
    {
     "data": {
      "text/plain": [
       "3-element Vector{Int64}:\n",
       " 1\n",
       " 2\n",
       " 3"
      ]
     },
     "metadata": {},
     "output_type": "display_data"
    }
   ],
   "source": [
    "c"
   ]
  },
  {
   "attachments": {},
   "cell_type": "markdown",
   "metadata": {},
   "source": [
    "Strings, vectors and tuples are example of iterable elements: they contain ordered contents that can be get by index.\n",
    "To get the first element, we can do as follows:"
   ]
  },
  {
   "cell_type": "code",
   "execution_count": 5,
   "metadata": {},
   "outputs": [
    {
     "ename": "BoundsError",
     "evalue": "BoundsError: attempt to access 3-element Vector{Int64} at index [0]",
     "output_type": "error",
     "traceback": [
      "BoundsError: attempt to access 3-element Vector{Int64} at index [0]\n",
      "\n",
      "Stacktrace:\n",
      " [1] getindex(A::Vector{Int64}, i1::Int64)\n",
      "   @ Base .\\array.jl:861\n",
      " [2] top-level scope\n",
      "   @ c:\\Users\\Davide\\git\\gitdf\\Teaching\\Exercises\\julia_basics.ipynb:1"
     ]
    }
   ],
   "source": [
    "c[0]  # first element of the list"
   ]
  },
  {
   "attachments": {},
   "cell_type": "markdown",
   "metadata": {},
   "source": [
    "To get the last element, for example:"
   ]
  },
  {
   "cell_type": "code",
   "execution_count": 6,
   "metadata": {},
   "outputs": [
    {
     "ename": "BoundsError",
     "evalue": "BoundsError: attempt to access 3-element Vector{Int64} at index [-1]",
     "output_type": "error",
     "traceback": [
      "BoundsError: attempt to access 3-element Vector{Int64} at index [-1]\n",
      "\n",
      "Stacktrace:\n",
      " [1] getindex(A::Vector{Int64}, i1::Int64)\n",
      "   @ Base .\\array.jl:861\n",
      " [2] top-level scope\n",
      "   @ c:\\Users\\Davide\\git\\gitdf\\Teaching\\Exercises\\julia_basics.ipynb:1"
     ]
    }
   ],
   "source": [
    "c[-1]"
   ]
  },
  {
   "attachments": {},
   "cell_type": "markdown",
   "metadata": {},
   "source": [
    "Lists can be modified after creation, such as, it is possible to add a new element.\n",
    "The cell below describes an example and the results is shown.\n",
    "\n",
    "Note: `append!` is the first exemption of function and as you can see, function names can contain also non-ordinary symbols (with some exeptions, see the documentation).\n",
    "By convention, in Julia the symbol `!` is added at the end of functions that change the content of the object passed to them"
   ]
  },
  {
   "cell_type": "code",
   "execution_count": 7,
   "metadata": {},
   "outputs": [
    {
     "data": {
      "text/plain": [
       "4-element Vector{Int64}:\n",
       " 1\n",
       " 2\n",
       " 3\n",
       " 4"
      ]
     },
     "metadata": {},
     "output_type": "display_data"
    }
   ],
   "source": [
    "append!(c, 4)  # add a new element to the vector\n",
    "c"
   ]
  },
  {
   "attachments": {},
   "cell_type": "markdown",
   "metadata": {},
   "source": [
    "Note that the vector c is of type Int64, therefore, it is not possible to append data of different types"
   ]
  },
  {
   "cell_type": "code",
   "execution_count": 8,
   "metadata": {},
   "outputs": [
    {
     "ename": "MethodError",
     "evalue": "MethodError: Cannot `convert` an object of type String to an object of type Int64\nClosest candidates are:\n  convert(::Type{T}, !Matched::T) where T<:Number at C:\\Users\\Davide\\AppData\\Local\\Programs\\Julia-1.7.3\\share\\julia\\base\\number.jl:6\n  convert(::Type{T}, !Matched::Number) where T<:Number at C:\\Users\\Davide\\AppData\\Local\\Programs\\Julia-1.7.3\\share\\julia\\base\\number.jl:7\n  convert(::Type{T}, !Matched::Base.TwicePrecision) where T<:Number at C:\\Users\\Davide\\AppData\\Local\\Programs\\Julia-1.7.3\\share\\julia\\base\\twiceprecision.jl:262\n  ...",
     "output_type": "error",
     "traceback": [
      "MethodError: Cannot `convert` an object of type String to an object of type Int64\n",
      "Closest candidates are:\n",
      "  convert(::Type{T}, !Matched::T) where T<:Number at C:\\Users\\Davide\\AppData\\Local\\Programs\\Julia-1.7.3\\share\\julia\\base\\number.jl:6\n",
      "  convert(::Type{T}, !Matched::Number) where T<:Number at C:\\Users\\Davide\\AppData\\Local\\Programs\\Julia-1.7.3\\share\\julia\\base\\number.jl:7\n",
      "  convert(::Type{T}, !Matched::Base.TwicePrecision) where T<:Number at C:\\Users\\Davide\\AppData\\Local\\Programs\\Julia-1.7.3\\share\\julia\\base\\twiceprecision.jl:262\n",
      "  ...\n",
      "\n",
      "Stacktrace:\n",
      " [1] setindex!(A::Vector{Int64}, x::String, i1::Int64)\n",
      "   @ Base .\\array.jl:903\n",
      " [2] _unsafe_copyto!(dest::Vector{Int64}, doffs::Int64, src::Vector{String}, soffs::Int64, n::Int64)\n",
      "   @ Base .\\array.jl:253\n",
      " [3] unsafe_copyto!\n",
      "   @ .\\array.jl:307 [inlined]\n",
      " [4] _copyto_impl!\n",
      "   @ .\\array.jl:331 [inlined]\n",
      " [5] copyto!\n",
      "   @ .\\array.jl:317 [inlined]\n",
      " [6] append!(a::Vector{Int64}, items::Vector{String})\n",
      "   @ Base .\\array.jl:1046\n",
      " [7] top-level scope\n",
      "   @ c:\\Users\\Davide\\git\\gitdf\\Teaching\\Exercises\\julia_basics.ipynb:1"
     ]
    }
   ],
   "source": [
    "append!(c, [\"ciao\"])  # add a new element to list of another type\n",
    "c"
   ]
  },
  {
   "attachments": {},
   "cell_type": "markdown",
   "metadata": {},
   "source": [
    "Tuples are similar to vectors, but they are immutable: once created, they cannot be changed.\n",
    "In fact, there is no method `\"append!\"` for tuples"
   ]
  },
  {
   "cell_type": "code",
   "execution_count": 9,
   "metadata": {},
   "outputs": [
    {
     "ename": "MethodError",
     "evalue": "MethodError: no method matching append!(::Tuple{Int64, Int64, Int64}, ::Int64)\nClosest candidates are:\n  append!(!Matched::BitVector, ::Any) at C:\\Users\\Davide\\AppData\\Local\\Programs\\Julia-1.7.3\\share\\julia\\base\\bitarray.jl:782\n  append!(!Matched::AbstractVector, ::Any) at C:\\Users\\Davide\\AppData\\Local\\Programs\\Julia-1.7.3\\share\\julia\\base\\array.jl:1050\n  append!(!Matched::AbstractVector, ::Any...) at C:\\Users\\Davide\\AppData\\Local\\Programs\\Julia-1.7.3\\share\\julia\\base\\array.jl:1053",
     "output_type": "error",
     "traceback": [
      "MethodError: no method matching append!(::Tuple{Int64, Int64, Int64}, ::Int64)\n",
      "Closest candidates are:\n",
      "  append!(!Matched::BitVector, ::Any) at C:\\Users\\Davide\\AppData\\Local\\Programs\\Julia-1.7.3\\share\\julia\\base\\bitarray.jl:782\n",
      "  append!(!Matched::AbstractVector, ::Any) at C:\\Users\\Davide\\AppData\\Local\\Programs\\Julia-1.7.3\\share\\julia\\base\\array.jl:1050\n",
      "  append!(!Matched::AbstractVector, ::Any...) at C:\\Users\\Davide\\AppData\\Local\\Programs\\Julia-1.7.3\\share\\julia\\base\\array.jl:1053\n",
      "\n",
      "Stacktrace:\n",
      " [1] top-level scope\n",
      "   @ c:\\Users\\Davide\\git\\gitdf\\Teaching\\Exercises\\julia_basics.ipynb:1"
     ]
    }
   ],
   "source": [
    "append!(d, 4)  # Tuples are immutable: impossible to add a new element!"
   ]
  },
  {
   "attachments": {},
   "cell_type": "markdown",
   "metadata": {},
   "source": [
    "A special data type is a dictionary, that contains arbitrary-indexed objects.\n",
    "Please, check out the following code and let's compare it to lists.\n",
    "\n",
    "\n",
    "Dictionaries can create univoque relationship between so-called `keys` and their `values`.\n",
    "In the following example, the int 4, the str \"c\" and the tuple (1,2) are the keys, whose values are\n",
    "the list [2,2], the tuple (1,) and the int 1.\n",
    "\n",
    "As shown `keys` and `values` can contain different object types."
   ]
  },
  {
   "cell_type": "code",
   "execution_count": 10,
   "metadata": {},
   "outputs": [
    {
     "data": {
      "text/plain": [
       "Dict{Any, Any} with 3 entries:\n",
       "  4      => [2, 2]\n",
       "  (1, 2) => 1\n",
       "  \"c\"    => (1,)"
      ]
     },
     "metadata": {},
     "output_type": "display_data"
    }
   ],
   "source": [
    "dict_obj = Dict(  # A dictionary\n",
    "    4 => [2,2],\n",
    "    \"c\" => (1,),\n",
    "    (1, 2) => 1,\n",
    ")\n",
    "dict_obj"
   ]
  },
  {
   "attachments": {},
   "cell_type": "markdown",
   "metadata": {},
   "source": [
    "First of all, standard dictionary objects ARE NOT ordered. Therefore, there is no first and no last element for standard dictionaries."
   ]
  },
  {
   "cell_type": "code",
   "execution_count": 11,
   "metadata": {},
   "outputs": [
    {
     "ename": "KeyError",
     "evalue": "KeyError: key 0 not found",
     "output_type": "error",
     "traceback": [
      "KeyError: key 0 not found\n",
      "\n",
      "Stacktrace:\n",
      " [1] getindex(h::Dict{Any, Any}, key::Int64)\n",
      "   @ Base .\\dict.jl:481\n",
      " [2] top-level scope\n",
      "   @ c:\\Users\\Davide\\git\\gitdf\\Teaching\\Exercises\\julia_basics.ipynb:1"
     ]
    }
   ],
   "source": [
    "dict_obj[0]"
   ]
  },
  {
   "attachments": {},
   "cell_type": "markdown",
   "metadata": {},
   "source": [
    "The dictionary objects are got by key; for example, in the following, we get the value corresponding to the key (1,2)"
   ]
  },
  {
   "cell_type": "code",
   "execution_count": 12,
   "metadata": {},
   "outputs": [
    {
     "data": {
      "text/plain": [
       "1"
      ]
     },
     "metadata": {},
     "output_type": "display_data"
    }
   ],
   "source": [
    "dict_obj[(1,2)]"
   ]
  },
  {
   "attachments": {},
   "cell_type": "markdown",
   "metadata": {},
   "source": [
    "## Iterative loops"
   ]
  },
  {
   "cell_type": "code",
   "execution_count": 13,
   "metadata": {},
   "outputs": [
    {
     "name": "stdout",
     "output_type": "stream",
     "text": [
      "c: [1, 2, 3, 4, 3]\n",
      "\n",
      "1: 1\n",
      "2: 2\n",
      "3: 3\n",
      "4: 4\n",
      "5: 3\n"
     ]
    }
   ],
   "source": [
    "println(\"c: \" * string(c) * \"\\n\")\n",
    "\n",
    "i = 0\n",
    "for v in c  # this loops over the content of c\n",
    "    i += 1\n",
    "    println(string(i) * \": \" * string(v))\n",
    "end"
   ]
  },
  {
   "attachments": {},
   "cell_type": "markdown",
   "metadata": {},
   "source": [
    "Note: all types above are concrete; in julia abstract types are also possible, such as the type Integer.\n",
    "In building packages abstract types are very powerful to generalize and maximize the use of the code under development.\n",
    "More at [link](https://docs.julialang.org/en/v1/manual/types/#man-abstract-types)"
   ]
  },
  {
   "attachments": {},
   "cell_type": "markdown",
   "metadata": {},
   "source": [
    "## Functions"
   ]
  },
  {
   "cell_type": "code",
   "execution_count": 14,
   "metadata": {},
   "outputs": [
    {
     "data": {
      "text/plain": [
       "3"
      ]
     },
     "metadata": {},
     "output_type": "display_data"
    }
   ],
   "source": [
    "function custom_sum(a, b)  # this is a definition of a function\n",
    "    return a+b\n",
    "end\n",
    "\n",
    "custom_sum(1, 2)"
   ]
  },
  {
   "cell_type": "code",
   "execution_count": 15,
   "metadata": {},
   "outputs": [
    {
     "data": {
      "text/plain": [
       "3"
      ]
     },
     "metadata": {},
     "output_type": "display_data"
    }
   ],
   "source": [
    "c = (a,b) -> a+b  # but also this is a function\n",
    "\n",
    "c(1,2)"
   ]
  },
  {
   "attachments": {},
   "cell_type": "markdown",
   "metadata": {},
   "source": [
    "## Custom data structures (Structs)"
   ]
  },
  {
   "cell_type": "code",
   "execution_count": 16,
   "metadata": {},
   "outputs": [
    {
     "data": {
      "text/plain": [
       "print (generic function with 1 method)"
      ]
     },
     "metadata": {},
     "output_type": "display_data"
    }
   ],
   "source": [
    "mutable struct House\n",
    "    name::String\n",
    "    n_rooms::Int  # Note: Int is the first example of Abstract type!\n",
    "    n_bedrooms::Int\n",
    "\n",
    "    function House(name, n_rooms, n_bedrooms)  # constructor\n",
    "        if n_bedrooms > n_rooms\n",
    "            throw(Exception(\"ERROR: selected more bedrooms $n_bedrooms than rooms $n_rooms\"))\n",
    "        end\n",
    "        return new(name, n_rooms, n_bedrooms)\n",
    "    end\n",
    "end\n",
    "\n",
    "function add_bedroom!(h::House)\n",
    "    h.n_rooms += 1\n",
    "    h.n_bedrooms += 1\n",
    "end\n",
    "\n",
    "function print(h::House)\n",
    "    println(\"House '$(h.name)' with $(h.n_rooms) rooms, of which $(h.n_bedrooms) bedrooms\")\n",
    "end"
   ]
  },
  {
   "attachments": {},
   "cell_type": "markdown",
   "metadata": {},
   "source": [
    "Some examples of classes definition"
   ]
  },
  {
   "cell_type": "code",
   "execution_count": 17,
   "metadata": {},
   "outputs": [
    {
     "name": "stdout",
     "output_type": "stream",
     "text": [
      "House 'casa1' with 3 rooms, of which 2 bedrooms\n",
      "House 'casa2' with 4 rooms, of which 2 bedrooms\n"
     ]
    }
   ],
   "source": [
    "h1 = House(\"casa1\", 3, 2)\n",
    "h2 = House(\"casa2\", 4, 2)\n",
    "print(h1)\n",
    "print(h2)"
   ]
  },
  {
   "cell_type": "code",
   "execution_count": 18,
   "metadata": {},
   "outputs": [
    {
     "name": "stdout",
     "output_type": "stream",
     "text": [
      "House 'casa2' with 5 rooms, of which 3 bedrooms\n"
     ]
    }
   ],
   "source": [
    "add_bedroom!(h2)\n",
    "print(h2)"
   ]
  },
  {
   "attachments": {},
   "cell_type": "markdown",
   "metadata": {},
   "source": [
    "## Importing packages"
   ]
  },
  {
   "cell_type": "code",
   "execution_count": 19,
   "metadata": {},
   "outputs": [],
   "source": [
    "using DataFrames  # use the entire package\n",
    "import DataFrames  # with import, objects from the package should be called as DataFrames.[function]"
   ]
  },
  {
   "attachments": {},
   "cell_type": "markdown",
   "metadata": {},
   "source": [
    "Examples of dataframe: they represent data tables and are very useful for data analysis"
   ]
  },
  {
   "cell_type": "code",
   "execution_count": 20,
   "metadata": {},
   "outputs": [
    {
     "data": {
      "text/html": [
       "<div class=\"data-frame\"><p>3 rows × 2 columns</p><table class=\"data-frame\"><thead><tr><th></th><th>quantity</th><th>sources</th></tr><tr><th></th><th title=\"Int64\">Int64</th><th title=\"String\">String</th></tr></thead><tbody><tr><th>1</th><td>10</td><td>coal</td></tr><tr><th>2</th><td>100</td><td>oil</td></tr><tr><th>3</th><td>1000</td><td>solar</td></tr></tbody></table></div>"
      ],
      "text/latex": [
       "\\begin{tabular}{r|cc}\n",
       "\t& quantity & sources\\\\\n",
       "\t\\hline\n",
       "\t& Int64 & String\\\\\n",
       "\t\\hline\n",
       "\t1 & 10 & coal \\\\\n",
       "\t2 & 100 & oil \\\\\n",
       "\t3 & 1000 & solar \\\\\n",
       "\\end{tabular}\n"
      ],
      "text/plain": [
       "\u001b[1m3×2 DataFrame\u001b[0m\n",
       "\u001b[1m Row \u001b[0m│\u001b[1m quantity \u001b[0m\u001b[1m sources \u001b[0m\n",
       "\u001b[1m     \u001b[0m│\u001b[90m Int64    \u001b[0m\u001b[90m String  \u001b[0m\n",
       "─────┼───────────────────\n",
       "   1 │       10  coal\n",
       "   2 │      100  oil\n",
       "   3 │     1000  solar"
      ]
     },
     "metadata": {},
     "output_type": "display_data"
    }
   ],
   "source": [
    "data = Dict(\n",
    "    \"sources\" => [\"coal\", \"oil\", \"solar\"],\n",
    "    \"quantity\" => [10, 100, 1000],\n",
    ")\n",
    "\n",
    "df = DataFrame(data)\n",
    "df"
   ]
  },
  {
   "attachments": {},
   "cell_type": "markdown",
   "metadata": {},
   "source": [
    "get the first row"
   ]
  },
  {
   "cell_type": "code",
   "execution_count": 21,
   "metadata": {},
   "outputs": [
    {
     "data": {
      "text/html": [
       "<p>DataFrameRow (2 columns)</p><div class=\"data-frame\"><table class=\"data-frame\"><thead><tr><th></th><th>quantity</th><th>sources</th></tr><tr><th></th><th title=\"Int64\">Int64</th><th title=\"String\">String</th></tr></thead><tbody><tr><th>1</th><td>10</td><td>coal</td></tr></tbody></table></div>"
      ],
      "text/latex": [
       "\\begin{tabular}{r|cc}\n",
       "\t& quantity & sources\\\\\n",
       "\t\\hline\n",
       "\t& Int64 & String\\\\\n",
       "\t\\hline\n",
       "\t1 & 10 & coal \\\\\n",
       "\\end{tabular}\n"
      ],
      "text/plain": [
       "\u001b[1mDataFrameRow\u001b[0m\n",
       "\u001b[1m Row \u001b[0m│\u001b[1m quantity \u001b[0m\u001b[1m sources \u001b[0m\n",
       "\u001b[1m     \u001b[0m│\u001b[90m Int64    \u001b[0m\u001b[90m String  \u001b[0m\n",
       "─────┼───────────────────\n",
       "   1 │       10  coal"
      ]
     },
     "metadata": {},
     "output_type": "display_data"
    }
   ],
   "source": [
    "df[1, :]"
   ]
  },
  {
   "attachments": {},
   "cell_type": "markdown",
   "metadata": {},
   "source": [
    "get the first column"
   ]
  },
  {
   "cell_type": "code",
   "execution_count": 22,
   "metadata": {},
   "outputs": [
    {
     "data": {
      "text/plain": [
       "3-element Vector{Int64}:\n",
       "   10\n",
       "  100\n",
       " 1000"
      ]
     },
     "metadata": {},
     "output_type": "display_data"
    }
   ],
   "source": [
    "df[!, 1]"
   ]
  },
  {
   "attachments": {},
   "cell_type": "markdown",
   "metadata": {},
   "source": [
    "Note: with respect to python it is not possible to set arbitrary indeces, but getting the desired index is easy"
   ]
  },
  {
   "cell_type": "code",
   "execution_count": 23,
   "metadata": {},
   "outputs": [
    {
     "data": {
      "text/html": [
       "<div class=\"data-frame\"><p>1 rows × 2 columns</p><table class=\"data-frame\"><thead><tr><th></th><th>quantity</th><th>sources</th></tr><tr><th></th><th title=\"Int64\">Int64</th><th title=\"String\">String</th></tr></thead><tbody><tr><th>1</th><td>10</td><td>coal</td></tr></tbody></table></div>"
      ],
      "text/latex": [
       "\\begin{tabular}{r|cc}\n",
       "\t& quantity & sources\\\\\n",
       "\t\\hline\n",
       "\t& Int64 & String\\\\\n",
       "\t\\hline\n",
       "\t1 & 10 & coal \\\\\n",
       "\\end{tabular}\n"
      ],
      "text/plain": [
       "\u001b[1m1×2 DataFrame\u001b[0m\n",
       "\u001b[1m Row \u001b[0m│\u001b[1m quantity \u001b[0m\u001b[1m sources \u001b[0m\n",
       "\u001b[1m     \u001b[0m│\u001b[90m Int64    \u001b[0m\u001b[90m String  \u001b[0m\n",
       "─────┼───────────────────\n",
       "   1 │       10  coal"
      ]
     },
     "metadata": {},
     "output_type": "display_data"
    }
   ],
   "source": [
    "df[df[!, \"sources\"] .== \"coal\", :]"
   ]
  },
  {
   "attachments": {},
   "cell_type": "markdown",
   "metadata": {},
   "source": [
    "An example on how to apply functions on dataframes"
   ]
  },
  {
   "cell_type": "code",
   "execution_count": 24,
   "metadata": {},
   "outputs": [
    {
     "data": {
      "text/plain": [
       "1110"
      ]
     },
     "metadata": {},
     "output_type": "display_data"
    }
   ],
   "source": [
    "sum(df[!, \"quantity\"])"
   ]
  }
 ],
 "metadata": {
  "kernelspec": {
   "display_name": "Julia 1.7.3",
   "language": "julia",
   "name": "julia-1.7"
  },
  "language_info": {
   "file_extension": ".jl",
   "mimetype": "application/julia",
   "name": "julia",
   "version": "1.7.3"
  },
  "orig_nbformat": 4,
  "vscode": {
   "interpreter": {
    "hash": "c911838deca95b70c357598f2c33026ecf69b7da04a9af606fe9d881309e8203"
   }
  }
 },
 "nbformat": 4,
 "nbformat_minor": 2
}
