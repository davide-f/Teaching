{
 "cells": [
  {
   "attachments": {},
   "cell_type": "markdown",
   "metadata": {},
   "source": [
    "# Getting started with Julia! The basics\n",
    "\n",
    "This notebook is aimed at giving the basics in Python programming for simple general basic usage, needed for energy modelling tasks.\n",
    "\n",
    "For more material, please checkout the [Tutorials](https://github.com/JuliaAcademy/JuliaTutorials/) and [Learning material](https://julialang.org/learning/)\n",
    "\n",
    "Note: this is a markdown cell"
   ]
  },
  {
   "cell_type": "markdown",
   "metadata": {},
   "source": [
    "## What is this notebook (.ipynb) file?\n",
    "\n",
    "This is a Jupyter notebook file. It is a file that contains text and code.\n",
    "\n",
    "The text is contained in so-called `Markdown cells` and is written in a language called Markdown, and the code is contained in so-called `Code cells` written in Julia (in this case).\n",
    "\n",
    "The code can be executed in the notebook, and the output is shown below the code. This is a great way to learn and experiment with code.\n",
    "\n",
    "To execute a cell, select it and press `Shift + Enter`, press the `Run` button in the toolbar above or press the `Play` button net to the cell."
   ]
  },
  {
   "cell_type": "markdown",
   "metadata": {},
   "source": [
    "## How to use this notebook\n",
    "\n",
    "Please, make sure to:\n",
    "1. have julia installed first (see [here](https://julialang.org/downloads/) for instructions)\n",
    "2. install VScode, recommended, (see [here](https://code.visualstudio.com/download) for instructions) or equivalent editor\n",
    "3. install the julia extension for VScode (see [here](https://www.julia-vscode.org/docs/stable/gettingstarted/) for instructions)\n",
    "4. open this notebook in VScode\n",
    "5. [optional] activate the environment found in the `Project.toml` file of the current folder (see [here](https://www.julia-vscode.org/docs/dev/userguide/env/) for instructions). Note that this is not necessary as it is done automatically later on at section 5."
   ]
  },
  {
   "attachments": {},
   "cell_type": "markdown",
   "metadata": {},
   "source": [
    "## 1. Introduction to variables\n",
    "\n",
    "With respect to basic python, native Julia supports low-level data types that resemble the C capabilities.\n",
    "After the basic introduction, some highlights are given."
   ]
  },
  {
   "attachments": {},
   "cell_type": "markdown",
   "metadata": {},
   "source": [
    "In the following, the variable `a` is created with value 1 (type `Int64` in Julia)"
   ]
  },
  {
   "cell_type": "code",
   "execution_count": 1,
   "metadata": {},
   "outputs": [
    {
     "data": {
      "text/plain": [
       "1"
      ]
     },
     "metadata": {},
     "output_type": "display_data"
    }
   ],
   "source": [
    "a = 1  # variable definition\n",
    "a  # see the value (1)"
   ]
  },
  {
   "attachments": {},
   "cell_type": "markdown",
   "metadata": {},
   "source": [
    "Check the type of the variable `a`"
   ]
  },
  {
   "cell_type": "code",
   "execution_count": 2,
   "metadata": {},
   "outputs": [
    {
     "data": {
      "text/plain": [
       "Int64"
      ]
     },
     "metadata": {},
     "output_type": "display_data"
    }
   ],
   "source": [
    "typeof(a)"
   ]
  },
  {
   "attachments": {},
   "cell_type": "markdown",
   "metadata": {},
   "source": [
    "Other basic data structures in python are for examples strings, lists, tuples and dictionaries as here described."
   ]
  },
  {
   "cell_type": "code",
   "execution_count": 3,
   "metadata": {},
   "outputs": [
    {
     "data": {
      "text/plain": [
       "(1, 2, 3)"
      ]
     },
     "metadata": {},
     "output_type": "display_data"
    }
   ],
   "source": [
    "b = \"ciao\"  # string type\n",
    "c = [1, 2, 3]  # a vector\n",
    "d = (1, 2, 3)  # a tuple. Note it is immutable!"
   ]
  },
  {
   "attachments": {},
   "cell_type": "markdown",
   "metadata": {},
   "source": [
    "We see the content of the vector `c` as example"
   ]
  },
  {
   "cell_type": "code",
   "execution_count": 4,
   "metadata": {},
   "outputs": [
    {
     "data": {
      "text/plain": [
       "3-element Vector{Int64}:\n",
       " 1\n",
       " 2\n",
       " 3"
      ]
     },
     "metadata": {},
     "output_type": "display_data"
    }
   ],
   "source": [
    "c"
   ]
  },
  {
   "attachments": {},
   "cell_type": "markdown",
   "metadata": {},
   "source": [
    "Strings, vectors and tuples are example of iterable elements: they contain ordered contents that can be get by index.\n",
    "To get the first element, we can do as follows:"
   ]
  },
  {
   "cell_type": "code",
   "execution_count": 5,
   "metadata": {},
   "outputs": [
    {
     "ename": "BoundsError",
     "evalue": "BoundsError: attempt to access 3-element Vector{Int64} at index [0]",
     "output_type": "error",
     "traceback": [
      "BoundsError: attempt to access 3-element Vector{Int64} at index [0]\n",
      "\n",
      "Stacktrace:\n",
      " [1] getindex(A::Vector{Int64}, i1::Int64)\n",
      "   @ Base .\\array.jl:924\n",
      " [2] top-level scope\n",
      "   @ c:\\Users\\Davide\\git\\gitdf\\Teaching\\Exercises\\julia\\julia_basics.ipynb:1"
     ]
    }
   ],
   "source": [
    "c[0]  # first element of the list"
   ]
  },
  {
   "attachments": {},
   "cell_type": "markdown",
   "metadata": {},
   "source": [
    "To get the last element, for example:"
   ]
  },
  {
   "cell_type": "code",
   "execution_count": 6,
   "metadata": {},
   "outputs": [
    {
     "ename": "BoundsError",
     "evalue": "BoundsError: attempt to access 3-element Vector{Int64} at index [-1]",
     "output_type": "error",
     "traceback": [
      "BoundsError: attempt to access 3-element Vector{Int64} at index [-1]\n",
      "\n",
      "Stacktrace:\n",
      " [1] getindex(A::Vector{Int64}, i1::Int64)\n",
      "   @ Base .\\array.jl:924\n",
      " [2] top-level scope\n",
      "   @ c:\\Users\\Davide\\git\\gitdf\\Teaching\\Exercises\\julia\\julia_basics.ipynb:1"
     ]
    }
   ],
   "source": [
    "c[-1]"
   ]
  },
  {
   "attachments": {},
   "cell_type": "markdown",
   "metadata": {},
   "source": [
    "Lists can be modified after creation, such as, it is possible to add a new element.\n",
    "The cell below describes an example and the results is shown.\n",
    "\n",
    "Note: `append!` is the first exemption of function and as you can see, function names can contain also non-ordinary symbols (with some exeptions, see the documentation).\n",
    "By convention, in Julia the symbol `!` is added at the end of functions that change the content of the object passed to them"
   ]
  },
  {
   "cell_type": "code",
   "execution_count": 7,
   "metadata": {},
   "outputs": [
    {
     "data": {
      "text/plain": [
       "4-element Vector{Int64}:\n",
       " 1\n",
       " 2\n",
       " 3\n",
       " 4"
      ]
     },
     "metadata": {},
     "output_type": "display_data"
    }
   ],
   "source": [
    "append!(c, 4)  # add a new element to the vector\n",
    "c"
   ]
  },
  {
   "attachments": {},
   "cell_type": "markdown",
   "metadata": {},
   "source": [
    "Note that the vector c is of type Int64, therefore, it is not possible to append data of different types"
   ]
  },
  {
   "cell_type": "code",
   "execution_count": 8,
   "metadata": {},
   "outputs": [
    {
     "ename": "MethodError",
     "evalue": "MethodError: Cannot `convert` an object of type String to an object of type Int64\nClosest candidates are:\n  convert(::Type{T}, !Matched::T) where T<:Number at number.jl:6\n  convert(::Type{T}, !Matched::Number) where T<:Number at number.jl:7\n  convert(::Type{T}, !Matched::Base.TwicePrecision) where T<:Number at twiceprecision.jl:273\n  ...",
     "output_type": "error",
     "traceback": [
      "MethodError: Cannot `convert` an object of type String to an object of type Int64\n",
      "Closest candidates are:\n",
      "  convert(::Type{T}, !Matched::T) where T<:Number at number.jl:6\n",
      "  convert(::Type{T}, !Matched::Number) where T<:Number at number.jl:7\n",
      "  convert(::Type{T}, !Matched::Base.TwicePrecision) where T<:Number at twiceprecision.jl:273\n",
      "  ...\n",
      "\n",
      "Stacktrace:\n",
      " [1] setindex!(A::Vector{Int64}, x::String, i1::Int64)\n",
      "   @ Base .\\array.jl:966\n",
      " [2] _unsafe_copyto!(dest::Vector{Int64}, doffs::Int64, src::Vector{String}, soffs::Int64, n::Int64)\n",
      "   @ Base .\\array.jl:253\n",
      " [3] unsafe_copyto!\n",
      "   @ .\\array.jl:307 [inlined]\n",
      " [4] _copyto_impl!\n",
      "   @ .\\array.jl:331 [inlined]\n",
      " [5] copyto!\n",
      "   @ .\\array.jl:317 [inlined]\n",
      " [6] append!(a::Vector{Int64}, items::Vector{String})\n",
      "   @ Base .\\array.jl:1109\n",
      " [7] top-level scope\n",
      "   @ c:\\Users\\Davide\\git\\gitdf\\Teaching\\Exercises\\julia\\julia_basics.ipynb:1"
     ]
    }
   ],
   "source": [
    "append!(c, [\"ciao\"])  # add a new element to list of another type\n",
    "c"
   ]
  },
  {
   "attachments": {},
   "cell_type": "markdown",
   "metadata": {},
   "source": [
    "Tuples are similar to vectors, but they are immutable: once created, they cannot be changed.\n",
    "In fact, there is no method `\"append!\"` for tuples"
   ]
  },
  {
   "cell_type": "code",
   "execution_count": 9,
   "metadata": {},
   "outputs": [
    {
     "ename": "MethodError",
     "evalue": "MethodError: no method matching append!(::Tuple{Int64, Int64, Int64}, ::Int64)\nClosest candidates are:\n  append!(!Matched::BitVector, ::Any) at bitarray.jl:786\n  append!(!Matched::AbstractVector, ::Any) at array.jl:1113\n  append!(!Matched::AbstractVector, ::Any...) at array.jl:1116",
     "output_type": "error",
     "traceback": [
      "MethodError: no method matching append!(::Tuple{Int64, Int64, Int64}, ::Int64)\n",
      "Closest candidates are:\n",
      "  append!(!Matched::BitVector, ::Any) at bitarray.jl:786\n",
      "  append!(!Matched::AbstractVector, ::Any) at array.jl:1113\n",
      "  append!(!Matched::AbstractVector, ::Any...) at array.jl:1116\n",
      "\n",
      "Stacktrace:\n",
      " [1] top-level scope\n",
      "   @ c:\\Users\\Davide\\git\\gitdf\\Teaching\\Exercises\\julia\\julia_basics.ipynb:1"
     ]
    }
   ],
   "source": [
    "append!(d, 4)  # Tuples are immutable: impossible to add a new element!"
   ]
  },
  {
   "attachments": {},
   "cell_type": "markdown",
   "metadata": {},
   "source": [
    "A special data type is a dictionary, that contains arbitrary-indexed objects.\n",
    "Please, check out the following code and let's compare it to lists.\n",
    "\n",
    "\n",
    "Dictionaries can create univoque relationship between so-called `keys` and their `values`.\n",
    "In the following example, the int 4, the str \"c\" and the tuple (1,2) are the keys, whose values are\n",
    "the list [2,2], the tuple (1,) and the int 1.\n",
    "\n",
    "As shown `keys` and `values` can contain different object types."
   ]
  },
  {
   "cell_type": "code",
   "execution_count": 10,
   "metadata": {},
   "outputs": [
    {
     "data": {
      "text/plain": [
       "Dict{Any, Any} with 3 entries:\n",
       "  4      => [2, 2]\n",
       "  (1, 2) => 1\n",
       "  \"c\"    => (1,)"
      ]
     },
     "metadata": {},
     "output_type": "display_data"
    }
   ],
   "source": [
    "dict_obj = Dict(  # A dictionary\n",
    "    4 => [2,2],\n",
    "    \"c\" => (1,),\n",
    "    (1, 2) => 1,\n",
    ")\n",
    "dict_obj"
   ]
  },
  {
   "attachments": {},
   "cell_type": "markdown",
   "metadata": {},
   "source": [
    "First of all, standard dictionary objects ARE NOT ordered. Therefore, there is no first and no last element for standard dictionaries."
   ]
  },
  {
   "cell_type": "code",
   "execution_count": 11,
   "metadata": {},
   "outputs": [
    {
     "ename": "KeyError",
     "evalue": "KeyError: key 0 not found",
     "output_type": "error",
     "traceback": [
      "KeyError: key 0 not found\n",
      "\n",
      "Stacktrace:\n",
      " [1] getindex(h::Dict{Any, Any}, key::Int64)\n",
      "   @ Base .\\dict.jl:498\n",
      " [2] top-level scope\n",
      "   @ c:\\Users\\Davide\\git\\gitdf\\Teaching\\Exercises\\julia\\julia_basics.ipynb:1"
     ]
    }
   ],
   "source": [
    "dict_obj[0]"
   ]
  },
  {
   "attachments": {},
   "cell_type": "markdown",
   "metadata": {},
   "source": [
    "The dictionary objects are got by key; for example, in the following, we get the value corresponding to the key (1,2)"
   ]
  },
  {
   "cell_type": "code",
   "execution_count": 12,
   "metadata": {},
   "outputs": [
    {
     "data": {
      "text/plain": [
       "1"
      ]
     },
     "metadata": {},
     "output_type": "display_data"
    }
   ],
   "source": [
    "dict_obj[(1,2)]"
   ]
  },
  {
   "cell_type": "markdown",
   "metadata": {},
   "source": [
    "Note: all types above are concrete; in julia abstract types are also possible, such as the type Integer.\n",
    "In building packages abstract types are very powerful to generalize and maximize the use of the code under development.\n",
    "More at [link](https://docs.julialang.org/en/v1/manual/types/#man-abstract-types)"
   ]
  },
  {
   "attachments": {},
   "cell_type": "markdown",
   "metadata": {},
   "source": [
    "## 2. Control-flow structures"
   ]
  },
  {
   "cell_type": "markdown",
   "metadata": {},
   "source": [
    "### 2.1 if-then\\[-elif\\]\\[-else\\]\n",
    "\n",
    "The `if-then` structure, with optional `elif` and `else` keys enable to control the flow of execution, depending on conditions.\n",
    "\n",
    "The syntax is:\n",
    "``` julia\n",
    "if {condition A}\n",
    "    {code for condition A}\n",
    "elseif {condition B}\n",
    "    {code for condition B}\n",
    "else\n",
    "    {code for else}\n",
    "end\n",
    "```\n",
    "\n",
    "Note that an arbitrary number of `elseif` can be added and only the first case of the `if` or `elseif` cases is executed.\n",
    "If not condition is met, the `else` statement is executed.\n",
    "\n",
    "Both `elseif` and `else` statements are optional"
   ]
  },
  {
   "cell_type": "code",
   "execution_count": 13,
   "metadata": {},
   "outputs": [
    {
     "name": "stdout",
     "output_type": "stream",
     "text": [
      "n is strictly positive\n"
     ]
    }
   ],
   "source": [
    "n = 1\n",
    "\n",
    "if n > 3\n",
    "    println(\"n greater than 3\")\n",
    "elseif n > 0\n",
    "    println(\"n is strictly positive\")\n",
    "elseif n > -2\n",
    "    println(\"n is greater than -2\")\n",
    "else\n",
    "    println(\"n does not meet the previous cases\")\n",
    "end"
   ]
  },
  {
   "cell_type": "markdown",
   "metadata": {},
   "source": [
    "### 2.2 For-loop\n",
    "\n",
    "The for-loop control structure iterates the execution of the body of the code for each object of a give iterator.\n",
    "The syntax is:\n",
    "\n",
    "``` julia\n",
    "for {obj} in {iterator}\n",
    "    {body of code}\n",
    "end\n",
    "```\n"
   ]
  },
  {
   "cell_type": "code",
   "execution_count": 14,
   "metadata": {},
   "outputs": [
    {
     "name": "stdout",
     "output_type": "stream",
     "text": [
      "Initial iterator: [1, 3, 2, 5]\n",
      "Result of the loop: Any[2, 4, 3, 6]\n"
     ]
    }
   ],
   "source": [
    "iterator_test = [1, 3, 2, 5]\n",
    "\n",
    "print(\"Initial iterator: $iterator_test\\n\")\n",
    "\n",
    "result_for = []\n",
    "for v in iterator_test  # this loops over the content of iterator_test\n",
    "    append!(result_for, v + 1)\n",
    "end\n",
    "\n",
    "println(\"Result of the loop: $result_for\")"
   ]
  },
  {
   "cell_type": "markdown",
   "metadata": {},
   "source": [
    "### 2.4 List comprehension\n",
    "\n",
    "List comprehension is a special way to create lists, by iterating over an iterator.\n",
    "\n",
    "The code in 2.3 can be efficiently rewritten as follows."
   ]
  },
  {
   "cell_type": "code",
   "execution_count": 15,
   "metadata": {},
   "outputs": [
    {
     "name": "stdout",
     "output_type": "stream",
     "text": [
      "Result list comprehension: [2, 4, 3, 6]"
     ]
    }
   ],
   "source": [
    "result_list_comp = [v + 1 for v in iterator_test]\n",
    "\n",
    "print(\"Result list comprehension: $result_list_comp\")"
   ]
  },
  {
   "cell_type": "markdown",
   "metadata": {},
   "source": [
    "### 2.3 While\n",
    "\n",
    "The while control structure iterates the body till condition is false. The syntax is:\n",
    "\n",
    "```julia\n",
    "while {condition}\n",
    "    {body of code}\n",
    "end\n",
    "```"
   ]
  },
  {
   "cell_type": "code",
   "execution_count": 16,
   "metadata": {},
   "outputs": [
    {
     "data": {
      "text/plain": [
       "-1"
      ]
     },
     "metadata": {},
     "output_type": "display_data"
    }
   ],
   "source": [
    "j = 3  # initialization of a variable\n",
    "\n",
    "while j > -1  # the condition is whether j is greater than -1\n",
    "    j -= 1\n",
    "end\n",
    "\n",
    "# the condition becomes false when j equals -1\n",
    "j"
   ]
  },
  {
   "attachments": {},
   "cell_type": "markdown",
   "metadata": {},
   "source": [
    "## 3. Functions"
   ]
  },
  {
   "cell_type": "code",
   "execution_count": 17,
   "metadata": {},
   "outputs": [
    {
     "data": {
      "text/plain": [
       "3"
      ]
     },
     "metadata": {},
     "output_type": "display_data"
    }
   ],
   "source": [
    "\"\"\"\n",
    "This is a docstring to document the function\n",
    "\"\"\"\n",
    "function custom_sum(a, b)  # this is a definition of a function\n",
    "    return a+b\n",
    "end\n",
    "\n",
    "custom_sum(1, 2)"
   ]
  },
  {
   "cell_type": "code",
   "execution_count": 18,
   "metadata": {},
   "outputs": [
    {
     "data": {
      "text/plain": [
       "3"
      ]
     },
     "metadata": {},
     "output_type": "display_data"
    }
   ],
   "source": [
    "c = (a,b) -> a+b  # but also this is a function\n",
    "\n",
    "c(1,2)"
   ]
  },
  {
   "attachments": {},
   "cell_type": "markdown",
   "metadata": {},
   "source": [
    "## 4. Custom data structures (Structs)"
   ]
  },
  {
   "cell_type": "code",
   "execution_count": 19,
   "metadata": {},
   "outputs": [],
   "source": [
    "mutable struct House\n",
    "    name::String\n",
    "    n_rooms::Int  # Note: Int is the first example of Abstract type!\n",
    "    n_bedrooms::Int\n",
    "\n",
    "    function House(name, n_rooms, n_bedrooms)  # constructor\n",
    "        if n_bedrooms > n_rooms\n",
    "            throw(Exception(\"ERROR: selected more bedrooms $n_bedrooms than rooms $n_rooms\"))\n",
    "        end\n",
    "        return new(name, n_rooms, n_bedrooms)\n",
    "    end\n",
    "end\n",
    "\n",
    "function add_bedroom!(h::House)\n",
    "    h.n_rooms += 1\n",
    "    h.n_bedrooms += 1\n",
    "end\n",
    "\n",
    "function Base.print(h::House)\n",
    "    println(\"House '$(h.name)' with $(h.n_rooms) rooms, of which $(h.n_bedrooms) bedrooms\")\n",
    "end"
   ]
  },
  {
   "attachments": {},
   "cell_type": "markdown",
   "metadata": {},
   "source": [
    "Some examples of classes definition"
   ]
  },
  {
   "cell_type": "code",
   "execution_count": 20,
   "metadata": {},
   "outputs": [
    {
     "name": "stdout",
     "output_type": "stream",
     "text": [
      "House 'casa1' with 3 rooms, of which 2 bedrooms\n",
      "House 'casa2' with 4 rooms, of which 2 bedrooms\n"
     ]
    }
   ],
   "source": [
    "h1 = House(\"casa1\", 3, 2)\n",
    "h2 = House(\"casa2\", 4, 2)\n",
    "print(h1)\n",
    "print(h2)"
   ]
  },
  {
   "cell_type": "code",
   "execution_count": 21,
   "metadata": {},
   "outputs": [
    {
     "name": "stdout",
     "output_type": "stream",
     "text": [
      "House 'casa2' with 5 rooms, of which 3 bedrooms\n"
     ]
    }
   ],
   "source": [
    "add_bedroom!(h2)\n",
    "print(h2)"
   ]
  },
  {
   "attachments": {},
   "cell_type": "markdown",
   "metadata": {},
   "source": [
    "## 5. Importing packages"
   ]
  },
  {
   "cell_type": "markdown",
   "metadata": {},
   "source": [
    "Note: this notebook is created to be used with the environment defined in the `Project.toml` file of the current folder.\n",
    "\n",
    "To ease the use of the user, the environment is automatically activated and initialized with the following code."
   ]
  },
  {
   "cell_type": "code",
   "execution_count": 22,
   "metadata": {},
   "outputs": [
    {
     "name": "stderr",
     "output_type": "stream",
     "text": [
      "\u001b[32m\u001b[1m  Activating\u001b[22m\u001b[39m project at `c:\\Users\\Davide\\git\\gitdf\\Teaching\\Exercises\\julia`"
     ]
    },
    {
     "name": "stderr",
     "output_type": "stream",
     "text": [
      "\n"
     ]
    },
    {
     "name": "stderr",
     "output_type": "stream",
     "text": [
      "\u001b[32m\u001b[1m    Updating\u001b[22m\u001b[39m registry at `C:\\Users\\Davide\\.julia\\registries\\General.toml`\n"
     ]
    },
    {
     "name": "stderr",
     "output_type": "stream",
     "text": [
      "\u001b[32m\u001b[1m    Updating\u001b[22m\u001b[39m `C:\\Users\\Davide\\git\\gitdf\\Teaching\\Exercises\\julia\\Project.toml`\n",
      " \u001b[90m [a93c6f00] \u001b[39m\u001b[92m+ DataFrames v1.6.1\u001b[39m\n",
      " \u001b[90m [91a5bcdd] \u001b[39m\u001b[92m+ Plots v1.39.0\u001b[39m\n",
      "\u001b[32m\u001b[1m    Updating\u001b[22m\u001b[39m `C:\\Users\\Davide\\git\\gitdf\\Teaching\\Exercises\\julia\\Manifest.toml`\n",
      " \u001b[90m [d1d4a3ce] \u001b[39m\u001b[92m+ BitFlags v0.1.8\u001b[39m\n",
      " \u001b[90m [d360d2e6] \u001b[39m\u001b[92m+ ChainRulesCore v1.18.0\u001b[39m\n",
      " \u001b[90m [9e997f8a] \u001b[39m\u001b[92m+ ChangesOfVariables v0.1.8\u001b[39m\n",
      " \u001b[90m [944b1d66] \u001b[39m\u001b[92m+ CodecZlib v0.7.3\u001b[39m\n",
      " \u001b[90m [35d6a980] \u001b[39m\u001b[92m+ ColorSchemes v3.24.0\u001b[39m\n",
      " \u001b[90m [3da002f7] \u001b[39m\u001b[92m+ ColorTypes v0.11.4\u001b[39m\n",
      " \u001b[90m [c3611d14] \u001b[39m\u001b[92m+ ColorVectorSpace v0.10.0\u001b[39m\n",
      " \u001b[90m [5ae59095] \u001b[39m\u001b[92m+ Colors v0.12.10\u001b[39m\n",
      " \u001b[90m [34da2185] \u001b[39m\u001b[92m+ Compat v4.10.1\u001b[39m\n",
      " \u001b[90m [f0e56b4a] \u001b[39m\u001b[92m+ ConcurrentUtilities v2.3.0\u001b[39m\n",
      " \u001b[90m [187b0558] \u001b[39m\u001b[92m+ ConstructionBase v1.5.4\u001b[39m\n",
      " \u001b[90m [d38c429a] \u001b[39m\u001b[92m+ Contour v0.6.2\u001b[39m\n",
      " \u001b[90m [a8cc5b0e] \u001b[39m\u001b[92m+ Crayons v4.1.1\u001b[39m\n",
      " \u001b[90m [9a962f9c] \u001b[39m\u001b[92m+ DataAPI v1.15.0\u001b[39m\n",
      " \u001b[90m [a93c6f00] \u001b[39m\u001b[92m+ DataFrames v1.6.1\u001b[39m\n",
      " \u001b[90m [864edb3b] \u001b[39m\u001b[92m+ DataStructures v0.18.15\u001b[39m\n",
      " \u001b[90m [e2d170a0] \u001b[39m\u001b[92m+ DataValueInterfaces v1.0.0\u001b[39m\n",
      " \u001b[90m [ffbed154] \u001b[39m\u001b[92m+ DocStringExtensions v0.9.3\u001b[39m\n",
      " \u001b[90m [460bff9d] \u001b[39m\u001b[92m+ ExceptionUnwrapping v0.1.9\u001b[39m\n",
      " \u001b[90m [c87230d0] \u001b[39m\u001b[92m+ FFMPEG v0.4.1\u001b[39m\n",
      " \u001b[90m [53c48c17] \u001b[39m\u001b[92m+ FixedPointNumbers v0.8.4\u001b[39m\n",
      " \u001b[90m [59287772] \u001b[39m\u001b[92m+ Formatting v0.4.2\u001b[39m\n",
      " \u001b[90m [28b8d3ca] \u001b[39m\u001b[92m+ GR v0.72.10\u001b[39m\n",
      " \u001b[90m [42e2da0e] \u001b[39m\u001b[92m+ Grisu v1.0.2\u001b[39m\n",
      " \u001b[90m [cd3eb016] \u001b[39m\u001b[92m+ HTTP v1.10.1\u001b[39m\n",
      " \u001b[90m [842dd82b] \u001b[39m\u001b[92m+ InlineStrings v1.4.0\u001b[39m\n",
      " \u001b[90m [3587e190] \u001b[39m\u001b[92m+ InverseFunctions v0.1.12\u001b[39m\n",
      " \u001b[90m [41ab1584] \u001b[39m\u001b[92m+ InvertedIndices v1.3.0\u001b[39m\n",
      " \u001b[90m [92d709cd] \u001b[39m\u001b[92m+ IrrationalConstants v0.2.2\u001b[39m\n",
      " \u001b[90m [82899510] \u001b[39m\u001b[92m+ IteratorInterfaceExtensions v1.0.0\u001b[39m\n",
      " \u001b[90m [1019f520] \u001b[39m\u001b[92m+ JLFzf v0.1.7\u001b[39m\n",
      " \u001b[90m [692b3bcd] \u001b[39m\u001b[92m+ JLLWrappers v1.5.0\u001b[39m\n",
      " \u001b[90m [682c06a0] \u001b[39m\u001b[92m+ JSON v0.21.4\u001b[39m\n",
      " \u001b[90m [b964fa9f] \u001b[39m\u001b[92m+ LaTeXStrings v1.3.1\u001b[39m\n",
      " \u001b[90m [23fbe1c1] \u001b[39m\u001b[92m+ Latexify v0.16.1\u001b[39m\n",
      " \u001b[90m [2ab3a3ac] \u001b[39m\u001b[92m+ LogExpFunctions v0.3.26\u001b[39m\n",
      " \u001b[90m [e6f89c97] \u001b[39m\u001b[92m+ LoggingExtras v1.0.3\u001b[39m\n",
      " \u001b[90m [1914dd2f] \u001b[39m\u001b[92m+ MacroTools v0.5.11\u001b[39m\n",
      " \u001b[90m [739be429] \u001b[39m\u001b[92m+ MbedTLS v1.1.9\u001b[39m\n",
      " \u001b[90m [442fdcdd] \u001b[39m\u001b[92m+ Measures v0.3.2\u001b[39m\n",
      " \u001b[90m [e1d29d7a] \u001b[39m\u001b[92m+ Missings v1.1.0\u001b[39m\n",
      " \u001b[90m [77ba4419] \u001b[39m\u001b[92m+ NaNMath v1.0.2\u001b[39m\n",
      " \u001b[90m [4d8831e6] \u001b[39m\u001b[92m+ OpenSSL v1.4.1\u001b[39m\n",
      " \u001b[90m [bac558e1] \u001b[39m\u001b[92m+ OrderedCollections v1.6.3\u001b[39m\n",
      " \u001b[90m [69de0a69] \u001b[39m\u001b[92m+ Parsers v2.8.0\u001b[39m\n",
      " \u001b[90m [b98c9c47] \u001b[39m\u001b[92m+ Pipe v1.3.0\u001b[39m\n",
      " \u001b[90m [ccf2f8ad] \u001b[39m\u001b[92m+ PlotThemes v3.1.0\u001b[39m\n",
      " \u001b[90m [995b91a9] \u001b[39m\u001b[92m+ PlotUtils v1.3.5\u001b[39m\n",
      " \u001b[90m [91a5bcdd] \u001b[39m\u001b[92m+ Plots v1.39.0\u001b[39m\n",
      " \u001b[90m [2dfb63ee] \u001b[39m\u001b[92m+ PooledArrays v1.4.3\u001b[39m\n",
      " \u001b[90m [aea7be01] \u001b[39m\u001b[92m+ PrecompileTools v1.2.0\u001b[39m\n",
      " \u001b[90m [21216c6a] \u001b[39m\u001b[92m+ Preferences v1.4.1\u001b[39m\n",
      " \u001b[90m [08abe8d2] \u001b[39m\u001b[92m+ PrettyTables v2.3.1\u001b[39m\n",
      " \u001b[90m [3cdcf5f2] \u001b[39m\u001b[92m+ RecipesBase v1.3.4\u001b[39m\n",
      " \u001b[90m [01d81517] \u001b[39m\u001b[92m+ RecipesPipeline v0.6.12\u001b[39m\n",
      " \u001b[90m [189a3867] \u001b[39m\u001b[92m+ Reexport v1.2.2\u001b[39m\n",
      " \u001b[90m [05181044] \u001b[39m\u001b[92m+ RelocatableFolders v1.0.1\u001b[39m\n",
      " \u001b[90m [ae029012] \u001b[39m\u001b[92m+ Requires v1.3.0\u001b[39m\n",
      " \u001b[90m [6c6a2e73] \u001b[39m\u001b[92m+ Scratch v1.2.1\u001b[39m\n",
      " \u001b[90m [91c51154] \u001b[39m\u001b[92m+ SentinelArrays v1.4.1\u001b[39m\n",
      " \u001b[90m [992d4aef] \u001b[39m\u001b[92m+ Showoff v1.0.3\u001b[39m\n",
      " \u001b[90m [777ac1f9] \u001b[39m\u001b[92m+ SimpleBufferStream v1.1.0\u001b[39m\n",
      " \u001b[90m [a2af1166] \u001b[39m\u001b[92m+ SortingAlgorithms v1.2.0\u001b[39m\n",
      " \u001b[90m [82ae8749] \u001b[39m\u001b[92m+ StatsAPI v1.7.0\u001b[39m\n",
      " \u001b[90m [2913bbd2] \u001b[39m\u001b[92m+ StatsBase v0.34.2\u001b[39m\n",
      " \u001b[90m [892a3eda] \u001b[39m\u001b[92m+ StringManipulation v0.3.4\u001b[39m\n",
      " \u001b[90m [3783bdb8] \u001b[39m\u001b[92m+ TableTraits v1.0.1\u001b[39m\n",
      " \u001b[90m [bd369af6] \u001b[39m\u001b[92m+ Tables v1.11.1\u001b[39m\n",
      " \u001b[90m [62fd8b95] \u001b[39m\u001b[92m+ TensorCore v0.1.1\u001b[39m\n",
      " \u001b[90m [3bb67fe8] \u001b[39m\u001b[92m+ TranscodingStreams v0.10.2\u001b[39m\n",
      " \u001b[90m [5c2747f8] \u001b[39m\u001b[92m+ URIs v1.5.1\u001b[39m\n",
      " \u001b[90m [1cfade01] \u001b[39m\u001b[92m+ UnicodeFun v0.4.1\u001b[39m\n",
      " \u001b[90m [1986cc42] \u001b[39m\u001b[92m+ Unitful v1.19.0\u001b[39m\n",
      " \u001b[90m [45397f5d] \u001b[39m\u001b[92m+ UnitfulLatexify v1.6.3\u001b[39m\n",
      " \u001b[90m [41fe7b60] \u001b[39m\u001b[92m+ Unzip v0.2.0\u001b[39m\n",
      " \u001b[90m [6e34b625] \u001b[39m\u001b[92m+ Bzip2_jll v1.0.8+0\u001b[39m\n",
      " \u001b[90m [83423d85] \u001b[39m\u001b[92m+ Cairo_jll v1.16.1+1\u001b[39m\n",
      " \u001b[90m [2702e6a9] \u001b[39m\u001b[92m+ EpollShim_jll v0.0.20230411+0\u001b[39m\n",
      " \u001b[90m [2e619515] \u001b[39m\u001b[92m+ Expat_jll v2.5.0+0\u001b[39m\n",
      " \u001b[90m [b22a6f82] \u001b[39m\u001b[92m+ FFMPEG_jll v4.4.4+1\u001b[39m\n",
      " \u001b[90m [a3f928ae] \u001b[39m\u001b[92m+ Fontconfig_jll v2.13.93+0\u001b[39m\n",
      " \u001b[90m [d7e528f0] \u001b[39m\u001b[92m+ FreeType2_jll v2.13.1+0\u001b[39m\n",
      " \u001b[90m [559328eb] \u001b[39m\u001b[92m+ FriBidi_jll v1.0.10+0\u001b[39m\n",
      " \u001b[90m [0656b61e] \u001b[39m\u001b[92m+ GLFW_jll v3.3.8+0\u001b[39m\n",
      " \u001b[90m [d2c73de3] \u001b[39m\u001b[92m+ GR_jll v0.72.10+0\u001b[39m\n",
      " \u001b[90m [78b55507] \u001b[39m\u001b[92m+ Gettext_jll v0.21.0+0\u001b[39m\n",
      " \u001b[90m [7746bdde] \u001b[39m\u001b[92m+ Glib_jll v2.76.5+0\u001b[39m\n",
      " \u001b[90m [3b182d85] \u001b[39m\u001b[92m+ Graphite2_jll v1.3.14+0\u001b[39m\n",
      " \u001b[90m [2e76f6c2] \u001b[39m\u001b[92m+ HarfBuzz_jll v2.8.1+1\u001b[39m\n",
      " \u001b[90m [aacddb02] \u001b[39m\u001b[92m+ JpegTurbo_jll v2.1.91+0\u001b[39m\n",
      " \u001b[90m [c1c5ebd0] \u001b[39m\u001b[92m+ LAME_jll v3.100.1+0\u001b[39m\n",
      " \u001b[90m [88015f11] \u001b[39m\u001b[92m+ LERC_jll v3.0.0+1\u001b[39m\n",
      " \u001b[90m [1d63c593] \u001b[39m\u001b[92m+ LLVMOpenMP_jll v15.0.4+0\u001b[39m\n",
      " \u001b[90m [dd4b983a] \u001b[39m\u001b[92m+ LZO_jll v2.10.1+0\u001b[39m\n",
      "\u001b[33m⌅\u001b[39m\u001b[90m [e9f186c6] \u001b[39m\u001b[92m+ Libffi_jll v3.2.2+1\u001b[39m\n",
      " \u001b[90m [d4300ac3] \u001b[39m\u001b[92m+ Libgcrypt_jll v1.8.7+0\u001b[39m\n",
      " \u001b[90m [7e76a0d4] \u001b[39m\u001b[92m+ Libglvnd_jll v1.6.0+0\u001b[39m\n",
      " \u001b[90m [7add5ba3] \u001b[39m\u001b[92m+ Libgpg_error_jll v1.42.0+0\u001b[39m\n",
      " \u001b[90m [94ce4f54] \u001b[39m\u001b[92m+ Libiconv_jll v1.17.0+0\u001b[39m\n",
      " \u001b[90m [4b2f31a3] \u001b[39m\u001b[92m+ Libmount_jll v2.35.0+0\u001b[39m\n",
      " \u001b[90m [89763e89] \u001b[39m\u001b[92m+ Libtiff_jll v4.5.1+1\u001b[39m\n",
      " \u001b[90m [38a345b3] \u001b[39m\u001b[92m+ Libuuid_jll v2.36.0+0\u001b[39m\n",
      " \u001b[90m [e7412a2a] \u001b[39m\u001b[92m+ Ogg_jll v1.3.5+1\u001b[39m\n",
      " \u001b[90m [458c3c95] \u001b[39m\u001b[92m+ OpenSSL_jll v3.0.12+0\u001b[39m\n",
      " \u001b[90m [91d4177d] \u001b[39m\u001b[92m+ Opus_jll v1.3.2+0\u001b[39m\n",
      " \u001b[90m [30392449] \u001b[39m\u001b[92m+ Pixman_jll v0.42.2+0\u001b[39m\n",
      " \u001b[90m [c0090381] \u001b[39m\u001b[92m+ Qt6Base_jll v6.5.3+1\u001b[39m\n",
      " \u001b[90m [a44049a8] \u001b[39m\u001b[92m+ Vulkan_Loader_jll v1.3.243+0\u001b[39m\n",
      " \u001b[90m [a2964d1f] \u001b[39m\u001b[92m+ Wayland_jll v1.21.0+1\u001b[39m\n",
      " \u001b[90m [2381bf8a] \u001b[39m\u001b[92m+ Wayland_protocols_jll v1.25.0+0\u001b[39m\n",
      " \u001b[90m [02c8fc9c] \u001b[39m\u001b[92m+ XML2_jll v2.12.0+0\u001b[39m\n",
      " \u001b[90m [aed1982a] \u001b[39m\u001b[92m+ XSLT_jll v1.1.34+0\u001b[39m\n",
      " \u001b[90m [ffd25f8a] \u001b[39m\u001b[92m+ XZ_jll v5.4.5+0\u001b[39m\n",
      " \u001b[90m [f67eecfb] \u001b[39m\u001b[92m+ Xorg_libICE_jll v1.0.10+1\u001b[39m\n",
      " \u001b[90m [c834827a] \u001b[39m\u001b[92m+ Xorg_libSM_jll v1.2.3+0\u001b[39m\n",
      " \u001b[90m [4f6342f7] \u001b[39m\u001b[92m+ Xorg_libX11_jll v1.8.6+0\u001b[39m\n",
      " \u001b[90m [0c0b7dd1] \u001b[39m\u001b[92m+ Xorg_libXau_jll v1.0.11+0\u001b[39m\n",
      " \u001b[90m [935fb764] \u001b[39m\u001b[92m+ Xorg_libXcursor_jll v1.2.0+4\u001b[39m\n",
      " \u001b[90m [a3789734] \u001b[39m\u001b[92m+ Xorg_libXdmcp_jll v1.1.4+0\u001b[39m\n",
      " \u001b[90m [1082639a] \u001b[39m\u001b[92m+ Xorg_libXext_jll v1.3.4+4\u001b[39m\n",
      " \u001b[90m [d091e8ba] \u001b[39m\u001b[92m+ Xorg_libXfixes_jll v5.0.3+4\u001b[39m\n",
      " \u001b[90m [a51aa0fd] \u001b[39m\u001b[92m+ Xorg_libXi_jll v1.7.10+4\u001b[39m\n",
      " \u001b[90m [d1454406] \u001b[39m\u001b[92m+ Xorg_libXinerama_jll v1.1.4+4\u001b[39m\n",
      " \u001b[90m [ec84b674] \u001b[39m\u001b[92m+ Xorg_libXrandr_jll v1.5.2+4\u001b[39m\n",
      " \u001b[90m [ea2f1a96] \u001b[39m\u001b[92m+ Xorg_libXrender_jll v0.9.10+4\u001b[39m\n",
      " \u001b[90m [14d82f49] \u001b[39m\u001b[92m+ Xorg_libpthread_stubs_jll v0.1.1+0\u001b[39m\n",
      " \u001b[90m [c7cfdc94] \u001b[39m\u001b[92m+ Xorg_libxcb_jll v1.15.0+0\u001b[39m\n",
      " \u001b[90m [cc61e674] \u001b[39m\u001b[92m+ Xorg_libxkbfile_jll v1.1.2+0\u001b[39m\n",
      " \u001b[90m [e920d4aa] \u001b[39m\u001b[92m+ Xorg_xcb_util_cursor_jll v0.1.4+0\u001b[39m\n",
      " \u001b[90m [12413925] \u001b[39m\u001b[92m+ Xorg_xcb_util_image_jll v0.4.0+1\u001b[39m\n",
      " \u001b[90m [2def613f] \u001b[39m\u001b[92m+ Xorg_xcb_util_jll v0.4.0+1\u001b[39m\n",
      " \u001b[90m [975044d2] \u001b[39m\u001b[92m+ Xorg_xcb_util_keysyms_jll v0.4.0+1\u001b[39m\n",
      " \u001b[90m [0d47668e] \u001b[39m\u001b[92m+ Xorg_xcb_util_renderutil_jll v0.3.9+1\u001b[39m\n",
      " \u001b[90m [c22f9ab0] \u001b[39m\u001b[92m+ Xorg_xcb_util_wm_jll v0.4.1+1\u001b[39m\n",
      " \u001b[90m [35661453] \u001b[39m\u001b[92m+ Xorg_xkbcomp_jll v1.4.6+0\u001b[39m\n",
      " \u001b[90m [33bec58e] \u001b[39m\u001b[92m+ Xorg_xkeyboard_config_jll v2.39.0+0\u001b[39m\n",
      " \u001b[90m [c5fb5394] \u001b[39m\u001b[92m+ Xorg_xtrans_jll v1.5.0+0\u001b[39m\n",
      " \u001b[90m [3161d3a3] \u001b[39m\u001b[92m+ Zstd_jll v1.5.5+0\u001b[39m\n",
      " \u001b[90m [35ca27e7] \u001b[39m\u001b[92m+ eudev_jll v3.2.9+0\u001b[39m\n",
      " \u001b[90m [214eeab7] \u001b[39m\u001b[92m+ fzf_jll v0.43.0+0\u001b[39m\n",
      " \u001b[90m [1a1c6b14] \u001b[39m\u001b[92m+ gperf_jll v3.1.1+0\u001b[39m\n",
      " \u001b[90m [a4ae2306] \u001b[39m\u001b[92m+ libaom_jll v3.4.0+0\u001b[39m\n",
      " \u001b[90m [0ac62f75] \u001b[39m\u001b[92m+ libass_jll v0.15.1+0\u001b[39m\n",
      " \u001b[90m [2db6ffa8] \u001b[39m\u001b[92m+ libevdev_jll v1.11.0+0\u001b[39m\n",
      " \u001b[90m [f638f0a6] \u001b[39m\u001b[92m+ libfdk_aac_jll v2.0.2+0\u001b[39m\n",
      " \u001b[90m [36db933b] \u001b[39m\u001b[92m+ libinput_jll v1.18.0+0\u001b[39m\n",
      " \u001b[90m [b53b4c65] \u001b[39m\u001b[92m+ libpng_jll v1.6.38+0\u001b[39m\n",
      " \u001b[90m [f27f6e37] \u001b[39m\u001b[92m+ libvorbis_jll v1.3.7+1\u001b[39m\n",
      " \u001b[90m [009596ad] \u001b[39m\u001b[92m+ mtdev_jll v1.1.6+0\u001b[39m\n",
      " \u001b[90m [1270edf5] \u001b[39m\u001b[92m+ x264_jll v2021.5.5+0\u001b[39m\n",
      " \u001b[90m [dfaa095f] \u001b[39m\u001b[92m+ x265_jll v3.5.0+0\u001b[39m\n",
      " \u001b[90m [d8fb68d0] \u001b[39m\u001b[92m+ xkbcommon_jll v1.4.1+1\u001b[39m\n",
      " \u001b[90m [0dad84c5] \u001b[39m\u001b[92m+ ArgTools v1.1.1\u001b[39m\n",
      " \u001b[90m [56f22d72] \u001b[39m\u001b[92m+ Artifacts\u001b[39m\n",
      " \u001b[90m [2a0f44e3] \u001b[39m\u001b[92m+ Base64\u001b[39m\n",
      " \u001b[90m [ade2ca70] \u001b[39m\u001b[92m+ Dates\u001b[39m\n",
      " \u001b[90m [8bb1440f] \u001b[39m\u001b[92m+ DelimitedFiles\u001b[39m\n",
      " \u001b[90m [f43a241f] \u001b[39m\u001b[92m+ Downloads v1.6.0\u001b[39m\n",
      " \u001b[90m [7b1f6079] \u001b[39m\u001b[92m+ FileWatching\u001b[39m\n",
      " \u001b[90m [9fa8497b] \u001b[39m\u001b[92m+ Future\u001b[39m\n",
      " \u001b[90m [b77e0a4c] \u001b[39m\u001b[92m+ InteractiveUtils\u001b[39m\n",
      " \u001b[90m [b27032c2] \u001b[39m\u001b[92m+ LibCURL v0.6.3\u001b[39m\n",
      " \u001b[90m [76f85450] \u001b[39m\u001b[92m+ LibGit2\u001b[39m\n",
      " \u001b[90m [8f399da3] \u001b[39m\u001b[92m+ Libdl\u001b[39m\n",
      " \u001b[90m [37e2e46d] \u001b[39m\u001b[92m+ LinearAlgebra\u001b[39m\n",
      " \u001b[90m [56ddb016] \u001b[39m\u001b[92m+ Logging\u001b[39m\n",
      " \u001b[90m [d6f4376e] \u001b[39m\u001b[92m+ Markdown\u001b[39m\n",
      " \u001b[90m [a63ad114] \u001b[39m\u001b[92m+ Mmap\u001b[39m\n",
      " \u001b[90m [ca575930] \u001b[39m\u001b[92m+ NetworkOptions v1.2.0\u001b[39m\n",
      " \u001b[90m [44cfe95a] \u001b[39m\u001b[92m+ Pkg v1.8.0\u001b[39m\n",
      " \u001b[90m [de0858da] \u001b[39m\u001b[92m+ Printf\u001b[39m\n",
      " \u001b[90m [3fa0cd96] \u001b[39m\u001b[92m+ REPL\u001b[39m\n",
      " \u001b[90m [9a3f8284] \u001b[39m\u001b[92m+ Random\u001b[39m\n",
      " \u001b[90m [ea8e919c] \u001b[39m\u001b[92m+ SHA v0.7.0\u001b[39m\n",
      " \u001b[90m [9e88b42a] \u001b[39m\u001b[92m+ Serialization\u001b[39m\n",
      " \u001b[90m [6462fe0b] \u001b[39m\u001b[92m+ Sockets\u001b[39m\n",
      " \u001b[90m [2f01184e] \u001b[39m\u001b[92m+ SparseArrays\u001b[39m\n",
      " \u001b[90m [10745b16] \u001b[39m\u001b[92m+ Statistics\u001b[39m\n",
      " \u001b[90m [fa267f1f] \u001b[39m\u001b[92m+ TOML v1.0.0\u001b[39m\n",
      " \u001b[90m [a4e569a6] \u001b[39m\u001b[92m+ Tar v1.10.1\u001b[39m\n",
      " \u001b[90m [8dfed614] \u001b[39m\u001b[92m+ Test\u001b[39m"
     ]
    },
    {
     "name": "stderr",
     "output_type": "stream",
     "text": [
      "\n",
      " \u001b[90m [cf7118a7] \u001b[39m\u001b[92m+ UUIDs\u001b[39m\n",
      " \u001b[90m [4ec0a83e] \u001b[39m\u001b[92m+ Unicode\u001b[39m\n",
      " \u001b[90m [e66e0078] \u001b[39m\u001b[92m+ CompilerSupportLibraries_jll v1.0.1+0\u001b[39m\n",
      " \u001b[90m [deac9b47] \u001b[39m\u001b[92m+ LibCURL_jll v7.84.0+0\u001b[39m\n",
      " \u001b[90m [29816b5a] \u001b[39m\u001b[92m+ LibSSH2_jll v1.10.2+0\u001b[39m\n",
      " \u001b[90m [c8ffd9c3] \u001b[39m\u001b[92m+ MbedTLS_jll v2.28.0+0\u001b[39m\n",
      " \u001b[90m [14a3606d] \u001b[39m\u001b[92m+ MozillaCACerts_jll v2022.2.1\u001b[39m\n",
      " \u001b[90m [4536629a] \u001b[39m\u001b[92m+ OpenBLAS_jll v0.3.20+0\u001b[39m\n",
      " \u001b[90m [05823500] \u001b[39m\u001b[92m+ OpenLibm_jll v0.8.1+0\u001b[39m\n",
      " \u001b[90m [efcefdf7] \u001b[39m\u001b[92m+ PCRE2_jll v10.40.0+0\u001b[39m\n",
      " \u001b[90m [83775a58] \u001b[39m\u001b[92m+ Zlib_jll v1.2.12+3\u001b[39m\n",
      " \u001b[90m [8e850b90] \u001b[39m\u001b[92m+ libblastrampoline_jll v5.1.1+0\u001b[39m\n",
      " \u001b[90m [8e850ede] \u001b[39m\u001b[92m+ nghttp2_jll v1.48.0+0\u001b[39m\n",
      " \u001b[90m [3f19e933] \u001b[39m\u001b[92m+ p7zip_jll v17.4.0+0\u001b[39m\n",
      "\u001b[36m\u001b[1m        Info\u001b[22m\u001b[39m Packages marked with \u001b[33m⌅\u001b[39m have new versions available but compatibility constraints restrict them from upgrading. To see why use `status --outdated -m`\n"
     ]
    }
   ],
   "source": [
    "import Pkg\n",
    "\n",
    "Pkg.activate(\".\")  # activate the environment in the current folder\n",
    "Pkg.instantiate()  # instantiate the packages in the environment"
   ]
  },
  {
   "cell_type": "markdown",
   "metadata": {},
   "source": [
    "### 5.1 DataFrames.jl: a package for data storage and manipulation (e.g. tables)"
   ]
  },
  {
   "cell_type": "code",
   "execution_count": 23,
   "metadata": {},
   "outputs": [],
   "source": [
    "using DataFrames  # use the entire package\n",
    "import DataFrames  # with import, objects from the package should be called as DataFrames.[function]"
   ]
  },
  {
   "attachments": {},
   "cell_type": "markdown",
   "metadata": {},
   "source": [
    "Examples of dataframe: they represent data tables and are very useful for data analysis"
   ]
  },
  {
   "cell_type": "code",
   "execution_count": 24,
   "metadata": {},
   "outputs": [
    {
     "data": {
      "text/html": [
       "<div><div style = \"float: left;\"><span>5×2 DataFrame</span></div><div style = \"clear: both;\"></div></div><div class = \"data-frame\" style = \"overflow-x: scroll;\"><table class = \"data-frame\" style = \"margin-bottom: 6px;\"><thead><tr class = \"header\"><th class = \"rowNumber\" style = \"font-weight: bold; text-align: right;\">Row</th><th style = \"text-align: left;\">quantity</th><th style = \"text-align: left;\">sources</th></tr><tr class = \"subheader headerLastRow\"><th class = \"rowNumber\" style = \"font-weight: bold; text-align: right;\"></th><th title = \"Int64\" style = \"text-align: left;\">Int64</th><th title = \"String\" style = \"text-align: left;\">String</th></tr></thead><tbody><tr><td class = \"rowNumber\" style = \"font-weight: bold; text-align: right;\">1</td><td style = \"text-align: right;\">10</td><td style = \"text-align: left;\">coal</td></tr><tr><td class = \"rowNumber\" style = \"font-weight: bold; text-align: right;\">2</td><td style = \"text-align: right;\">100</td><td style = \"text-align: left;\">oil</td></tr><tr><td class = \"rowNumber\" style = \"font-weight: bold; text-align: right;\">3</td><td style = \"text-align: right;\">1000</td><td style = \"text-align: left;\">solar</td></tr><tr><td class = \"rowNumber\" style = \"font-weight: bold; text-align: right;\">4</td><td style = \"text-align: right;\">50</td><td style = \"text-align: left;\">oil</td></tr><tr><td class = \"rowNumber\" style = \"font-weight: bold; text-align: right;\">5</td><td style = \"text-align: right;\">500</td><td style = \"text-align: left;\">coal</td></tr></tbody></table></div>"
      ],
      "text/latex": [
       "\\begin{tabular}{r|cc}\n",
       "\t& quantity & sources\\\\\n",
       "\t\\hline\n",
       "\t& Int64 & String\\\\\n",
       "\t\\hline\n",
       "\t1 & 10 & coal \\\\\n",
       "\t2 & 100 & oil \\\\\n",
       "\t3 & 1000 & solar \\\\\n",
       "\t4 & 50 & oil \\\\\n",
       "\t5 & 500 & coal \\\\\n",
       "\\end{tabular}\n"
      ],
      "text/plain": [
       "\u001b[1m5×2 DataFrame\u001b[0m\n",
       "\u001b[1m Row \u001b[0m│\u001b[1m quantity \u001b[0m\u001b[1m sources \u001b[0m\n",
       "     │\u001b[90m Int64    \u001b[0m\u001b[90m String  \u001b[0m\n",
       "─────┼───────────────────\n",
       "   1 │       10  coal\n",
       "   2 │      100  oil\n",
       "   3 │     1000  solar\n",
       "   4 │       50  oil\n",
       "   5 │      500  coal"
      ]
     },
     "metadata": {},
     "output_type": "display_data"
    }
   ],
   "source": [
    "data = Dict(\n",
    "    \"sources\" => [\"coal\", \"oil\", \"solar\", \"oil\", \"coal\"],\n",
    "    \"quantity\" => [10, 100, 1000, 50, 500],\n",
    ")\n",
    "\n",
    "df = DataFrame(data)\n",
    "df"
   ]
  },
  {
   "attachments": {},
   "cell_type": "markdown",
   "metadata": {},
   "source": [
    "get the first row"
   ]
  },
  {
   "cell_type": "code",
   "execution_count": 25,
   "metadata": {},
   "outputs": [
    {
     "data": {
      "text/html": [
       "<div><div style = \"float: left;\"><span>DataFrameRow (2 columns)</span></div><div style = \"clear: both;\"></div></div><div class = \"data-frame\" style = \"overflow-x: scroll;\"><table class = \"data-frame\" style = \"margin-bottom: 6px;\"><thead><tr class = \"header\"><th class = \"rowLabel\" style = \"font-weight: bold; text-align: right;\">Row</th><th style = \"text-align: left;\">quantity</th><th style = \"text-align: left;\">sources</th></tr><tr class = \"subheader headerLastRow\"><th class = \"rowLabel\" style = \"font-weight: bold; text-align: right;\"></th><th title = \"Int64\" style = \"text-align: left;\">Int64</th><th title = \"String\" style = \"text-align: left;\">String</th></tr></thead><tbody><tr><td class = \"rowLabel\" style = \"font-weight: bold; text-align: right;\">1</td><td style = \"text-align: right;\">10</td><td style = \"text-align: left;\">coal</td></tr></tbody></table></div>"
      ],
      "text/latex": [
       "\\begin{tabular}{r|cc}\n",
       "\t& quantity & sources\\\\\n",
       "\t\\hline\n",
       "\t& Int64 & String\\\\\n",
       "\t\\hline\n",
       "\t1 & 10 & coal \\\\\n",
       "\\end{tabular}\n"
      ],
      "text/plain": [
       "\u001b[1mDataFrameRow\u001b[0m\n",
       "\u001b[1m Row \u001b[0m│\u001b[1m quantity \u001b[0m\u001b[1m sources \u001b[0m\n",
       "     │\u001b[90m Int64    \u001b[0m\u001b[90m String  \u001b[0m\n",
       "─────┼───────────────────\n",
       "   1 │       10  coal"
      ]
     },
     "metadata": {},
     "output_type": "display_data"
    }
   ],
   "source": [
    "df[1, :]"
   ]
  },
  {
   "attachments": {},
   "cell_type": "markdown",
   "metadata": {},
   "source": [
    "get the first column"
   ]
  },
  {
   "cell_type": "code",
   "execution_count": 26,
   "metadata": {},
   "outputs": [
    {
     "data": {
      "text/plain": [
       "5-element Vector{Int64}:\n",
       "   10\n",
       "  100\n",
       " 1000\n",
       "   50\n",
       "  500"
      ]
     },
     "metadata": {},
     "output_type": "display_data"
    }
   ],
   "source": [
    "df[!, 1]"
   ]
  },
  {
   "attachments": {},
   "cell_type": "markdown",
   "metadata": {},
   "source": [
    "Note: with respect to python it is not possible to set arbitrary indeces, but getting the desired index is easy"
   ]
  },
  {
   "cell_type": "code",
   "execution_count": 27,
   "metadata": {},
   "outputs": [
    {
     "data": {
      "text/html": [
       "<div><div style = \"float: left;\"><span>2×2 DataFrame</span></div><div style = \"clear: both;\"></div></div><div class = \"data-frame\" style = \"overflow-x: scroll;\"><table class = \"data-frame\" style = \"margin-bottom: 6px;\"><thead><tr class = \"header\"><th class = \"rowNumber\" style = \"font-weight: bold; text-align: right;\">Row</th><th style = \"text-align: left;\">quantity</th><th style = \"text-align: left;\">sources</th></tr><tr class = \"subheader headerLastRow\"><th class = \"rowNumber\" style = \"font-weight: bold; text-align: right;\"></th><th title = \"Int64\" style = \"text-align: left;\">Int64</th><th title = \"String\" style = \"text-align: left;\">String</th></tr></thead><tbody><tr><td class = \"rowNumber\" style = \"font-weight: bold; text-align: right;\">1</td><td style = \"text-align: right;\">10</td><td style = \"text-align: left;\">coal</td></tr><tr><td class = \"rowNumber\" style = \"font-weight: bold; text-align: right;\">2</td><td style = \"text-align: right;\">500</td><td style = \"text-align: left;\">coal</td></tr></tbody></table></div>"
      ],
      "text/latex": [
       "\\begin{tabular}{r|cc}\n",
       "\t& quantity & sources\\\\\n",
       "\t\\hline\n",
       "\t& Int64 & String\\\\\n",
       "\t\\hline\n",
       "\t1 & 10 & coal \\\\\n",
       "\t2 & 500 & coal \\\\\n",
       "\\end{tabular}\n"
      ],
      "text/plain": [
       "\u001b[1m2×2 DataFrame\u001b[0m\n",
       "\u001b[1m Row \u001b[0m│\u001b[1m quantity \u001b[0m\u001b[1m sources \u001b[0m\n",
       "     │\u001b[90m Int64    \u001b[0m\u001b[90m String  \u001b[0m\n",
       "─────┼───────────────────\n",
       "   1 │       10  coal\n",
       "   2 │      500  coal"
      ]
     },
     "metadata": {},
     "output_type": "display_data"
    }
   ],
   "source": [
    "df[df[!, \"sources\"] .== \"coal\", :]"
   ]
  },
  {
   "attachments": {},
   "cell_type": "markdown",
   "metadata": {},
   "source": [
    "An example on how to apply functions on dataframes"
   ]
  },
  {
   "cell_type": "code",
   "execution_count": 28,
   "metadata": {},
   "outputs": [
    {
     "data": {
      "text/plain": [
       "1660"
      ]
     },
     "metadata": {},
     "output_type": "display_data"
    }
   ],
   "source": [
    "sum(df[!, \"quantity\"])"
   ]
  },
  {
   "cell_type": "markdown",
   "metadata": {},
   "source": [
    "It is possible to apply advanced functions to create statistics easily and better investigate the data.\n",
    "\n",
    "For more, plese [see this link](https://juliadatascience.io/groupby_combine)"
   ]
  },
  {
   "cell_type": "code",
   "execution_count": 29,
   "metadata": {},
   "outputs": [
    {
     "data": {
      "text/html": [
       "<div><div style = \"float: left;\"><span>3×2 DataFrame</span></div><div style = \"clear: both;\"></div></div><div class = \"data-frame\" style = \"overflow-x: scroll;\"><table class = \"data-frame\" style = \"margin-bottom: 6px;\"><thead><tr class = \"header\"><th class = \"rowNumber\" style = \"font-weight: bold; text-align: right;\">Row</th><th style = \"text-align: left;\">sources</th><th style = \"text-align: left;\">quantity_sum</th></tr><tr class = \"subheader headerLastRow\"><th class = \"rowNumber\" style = \"font-weight: bold; text-align: right;\"></th><th title = \"String\" style = \"text-align: left;\">String</th><th title = \"Int64\" style = \"text-align: left;\">Int64</th></tr></thead><tbody><tr><td class = \"rowNumber\" style = \"font-weight: bold; text-align: right;\">1</td><td style = \"text-align: left;\">coal</td><td style = \"text-align: right;\">510</td></tr><tr><td class = \"rowNumber\" style = \"font-weight: bold; text-align: right;\">2</td><td style = \"text-align: left;\">oil</td><td style = \"text-align: right;\">150</td></tr><tr><td class = \"rowNumber\" style = \"font-weight: bold; text-align: right;\">3</td><td style = \"text-align: left;\">solar</td><td style = \"text-align: right;\">1000</td></tr></tbody></table></div>"
      ],
      "text/latex": [
       "\\begin{tabular}{r|cc}\n",
       "\t& sources & quantity\\_sum\\\\\n",
       "\t\\hline\n",
       "\t& String & Int64\\\\\n",
       "\t\\hline\n",
       "\t1 & coal & 510 \\\\\n",
       "\t2 & oil & 150 \\\\\n",
       "\t3 & solar & 1000 \\\\\n",
       "\\end{tabular}\n"
      ],
      "text/plain": [
       "\u001b[1m3×2 DataFrame\u001b[0m\n",
       "\u001b[1m Row \u001b[0m│\u001b[1m sources \u001b[0m\u001b[1m quantity_sum \u001b[0m\n",
       "     │\u001b[90m String  \u001b[0m\u001b[90m Int64        \u001b[0m\n",
       "─────┼───────────────────────\n",
       "   1 │ coal              510\n",
       "   2 │ oil               150\n",
       "   3 │ solar            1000"
      ]
     },
     "metadata": {},
     "output_type": "display_data"
    }
   ],
   "source": [
    "# calculate the sum of the quantity for each source\n",
    "gdf = groupby(df, :sources)\n",
    "combine(gdf, :quantity => sum)"
   ]
  }
 ],
 "metadata": {
  "kernelspec": {
   "display_name": "Julia 1.8.5",
   "language": "julia",
   "name": "julia-1.8"
  },
  "language_info": {
   "file_extension": ".jl",
   "mimetype": "application/julia",
   "name": "julia",
   "version": "1.8.5"
  },
  "orig_nbformat": 4,
  "vscode": {
   "interpreter": {
    "hash": "c911838deca95b70c357598f2c33026ecf69b7da04a9af606fe9d881309e8203"
   }
  }
 },
 "nbformat": 4,
 "nbformat_minor": 2
}
